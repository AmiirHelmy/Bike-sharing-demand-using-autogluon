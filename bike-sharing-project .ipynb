{
 "cells": [
  {
   "cell_type": "markdown",
   "metadata": {},
   "source": [
    "# Predict Bike Sharing Demand with AutoGluon Template"
   ]
  },
  {
   "cell_type": "markdown",
   "metadata": {},
   "source": [
    "### Install packages"
   ]
  },
  {
   "cell_type": "code",
   "execution_count": 11,
   "metadata": {
    "collapsed": true,
    "execution": {
     "iopub.execute_input": "2022-07-13T17:30:19.775331Z",
     "iopub.status.busy": "2022-07-13T17:30:19.774749Z",
     "iopub.status.idle": "2022-07-13T17:32:41.862150Z",
     "shell.execute_reply": "2022-07-13T17:32:41.860171Z",
     "shell.execute_reply.started": "2022-07-13T17:30:19.775287Z"
    },
    "jupyter": {
     "outputs_hidden": true
    }
   },
   "outputs": [],
   "source": [
    "!pip install -U pip\n",
    "!pip install -U setuptools wheel\n",
    "!pip install -U \"mxnet<2.0.0\" bokeh==2.0.1\n",
    "!pip install autogluon --no-cache-dir\n",
    "# Without --no-cache-dir, smaller aws instances may have trouble installing"
   ]
  },
  {
   "cell_type": "markdown",
   "metadata": {},
   "source": [
    "### Download dataset"
   ]
  },
  {
   "cell_type": "markdown",
   "metadata": {},
   "source": [
    "### Setup Kaggle API Key\n"
   ]
  },
  {
   "cell_type": "code",
   "execution_count": 12,
   "metadata": {
    "execution": {
     "iopub.execute_input": "2022-07-13T17:32:41.866467Z",
     "iopub.status.busy": "2022-07-13T17:32:41.865350Z",
     "iopub.status.idle": "2022-07-13T17:32:44.266749Z",
     "shell.execute_reply": "2022-07-13T17:32:44.265168Z",
     "shell.execute_reply.started": "2022-07-13T17:32:41.866422Z"
    }
   },
   "outputs": [],
   "source": [
    "# create the .kaggle directory and an empty kaggle.json file\n",
    "!mkdir -p /root/.kaggle\n",
    "!touch /root/.kaggle/kaggle.json\n",
    "!chmod 600 /root/.kaggle/kaggle.json"
   ]
  },
  {
   "cell_type": "code",
   "execution_count": 13,
   "metadata": {
    "execution": {
     "iopub.execute_input": "2022-07-13T17:32:44.270424Z",
     "iopub.status.busy": "2022-07-13T17:32:44.269335Z",
     "iopub.status.idle": "2022-07-13T17:32:44.278830Z",
     "shell.execute_reply": "2022-07-13T17:32:44.277893Z",
     "shell.execute_reply.started": "2022-07-13T17:32:44.270368Z"
    }
   },
   "outputs": [],
   "source": [
    "# Fill in your user name and key from creating the kaggle account and API token file\n",
    "import json\n",
    "kaggle_username = \"amirhelmy\"\n",
    "kaggle_key = \"21e0ff4904a671ef59640f134d66b324\"\n",
    "\n",
    "# Save API token the kaggle.json file\n",
    "with open(\"/root/.kaggle/kaggle.json\", \"w\") as f:\n",
    "    f.write(json.dumps({\"username\": kaggle_username, \"key\": kaggle_key}))"
   ]
  },
  {
   "cell_type": "code",
   "execution_count": 14,
   "metadata": {
    "execution": {
     "iopub.execute_input": "2022-07-13T17:32:44.283074Z",
     "iopub.status.busy": "2022-07-13T17:32:44.281828Z",
     "iopub.status.idle": "2022-07-13T17:32:47.446633Z",
     "shell.execute_reply": "2022-07-13T17:32:47.445582Z",
     "shell.execute_reply.started": "2022-07-13T17:32:44.283025Z"
    }
   },
   "outputs": [],
   "source": [
    "# Download the dataset, it will be in a .zip file so you'll need to unzip it as well.\n",
    "!kaggle competitions download -c bike-sharing-demand\n",
    "# If you already downloaded it you can use the -o command to overwrite the file\n",
    "!unzip -o bike-sharing-demand.zip"
   ]
  },
  {
   "cell_type": "code",
   "execution_count": 15,
   "metadata": {
    "execution": {
     "iopub.execute_input": "2022-07-13T17:32:47.448397Z",
     "iopub.status.busy": "2022-07-13T17:32:47.448029Z",
     "iopub.status.idle": "2022-07-13T17:32:48.860143Z",
     "shell.execute_reply": "2022-07-13T17:32:48.859107Z",
     "shell.execute_reply.started": "2022-07-13T17:32:47.448365Z"
    }
   },
   "outputs": [],
   "source": [
    "import pandas as pd\n",
    "import matplotlib.pyplot as plt\n",
    "import seaborn as sns\n",
    "from autogluon.tabular import TabularPredictor"
   ]
  },
  {
   "cell_type": "markdown",
   "metadata": {},
   "source": [
    "### Explore dataset"
   ]
  },
  {
   "cell_type": "code",
   "execution_count": 16,
   "metadata": {
    "execution": {
     "iopub.execute_input": "2022-07-13T17:32:48.862496Z",
     "iopub.status.busy": "2022-07-13T17:32:48.861845Z",
     "iopub.status.idle": "2022-07-13T17:32:49.244692Z",
     "shell.execute_reply": "2022-07-13T17:32:49.243591Z",
     "shell.execute_reply.started": "2022-07-13T17:32:48.862457Z"
    }
   },
   "outputs": [],
   "source": [
    "# Create the train dataset in pandas by reading the csv\n",
    "train = pd.read_csv(\"./train.csv\")\n",
    "print(train.shape)\n",
    "train.head()"
   ]
  },
  {
   "cell_type": "markdown",
   "metadata": {},
   "source": [
    "As we can see the dataframe consists of 10886 rows and 12 columns.\n",
    "The columns here \"Features\" explaning the date and time of each ride, the weather conditions and if the customer is registered in the company or not."
   ]
  },
  {
   "cell_type": "code",
   "execution_count": 17,
   "metadata": {
    "execution": {
     "iopub.execute_input": "2022-07-13T17:32:49.246673Z",
     "iopub.status.busy": "2022-07-13T17:32:49.246077Z",
     "iopub.status.idle": "2022-07-13T17:32:49.271804Z",
     "shell.execute_reply": "2022-07-13T17:32:49.270329Z",
     "shell.execute_reply.started": "2022-07-13T17:32:49.246641Z"
    }
   },
   "outputs": [],
   "source": [
    "# Set the parsing of the datetime column so we can use some of the `dt` features in pandas later\n",
    "train[\"datetime\"] = pd.to_datetime(train[\"datetime\"])\n",
    "\n",
    "# Sanity check \n",
    "train.info()"
   ]
  },
  {
   "cell_type": "markdown",
   "metadata": {
    "execution": {
     "iopub.execute_input": "2022-07-12T21:01:19.086519Z",
     "iopub.status.busy": "2022-07-12T21:01:19.086119Z",
     "iopub.status.idle": "2022-07-12T21:01:19.096331Z",
     "shell.execute_reply": "2022-07-12T21:01:19.094781Z",
     "shell.execute_reply.started": "2022-07-12T21:01:19.086488Z"
    }
   },
   "source": [
    "The \"datetime\" columns successfully changed to **datetime** type column."
   ]
  },
  {
   "cell_type": "code",
   "execution_count": 18,
   "metadata": {
    "execution": {
     "iopub.execute_input": "2022-07-13T17:32:49.273595Z",
     "iopub.status.busy": "2022-07-13T17:32:49.273280Z",
     "iopub.status.idle": "2022-07-13T17:32:49.329684Z",
     "shell.execute_reply": "2022-07-13T17:32:49.328457Z",
     "shell.execute_reply.started": "2022-07-13T17:32:49.273567Z"
    }
   },
   "outputs": [],
   "source": [
    "# Simple output of the train dataset to view some of the min/max/varition of the dataset features.\n",
    "train.describe()"
   ]
  },
  {
   "cell_type": "code",
   "execution_count": 19,
   "metadata": {
    "execution": {
     "iopub.execute_input": "2022-07-13T17:32:49.332333Z",
     "iopub.status.busy": "2022-07-13T17:32:49.331585Z",
     "iopub.status.idle": "2022-07-13T17:32:49.368384Z",
     "shell.execute_reply": "2022-07-13T17:32:49.367048Z",
     "shell.execute_reply.started": "2022-07-13T17:32:49.332284Z"
    }
   },
   "outputs": [],
   "source": [
    "# Create the test pandas dataframe in pandas by reading the csv, remember to parse the datetime!\n",
    "test = pd.read_csv(\"./test.csv\")\n",
    "print(test.shape)\n",
    "test.head()"
   ]
  },
  {
   "cell_type": "code",
   "execution_count": 20,
   "metadata": {
    "execution": {
     "iopub.execute_input": "2022-07-13T17:32:49.373950Z",
     "iopub.status.busy": "2022-07-13T17:32:49.372813Z",
     "iopub.status.idle": "2022-07-13T17:32:49.392415Z",
     "shell.execute_reply": "2022-07-13T17:32:49.390668Z",
     "shell.execute_reply.started": "2022-07-13T17:32:49.373899Z"
    }
   },
   "outputs": [],
   "source": [
    "# Set the parsing of the datetime column so we can use some of the `dt` features in pandas later\n",
    "test[\"datetime\"] = pd.to_datetime(test[\"datetime\"])\n",
    "\n",
    "# Sanity check \n",
    "test.info()"
   ]
  },
  {
   "cell_type": "code",
   "execution_count": 21,
   "metadata": {
    "execution": {
     "iopub.execute_input": "2022-07-13T17:32:49.395001Z",
     "iopub.status.busy": "2022-07-13T17:32:49.394110Z",
     "iopub.status.idle": "2022-07-13T17:32:49.414601Z",
     "shell.execute_reply": "2022-07-13T17:32:49.413242Z",
     "shell.execute_reply.started": "2022-07-13T17:32:49.394952Z"
    }
   },
   "outputs": [],
   "source": [
    "# Same thing as train and test dataset\n",
    "submission = pd.read_csv(\"./sampleSubmission.csv\")\n",
    "submission.head()"
   ]
  },
  {
   "cell_type": "markdown",
   "metadata": {},
   "source": [
    "## Step 3: Train a model using AutoGluon’s Tabular Prediction"
   ]
  },
  {
   "cell_type": "markdown",
   "metadata": {},
   "source": [
    "Requirements:\n",
    "* We are prediting `count`, so it is the label we are setting.\n",
    "* Ignore `casual` and `registered` columns as they are also not present in the test dataset. \n",
    "* Use the `root_mean_squared_error` as the metric to use for evaluation.\n",
    "* Set a time limit of 10 minutes (600 seconds).\n",
    "* Use the preset `best_quality` to focus on creating the best model."
   ]
  },
  {
   "cell_type": "code",
   "execution_count": 22,
   "metadata": {
    "execution": {
     "iopub.execute_input": "2022-07-13T17:32:49.417256Z",
     "iopub.status.busy": "2022-07-13T17:32:49.416501Z",
     "iopub.status.idle": "2022-07-13T17:32:49.425876Z",
     "shell.execute_reply": "2022-07-13T17:32:49.424980Z",
     "shell.execute_reply.started": "2022-07-13T17:32:49.417207Z"
    }
   },
   "outputs": [],
   "source": [
    "# Ingnoring \"causal\" and \"registered\" columns as the dont exist in the test data set\n",
    "train = train.drop([\"casual\", \"registered\"], axis=1)"
   ]
  },
  {
   "cell_type": "code",
   "execution_count": 23,
   "metadata": {
    "execution": {
     "iopub.execute_input": "2022-07-13T17:32:49.428406Z",
     "iopub.status.busy": "2022-07-13T17:32:49.427646Z",
     "iopub.status.idle": "2022-07-13T17:32:49.443006Z",
     "shell.execute_reply": "2022-07-13T17:32:49.441721Z",
     "shell.execute_reply.started": "2022-07-13T17:32:49.428360Z"
    }
   },
   "outputs": [],
   "source": [
    "train.shape"
   ]
  },
  {
   "cell_type": "code",
   "execution_count": 24,
   "metadata": {
    "collapsed": true,
    "execution": {
     "iopub.execute_input": "2022-07-13T17:32:49.446609Z",
     "iopub.status.busy": "2022-07-13T17:32:49.446197Z",
     "iopub.status.idle": "2022-07-13T17:42:52.426543Z",
     "shell.execute_reply": "2022-07-13T17:42:52.424886Z",
     "shell.execute_reply.started": "2022-07-13T17:32:49.446566Z"
    },
    "jupyter": {
     "outputs_hidden": true
    }
   },
   "outputs": [],
   "source": [
    "predictor = TabularPredictor(label=\"count\").fit(train_data=train, time_limit=600, presets=\"best_quality\")"
   ]
  },
  {
   "cell_type": "markdown",
   "metadata": {},
   "source": [
    "### Review AutoGluon's training run with ranking of models that did the best."
   ]
  },
  {
   "cell_type": "code",
   "execution_count": 25,
   "metadata": {
    "collapsed": true,
    "execution": {
     "iopub.execute_input": "2022-07-13T17:42:52.430950Z",
     "iopub.status.busy": "2022-07-13T17:42:52.429939Z",
     "iopub.status.idle": "2022-07-13T17:42:52.660412Z",
     "shell.execute_reply": "2022-07-13T17:42:52.659140Z",
     "shell.execute_reply.started": "2022-07-13T17:42:52.430895Z"
    },
    "jupyter": {
     "outputs_hidden": true
    }
   },
   "outputs": [],
   "source": [
    "predictor.fit_summary()"
   ]
  },
  {
   "cell_type": "markdown",
   "metadata": {},
   "source": [
    "### Create predictions from test dataset"
   ]
  },
  {
   "cell_type": "code",
   "execution_count": 26,
   "metadata": {
    "execution": {
     "iopub.execute_input": "2022-07-13T17:42:52.662801Z",
     "iopub.status.busy": "2022-07-13T17:42:52.661972Z",
     "iopub.status.idle": "2022-07-13T17:43:14.279038Z",
     "shell.execute_reply": "2022-07-13T17:43:14.277750Z",
     "shell.execute_reply.started": "2022-07-13T17:42:52.662751Z"
    }
   },
   "outputs": [],
   "source": [
    "predictions = pd.Series(predictor.predict(test))"
   ]
  },
  {
   "cell_type": "code",
   "execution_count": 27,
   "metadata": {
    "execution": {
     "iopub.execute_input": "2022-07-13T17:43:14.281394Z",
     "iopub.status.busy": "2022-07-13T17:43:14.280660Z",
     "iopub.status.idle": "2022-07-13T17:43:14.294030Z",
     "shell.execute_reply": "2022-07-13T17:43:14.292321Z",
     "shell.execute_reply.started": "2022-07-13T17:43:14.281358Z"
    }
   },
   "outputs": [],
   "source": [
    "predictions.head()"
   ]
  },
  {
   "cell_type": "markdown",
   "metadata": {},
   "source": [
    "#### NOTE: Kaggle will reject the submission if we don't set everything to be > 0."
   ]
  },
  {
   "cell_type": "code",
   "execution_count": 28,
   "metadata": {
    "execution": {
     "iopub.execute_input": "2022-07-13T17:43:14.298256Z",
     "iopub.status.busy": "2022-07-13T17:43:14.297814Z",
     "iopub.status.idle": "2022-07-13T17:43:14.311434Z",
     "shell.execute_reply": "2022-07-13T17:43:14.309997Z",
     "shell.execute_reply.started": "2022-07-13T17:43:14.298208Z"
    }
   },
   "outputs": [],
   "source": [
    "# Describe the `predictions` series to see if there are any negative values\n",
    "predictions.describe()"
   ]
  },
  {
   "cell_type": "code",
   "execution_count": 29,
   "metadata": {
    "execution": {
     "iopub.execute_input": "2022-07-13T17:43:14.313938Z",
     "iopub.status.busy": "2022-07-13T17:43:14.313450Z",
     "iopub.status.idle": "2022-07-13T17:43:14.324725Z",
     "shell.execute_reply": "2022-07-13T17:43:14.323322Z",
     "shell.execute_reply.started": "2022-07-13T17:43:14.313893Z"
    }
   },
   "outputs": [],
   "source": [
    "# How many negative values do we have?\n",
    "print(\"We have {} negative values\".format(len(predictions[predictions < 0])))"
   ]
  },
  {
   "cell_type": "code",
   "execution_count": 23,
   "metadata": {
    "execution": {
     "iopub.execute_input": "2022-07-13T13:19:43.250131Z",
     "iopub.status.busy": "2022-07-13T13:19:43.249801Z",
     "iopub.status.idle": "2022-07-13T13:19:43.274484Z",
     "shell.execute_reply": "2022-07-13T13:19:43.273331Z",
     "shell.execute_reply.started": "2022-07-13T13:19:43.250097Z"
    }
   },
   "outputs": [],
   "source": [
    "submission[\"count\"] = predictions\n",
    "# Set them to zero\n",
    "submission[\"count\"] = submission[\"count\"].apply(lambda x : 0 if (x < 0 ) else x)\n",
    "submission.head()"
   ]
  },
  {
   "cell_type": "markdown",
   "metadata": {},
   "source": [
    "### Set predictions to submission dataframe, save, and submit"
   ]
  },
  {
   "cell_type": "code",
   "execution_count": 24,
   "metadata": {
    "execution": {
     "iopub.execute_input": "2022-07-13T13:19:43.276902Z",
     "iopub.status.busy": "2022-07-13T13:19:43.276400Z",
     "iopub.status.idle": "2022-07-13T13:19:43.310768Z",
     "shell.execute_reply": "2022-07-13T13:19:43.309359Z",
     "shell.execute_reply.started": "2022-07-13T13:19:43.276864Z"
    }
   },
   "outputs": [],
   "source": [
    "submission.to_csv(\"submission.csv\", index=False)"
   ]
  },
  {
   "cell_type": "code",
   "execution_count": 27,
   "metadata": {
    "execution": {
     "iopub.execute_input": "2022-07-13T13:20:54.685891Z",
     "iopub.status.busy": "2022-07-13T13:20:54.685394Z",
     "iopub.status.idle": "2022-07-13T13:20:57.351520Z",
     "shell.execute_reply": "2022-07-13T13:20:57.350199Z",
     "shell.execute_reply.started": "2022-07-13T13:20:54.685856Z"
    }
   },
   "outputs": [],
   "source": [
    "!kaggle competitions submit -c bike-sharing-demand -f submission.csv -m \"first raw submission\""
   ]
  },
  {
   "cell_type": "markdown",
   "metadata": {},
   "source": [
    "#### View submission via the command line or in the web browser under the competition's page - `My Submissions`"
   ]
  },
  {
   "cell_type": "code",
   "execution_count": 28,
   "metadata": {
    "execution": {
     "iopub.execute_input": "2022-07-13T13:20:59.834051Z",
     "iopub.status.busy": "2022-07-13T13:20:59.833630Z",
     "iopub.status.idle": "2022-07-13T13:21:01.351038Z",
     "shell.execute_reply": "2022-07-13T13:21:01.349503Z",
     "shell.execute_reply.started": "2022-07-13T13:20:59.834018Z"
    }
   },
   "outputs": [],
   "source": [
    "!kaggle competitions submissions -c bike-sharing-demand | tail -n +1 | head -n 6"
   ]
  },
  {
   "cell_type": "markdown",
   "metadata": {},
   "source": [
    "#### Initial score of 1.80657      "
   ]
  },
  {
   "cell_type": "markdown",
   "metadata": {},
   "source": [
    "## Step 4: Exploratory Data Analysis and Creating an additional feature\n"
   ]
  },
  {
   "cell_type": "code",
   "execution_count": 30,
   "metadata": {
    "execution": {
     "iopub.execute_input": "2022-07-13T17:43:14.326603Z",
     "iopub.status.busy": "2022-07-13T17:43:14.326203Z",
     "iopub.status.idle": "2022-07-13T17:43:15.900333Z",
     "shell.execute_reply": "2022-07-13T17:43:15.898950Z",
     "shell.execute_reply.started": "2022-07-13T17:43:14.326570Z"
    }
   },
   "outputs": [],
   "source": [
    "# Create a histogram of all features to show the distribution of each one relative to the data. This is part of the exploritory data analysis\n",
    "fig = plt.figure(figsize=(10,10))\n",
    "ax = fig.gca()\n",
    "train.hist(ax=ax)\n",
    "plt.show();"
   ]
  },
  {
   "cell_type": "markdown",
   "metadata": {},
   "source": [
    "### Findings from the plot above:\n",
    "- We can extract time of the day hour and month from datetime column. \n",
    "- The four seasons have are perfetly balanced with each others, there is no season more that the other.\n",
    "- There are some features that needs to be with a categoey type such as \"season\" and \"weather\" .\n",
    "- Our target column \"count\" is right-skewed, it ranges from 0 to almost 1000, but the values are centered under 250.\n"
   ]
  },
  {
   "cell_type": "code",
   "execution_count": 31,
   "metadata": {
    "execution": {
     "iopub.execute_input": "2022-07-13T17:43:15.902841Z",
     "iopub.status.busy": "2022-07-13T17:43:15.902123Z",
     "iopub.status.idle": "2022-07-13T17:43:15.921951Z",
     "shell.execute_reply": "2022-07-13T17:43:15.920204Z",
     "shell.execute_reply.started": "2022-07-13T17:43:15.902790Z"
    }
   },
   "outputs": [],
   "source": [
    "# create a new features from datetime on train dataset\n",
    "train[\"hour\"] = train[\"datetime\"].dt.hour\n",
    "train[\"day\"] = train[\"datetime\"].dt.day\n",
    "train[\"month\"] = train[\"datetime\"].dt.month\n",
    "\n",
    "# create a new features from datetime on test dataset\n",
    "test[\"hour\"] = test[\"datetime\"].dt.hour\n",
    "test[\"day\"] = test[\"datetime\"].dt.day\n",
    "test[\"month\"] = test[\"datetime\"].dt.month"
   ]
  },
  {
   "cell_type": "code",
   "execution_count": 32,
   "metadata": {
    "execution": {
     "iopub.execute_input": "2022-07-13T17:43:15.924765Z",
     "iopub.status.busy": "2022-07-13T17:43:15.923967Z",
     "iopub.status.idle": "2022-07-13T17:43:15.941291Z",
     "shell.execute_reply": "2022-07-13T17:43:15.940129Z",
     "shell.execute_reply.started": "2022-07-13T17:43:15.924721Z"
    }
   },
   "outputs": [],
   "source": [
    "# Sanity check\n",
    "train.head(2)"
   ]
  },
  {
   "cell_type": "markdown",
   "metadata": {},
   "source": [
    "## Make category types "
   ]
  },
  {
   "cell_type": "code",
   "execution_count": 33,
   "metadata": {
    "execution": {
     "iopub.execute_input": "2022-07-13T17:43:15.945082Z",
     "iopub.status.busy": "2022-07-13T17:43:15.943699Z",
     "iopub.status.idle": "2022-07-13T17:43:15.960785Z",
     "shell.execute_reply": "2022-07-13T17:43:15.959847Z",
     "shell.execute_reply.started": "2022-07-13T17:43:15.944942Z"
    }
   },
   "outputs": [],
   "source": [
    "train[\"season\"]  = train[\"season\"].astype(\"category\")\n",
    "train[\"weather\"] = train[\"weather\"].astype(\"category\")\n",
    "test[\"season\"]   = test[\"season\"] .astype(\"category\")\n",
    "test[\"weather\"]  = test[\"weather\"].astype(\"category\")"
   ]
  },
  {
   "cell_type": "code",
   "execution_count": 34,
   "metadata": {
    "execution": {
     "iopub.execute_input": "2022-07-13T17:43:15.963007Z",
     "iopub.status.busy": "2022-07-13T17:43:15.962145Z",
     "iopub.status.idle": "2022-07-13T17:43:17.351361Z",
     "shell.execute_reply": "2022-07-13T17:43:17.349616Z",
     "shell.execute_reply.started": "2022-07-13T17:43:15.962971Z"
    }
   },
   "outputs": [],
   "source": [
    "# View histogram of all features again now with the hour feature\n",
    "fig = plt.figure(figsize=(10,10))\n",
    "ax = fig.gca()\n",
    "train.hist(ax=ax)\n",
    "plt.show();"
   ]
  },
  {
   "cell_type": "markdown",
   "metadata": {},
   "source": [
    "## Step 5: Rerun the model with the same settings as before, just with more features"
   ]
  },
  {
   "cell_type": "code",
   "execution_count": 35,
   "metadata": {
    "collapsed": true,
    "execution": {
     "iopub.execute_input": "2022-07-13T17:43:17.353964Z",
     "iopub.status.busy": "2022-07-13T17:43:17.353241Z",
     "iopub.status.idle": "2022-07-13T17:53:31.769010Z",
     "shell.execute_reply": "2022-07-13T17:53:31.767717Z",
     "shell.execute_reply.started": "2022-07-13T17:43:17.353912Z"
    },
    "jupyter": {
     "outputs_hidden": true
    }
   },
   "outputs": [],
   "source": [
    "predictor_new_features = TabularPredictor(label=\"count\").fit(train_data=train, time_limit=600, presets=\"best_quality\")"
   ]
  },
  {
   "cell_type": "code",
   "execution_count": 36,
   "metadata": {
    "collapsed": true,
    "execution": {
     "iopub.execute_input": "2022-07-13T17:53:31.775574Z",
     "iopub.status.busy": "2022-07-13T17:53:31.771288Z",
     "iopub.status.idle": "2022-07-13T17:53:31.914722Z",
     "shell.execute_reply": "2022-07-13T17:53:31.913529Z",
     "shell.execute_reply.started": "2022-07-13T17:53:31.775516Z"
    },
    "jupyter": {
     "outputs_hidden": true
    }
   },
   "outputs": [],
   "source": [
    "predictor_new_features.fit_summary()"
   ]
  },
  {
   "cell_type": "code",
   "execution_count": 37,
   "metadata": {
    "execution": {
     "iopub.execute_input": "2022-07-13T17:53:31.917356Z",
     "iopub.status.busy": "2022-07-13T17:53:31.916580Z",
     "iopub.status.idle": "2022-07-13T17:54:03.966355Z",
     "shell.execute_reply": "2022-07-13T17:54:03.965045Z",
     "shell.execute_reply.started": "2022-07-13T17:53:31.917306Z"
    }
   },
   "outputs": [],
   "source": [
    "# predict on the test data set\n",
    "predictions_new_features = pd.Series(predictor_new_features.predict(test))"
   ]
  },
  {
   "cell_type": "code",
   "execution_count": 38,
   "metadata": {
    "execution": {
     "iopub.execute_input": "2022-07-13T17:54:03.974318Z",
     "iopub.status.busy": "2022-07-13T17:54:03.973888Z",
     "iopub.status.idle": "2022-07-13T17:54:03.983141Z",
     "shell.execute_reply": "2022-07-13T17:54:03.980331Z",
     "shell.execute_reply.started": "2022-07-13T17:54:03.974281Z"
    }
   },
   "outputs": [],
   "source": [
    "# How many negative values do we have?\n",
    "print(\"We have {} negative values\".format(len(predictions_new_features[predictions_new_features < 0])))"
   ]
  },
  {
   "cell_type": "code",
   "execution_count": 39,
   "metadata": {
    "execution": {
     "iopub.execute_input": "2022-07-13T17:54:03.984869Z",
     "iopub.status.busy": "2022-07-13T17:54:03.984505Z",
     "iopub.status.idle": "2022-07-13T17:54:04.011303Z",
     "shell.execute_reply": "2022-07-13T17:54:04.010040Z",
     "shell.execute_reply.started": "2022-07-13T17:54:03.984836Z"
    }
   },
   "outputs": [],
   "source": [
    "submission_new_features = submission.copy()\n",
    "submission_new_features[\"count\"] = predictions_new_features\n",
    "# Set them to zero\n",
    "submission_new_features[\"count\"] = submission_new_features[\"count\"].apply(lambda x : 0 if (x < 0 ) else x)\n",
    "submission_new_features.head()"
   ]
  },
  {
   "cell_type": "code",
   "execution_count": 40,
   "metadata": {
    "execution": {
     "iopub.execute_input": "2022-07-13T17:54:04.013366Z",
     "iopub.status.busy": "2022-07-13T17:54:04.013013Z",
     "iopub.status.idle": "2022-07-13T17:54:04.054303Z",
     "shell.execute_reply": "2022-07-13T17:54:04.052940Z",
     "shell.execute_reply.started": "2022-07-13T17:54:04.013338Z"
    }
   },
   "outputs": [],
   "source": [
    "# Same submitting predictions\n",
    "submission_new_features.to_csv(\"submission_new_features.csv\", index=False)"
   ]
  },
  {
   "cell_type": "code",
   "execution_count": 114,
   "metadata": {
    "execution": {
     "iopub.execute_input": "2022-07-13T14:34:43.102830Z",
     "iopub.status.busy": "2022-07-13T14:34:43.102335Z",
     "iopub.status.idle": "2022-07-13T14:34:45.635382Z",
     "shell.execute_reply": "2022-07-13T14:34:45.634133Z",
     "shell.execute_reply.started": "2022-07-13T14:34:43.102794Z"
    }
   },
   "outputs": [],
   "source": [
    "!kaggle competitions submit -c bike-sharing-demand -f submission_new_features.csv -m \"new features\""
   ]
  },
  {
   "cell_type": "code",
   "execution_count": 55,
   "metadata": {
    "execution": {
     "iopub.execute_input": "2022-07-13T18:21:18.647756Z",
     "iopub.status.busy": "2022-07-13T18:21:18.647282Z",
     "iopub.status.idle": "2022-07-13T18:21:20.596996Z",
     "shell.execute_reply": "2022-07-13T18:21:20.595470Z",
     "shell.execute_reply.started": "2022-07-13T18:21:18.647720Z"
    }
   },
   "outputs": [],
   "source": [
    "!kaggle competitions submissions -c bike-sharing-demand | tail -n +1 | head -n 6"
   ]
  },
  {
   "cell_type": "markdown",
   "metadata": {},
   "source": [
    "#### New Score of 0.45996"
   ]
  },
  {
   "cell_type": "markdown",
   "metadata": {},
   "source": [
    "## Step 6: Hyper parameter optimization\n",
    "* There are many options for hyper parameter optimization.\n",
    "* Options are to change the AutoGluon higher level parameters or the individual model hyperparameters.\n",
    "* The hyperparameters of the models themselves that are in AutoGluon. Those need the `hyperparameter` and `hyperparameter_tune_kwargs` arguments."
   ]
  },
  {
   "cell_type": "code",
   "execution_count": 42,
   "metadata": {
    "collapsed": true,
    "execution": {
     "iopub.execute_input": "2022-07-13T17:59:20.958390Z",
     "iopub.status.busy": "2022-07-13T17:59:20.957702Z",
     "iopub.status.idle": "2022-07-13T18:14:06.172572Z",
     "shell.execute_reply": "2022-07-13T18:14:06.171676Z",
     "shell.execute_reply.started": "2022-07-13T17:59:20.958338Z"
    },
    "jupyter": {
     "outputs_hidden": true
    }
   },
   "outputs": [],
   "source": [
    "predictor_new_hpo = TabularPredictor(label=\"count\",eval_metric=\"root_mean_squared_error\",\n",
    "                                    problem_type=\"regression\").fit(train_data=train, time_limit=900,\n",
    "                                                                   presets=\"best_quality\")"
   ]
  },
  {
   "cell_type": "code",
   "execution_count": 43,
   "metadata": {
    "collapsed": true,
    "execution": {
     "iopub.execute_input": "2022-07-13T18:14:06.175260Z",
     "iopub.status.busy": "2022-07-13T18:14:06.174664Z",
     "iopub.status.idle": "2022-07-13T18:14:06.228566Z",
     "shell.execute_reply": "2022-07-13T18:14:06.227021Z",
     "shell.execute_reply.started": "2022-07-13T18:14:06.175215Z"
    },
    "jupyter": {
     "outputs_hidden": true
    }
   },
   "outputs": [],
   "source": [
    "predictor_new_hpo.fit_summary()"
   ]
  },
  {
   "cell_type": "code",
   "execution_count": 45,
   "metadata": {
    "execution": {
     "iopub.execute_input": "2022-07-13T18:17:16.001889Z",
     "iopub.status.busy": "2022-07-13T18:17:16.001391Z",
     "iopub.status.idle": "2022-07-13T18:17:50.269598Z",
     "shell.execute_reply": "2022-07-13T18:17:50.268350Z",
     "shell.execute_reply.started": "2022-07-13T18:17:16.001856Z"
    }
   },
   "outputs": [],
   "source": [
    "# predict on the test data set\n",
    "predictions_new_hpo = pd.Series(predictor_new_hpo.predict(test))"
   ]
  },
  {
   "cell_type": "code",
   "execution_count": 46,
   "metadata": {
    "execution": {
     "iopub.execute_input": "2022-07-13T18:17:50.272813Z",
     "iopub.status.busy": "2022-07-13T18:17:50.271994Z",
     "iopub.status.idle": "2022-07-13T18:17:50.280291Z",
     "shell.execute_reply": "2022-07-13T18:17:50.278763Z",
     "shell.execute_reply.started": "2022-07-13T18:17:50.272762Z"
    }
   },
   "outputs": [],
   "source": [
    "# How many negative values do we have?\n",
    "print(\"We have {} negative values\".format(len(predictions_new_hpo[predictions_new_hpo < 0])))"
   ]
  },
  {
   "cell_type": "code",
   "execution_count": 47,
   "metadata": {
    "execution": {
     "iopub.execute_input": "2022-07-13T18:17:50.282566Z",
     "iopub.status.busy": "2022-07-13T18:17:50.281924Z",
     "iopub.status.idle": "2022-07-13T18:17:50.308124Z",
     "shell.execute_reply": "2022-07-13T18:17:50.306869Z",
     "shell.execute_reply.started": "2022-07-13T18:17:50.282523Z"
    }
   },
   "outputs": [],
   "source": [
    "submission_new_hpo = submission.copy()\n",
    "submission_new_hpo[\"count\"] = predictions_new_hpo\n",
    "# Set them to zero\n",
    "submission_new_hpo[\"count\"] = submission_new_hpo[\"count\"].apply(lambda x : 0 if (x < 0 ) else x)\n",
    "submission_new_hpo.head()"
   ]
  },
  {
   "cell_type": "code",
   "execution_count": 48,
   "metadata": {
    "execution": {
     "iopub.execute_input": "2022-07-13T18:18:01.456251Z",
     "iopub.status.busy": "2022-07-13T18:18:01.454956Z",
     "iopub.status.idle": "2022-07-13T18:18:01.481260Z",
     "shell.execute_reply": "2022-07-13T18:18:01.480031Z",
     "shell.execute_reply.started": "2022-07-13T18:18:01.456186Z"
    }
   },
   "outputs": [],
   "source": [
    "# Same submitting predictions\n",
    "submission_new_hpo.to_csv(\"submission_new_hpo.csv\", index=False)"
   ]
  },
  {
   "cell_type": "code",
   "execution_count": 49,
   "metadata": {
    "execution": {
     "iopub.execute_input": "2022-07-13T18:18:03.069288Z",
     "iopub.status.busy": "2022-07-13T18:18:03.068348Z",
     "iopub.status.idle": "2022-07-13T18:18:08.244312Z",
     "shell.execute_reply": "2022-07-13T18:18:08.242983Z",
     "shell.execute_reply.started": "2022-07-13T18:18:03.069239Z"
    }
   },
   "outputs": [],
   "source": [
    "!kaggle competitions submit -c bike-sharing-demand -f submission_new_hpo.csv -m \"new features with hyperparameters\""
   ]
  },
  {
   "cell_type": "code",
   "execution_count": 50,
   "metadata": {
    "execution": {
     "iopub.execute_input": "2022-07-13T18:18:11.766470Z",
     "iopub.status.busy": "2022-07-13T18:18:11.765977Z",
     "iopub.status.idle": "2022-07-13T18:18:13.413620Z",
     "shell.execute_reply": "2022-07-13T18:18:13.412109Z",
     "shell.execute_reply.started": "2022-07-13T18:18:11.766433Z"
    }
   },
   "outputs": [],
   "source": [
    "!kaggle competitions submissions -c bike-sharing-demand | tail -n +1 | head -n 6"
   ]
  },
  {
   "cell_type": "markdown",
   "metadata": {},
   "source": [
    "#### New Score of 0.45967"
   ]
  },
  {
   "cell_type": "markdown",
   "metadata": {},
   "source": [
    "## Step 7: Write a Report\n",
    "### Refer to the markdown file for the full report\n",
    "### Creating plots and table for report"
   ]
  },
  {
   "cell_type": "code",
   "execution_count": null,
   "metadata": {
    "execution": {
     "iopub.status.busy": "2022-07-13T13:06:47.248804Z",
     "iopub.status.idle": "2022-07-13T13:06:47.250255Z",
     "shell.execute_reply": "2022-07-13T13:06:47.249929Z",
     "shell.execute_reply.started": "2022-07-13T13:06:47.249894Z"
    },
    "jupyter": {
     "source_hidden": true
    }
   },
   "outputs": [],
   "source": [
    "# Taking the top model score from each training run and creating a line plot to show improvement\n",
    "# You can create these in the notebook and save them to PNG or use some other tool (e.g. google sheets, excel)\n",
    "fig = pd.DataFrame(\n",
    "    {\n",
    "        \"model\": [\"initial\", \"add_features\", \"hpo\"],\n",
    "        \"score\": [?, ?, ?]\n",
    "    }\n",
    ").plot(x=\"model\", y=\"score\", figsize=(8, 6)).get_figure()\n",
    "fig.savefig('model_train_score.png')"
   ]
  },
  {
   "cell_type": "code",
   "execution_count": 51,
   "metadata": {
    "execution": {
     "iopub.execute_input": "2022-07-13T18:18:50.766645Z",
     "iopub.status.busy": "2022-07-13T18:18:50.766139Z",
     "iopub.status.idle": "2022-07-13T18:18:51.037559Z",
     "shell.execute_reply": "2022-07-13T18:18:51.035891Z",
     "shell.execute_reply.started": "2022-07-13T18:18:50.766596Z"
    }
   },
   "outputs": [],
   "source": [
    "# Take the 3 kaggle scores and creating a line plot to show improvement\n",
    "fig = pd.DataFrame(\n",
    "    {\n",
    "        \"test_eval\": [\"initial\", \"add_features\", \"hpo\"],\n",
    "        \"score\": [1.80657, 0.45996, 0.45967]\n",
    "    }\n",
    ").plot(x=\"test_eval\", y=\"score\", figsize=(8, 6)).get_figure()\n",
    "fig.savefig('model_test_score.png')"
   ]
  },
  {
   "cell_type": "markdown",
   "metadata": {},
   "source": [
    "### Hyperparameter table"
   ]
  },
  {
   "cell_type": "code",
   "execution_count": 54,
   "metadata": {
    "execution": {
     "iopub.execute_input": "2022-07-13T18:20:05.410953Z",
     "iopub.status.busy": "2022-07-13T18:20:05.410364Z",
     "iopub.status.idle": "2022-07-13T18:20:05.432450Z",
     "shell.execute_reply": "2022-07-13T18:20:05.431084Z",
     "shell.execute_reply.started": "2022-07-13T18:20:05.410908Z"
    }
   },
   "outputs": [],
   "source": [
    "# The 3 hyperparameters we tuned with the kaggle score as the result\n",
    "pd.DataFrame({\n",
    "    \"model\": [\"initial\", \"add_features\", \"hpo\"],\n",
    "    \"hpo1\": ['label', 'time_limit', 'presets'],\n",
    "    \"hpo2\": ['label', 'time_limit', 'presets'],\n",
    "    \"hpo3\": ['eval_metric', 'problem_typ', 'presets'],\n",
    "    \"score\": [1.80657, 0.45996,0.45967]\n",
    "})\n"
   ]
  }
 ],
 "metadata": {
  "kernelspec": {
   "display_name": "Python 3 (ipykernel)",
   "language": "python",
   "name": "python3"
  },
  "language_info": {
   "codemirror_mode": {
    "name": "ipython",
    "version": 3
   },
   "file_extension": ".py",
   "mimetype": "text/x-python",
   "name": "python",
   "nbconvert_exporter": "python",
   "pygments_lexer": "ipython3",
   "version": "3.9.7"
  }
 },
 "nbformat": 4,
 "nbformat_minor": 4
}
