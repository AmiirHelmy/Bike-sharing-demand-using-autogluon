{
 "cells": [
  {
   "cell_type": "markdown",
   "metadata": {},
   "source": [
    "# Predict Bike Sharing Demand with AutoGluon Template"
   ]
  },
  {
   "cell_type": "markdown",
   "metadata": {},
   "source": [
    "### Install packages"
   ]
  },
  {
   "cell_type": "code",
   "execution_count": 3,
   "metadata": {
    "collapsed": true,
    "execution": {
     "iopub.execute_input": "2022-07-13T17:30:19.775331Z",
     "iopub.status.busy": "2022-07-13T17:30:19.774749Z",
     "iopub.status.idle": "2022-07-13T17:32:41.862150Z",
     "shell.execute_reply": "2022-07-13T17:32:41.860171Z",
     "shell.execute_reply.started": "2022-07-13T17:30:19.775287Z"
    },
    "jupyter": {
     "outputs_hidden": true
    }
   },
   "outputs": [
    {
     "name": "stdout",
     "output_type": "stream",
     "text": [
      "Requirement already satisfied: pip in /usr/local/lib/python3.7/site-packages (22.1.2)\n",
      "\u001b[33mWARNING: Running pip as the 'root' user can result in broken permissions and conflicting behaviour with the system package manager. It is recommended to use a virtual environment instead: https://pip.pypa.io/warnings/venv\u001b[0m\u001b[33m\n",
      "\u001b[0mRequirement already satisfied: setuptools in /usr/local/lib/python3.7/site-packages (63.1.0)\n",
      "Requirement already satisfied: wheel in /usr/local/lib/python3.7/site-packages (0.37.1)\n",
      "\u001b[33mWARNING: Running pip as the 'root' user can result in broken permissions and conflicting behaviour with the system package manager. It is recommended to use a virtual environment instead: https://pip.pypa.io/warnings/venv\u001b[0m\u001b[33m\n",
      "\u001b[0mRequirement already satisfied: mxnet<2.0.0 in /usr/local/lib/python3.7/site-packages (1.9.1)\n",
      "Requirement already satisfied: bokeh==2.0.1 in /usr/local/lib/python3.7/site-packages (2.0.1)\n",
      "Requirement already satisfied: python-dateutil>=2.1 in /usr/local/lib/python3.7/site-packages (from bokeh==2.0.1) (2.8.2)\n",
      "Requirement already satisfied: packaging>=16.8 in /usr/local/lib/python3.7/site-packages (from bokeh==2.0.1) (21.3)\n",
      "Requirement already satisfied: tornado>=5 in /usr/local/lib/python3.7/site-packages (from bokeh==2.0.1) (6.1)\n",
      "Requirement already satisfied: typing-extensions>=3.7.4 in /usr/local/lib/python3.7/site-packages (from bokeh==2.0.1) (4.0.1)\n",
      "Requirement already satisfied: pillow>=4.0 in /usr/local/lib/python3.7/site-packages (from bokeh==2.0.1) (9.0.1)\n",
      "Requirement already satisfied: PyYAML>=3.10 in /usr/local/lib/python3.7/site-packages (from bokeh==2.0.1) (5.4.1)\n",
      "Requirement already satisfied: Jinja2>=2.7 in /usr/local/lib/python3.7/site-packages (from bokeh==2.0.1) (3.0.3)\n",
      "Requirement already satisfied: numpy>=1.11.3 in /usr/local/lib/python3.7/site-packages (from bokeh==2.0.1) (1.21.6)\n",
      "Requirement already satisfied: requests<3,>=2.20.0 in /usr/local/lib/python3.7/site-packages (from mxnet<2.0.0) (2.22.0)\n",
      "Requirement already satisfied: graphviz<0.9.0,>=0.8.1 in /usr/local/lib/python3.7/site-packages (from mxnet<2.0.0) (0.8.4)\n",
      "Requirement already satisfied: MarkupSafe>=2.0 in /usr/local/lib/python3.7/site-packages (from Jinja2>=2.7->bokeh==2.0.1) (2.0.1)\n",
      "Requirement already satisfied: pyparsing!=3.0.5,>=2.0.2 in /usr/local/lib/python3.7/site-packages (from packaging>=16.8->bokeh==2.0.1) (3.0.6)\n",
      "Requirement already satisfied: six>=1.5 in /usr/local/lib/python3.7/site-packages (from python-dateutil>=2.1->bokeh==2.0.1) (1.16.0)\n",
      "Requirement already satisfied: certifi>=2017.4.17 in /usr/local/lib/python3.7/site-packages (from requests<3,>=2.20.0->mxnet<2.0.0) (2021.10.8)\n",
      "Requirement already satisfied: idna<2.9,>=2.5 in /usr/local/lib/python3.7/site-packages (from requests<3,>=2.20.0->mxnet<2.0.0) (2.8)\n",
      "Requirement already satisfied: chardet<3.1.0,>=3.0.2 in /usr/local/lib/python3.7/site-packages (from requests<3,>=2.20.0->mxnet<2.0.0) (3.0.4)\n",
      "Requirement already satisfied: urllib3!=1.25.0,!=1.25.1,<1.26,>=1.21.1 in /usr/local/lib/python3.7/site-packages (from requests<3,>=2.20.0->mxnet<2.0.0) (1.25.11)\n",
      "\u001b[33mWARNING: Running pip as the 'root' user can result in broken permissions and conflicting behaviour with the system package manager. It is recommended to use a virtual environment instead: https://pip.pypa.io/warnings/venv\u001b[0m\u001b[33m\n",
      "\u001b[0mRequirement already satisfied: autogluon in /usr/local/lib/python3.7/site-packages (0.5.0)\n",
      "Requirement already satisfied: autogluon.features==0.5.0 in /usr/local/lib/python3.7/site-packages (from autogluon) (0.5.0)\n",
      "Requirement already satisfied: autogluon.vision==0.5.0 in /usr/local/lib/python3.7/site-packages (from autogluon) (0.5.0)\n",
      "Requirement already satisfied: autogluon.text==0.5.0 in /usr/local/lib/python3.7/site-packages (from autogluon) (0.5.0)\n",
      "Requirement already satisfied: autogluon.tabular[all]==0.5.0 in /usr/local/lib/python3.7/site-packages (from autogluon) (0.5.0)\n",
      "Requirement already satisfied: autogluon.multimodal==0.5.0 in /usr/local/lib/python3.7/site-packages (from autogluon) (0.5.0)\n",
      "Requirement already satisfied: autogluon.core[all]==0.5.0 in /usr/local/lib/python3.7/site-packages (from autogluon) (0.5.0)\n",
      "Requirement already satisfied: autogluon.timeseries[all]==0.5.0 in /usr/local/lib/python3.7/site-packages (from autogluon) (0.5.0)\n",
      "Requirement already satisfied: tqdm>=4.38.0 in /usr/local/lib/python3.7/site-packages (from autogluon.core[all]==0.5.0->autogluon) (4.64.0)\n",
      "Requirement already satisfied: requests in /usr/local/lib/python3.7/site-packages (from autogluon.core[all]==0.5.0->autogluon) (2.22.0)\n",
      "Requirement already satisfied: dask<=2021.11.2,>=2021.09.1 in /usr/local/lib/python3.7/site-packages (from autogluon.core[all]==0.5.0->autogluon) (2021.11.2)\n",
      "Requirement already satisfied: boto3 in /usr/local/lib/python3.7/site-packages (from autogluon.core[all]==0.5.0->autogluon) (1.20.17)\n",
      "Requirement already satisfied: autogluon.common==0.5.0 in /usr/local/lib/python3.7/site-packages (from autogluon.core[all]==0.5.0->autogluon) (0.5.0)\n",
      "Requirement already satisfied: matplotlib in /usr/local/lib/python3.7/site-packages (from autogluon.core[all]==0.5.0->autogluon) (3.5.0)\n",
      "Requirement already satisfied: numpy<1.23,>=1.21 in /usr/local/lib/python3.7/site-packages (from autogluon.core[all]==0.5.0->autogluon) (1.21.6)\n",
      "Requirement already satisfied: scikit-learn<1.1,>=1.0.0 in /usr/local/lib/python3.7/site-packages (from autogluon.core[all]==0.5.0->autogluon) (1.0.1)\n",
      "Requirement already satisfied: scipy<1.8.0,>=1.5.4 in /usr/local/lib/python3.7/site-packages (from autogluon.core[all]==0.5.0->autogluon) (1.7.3)\n",
      "Requirement already satisfied: pandas!=1.4.0,<1.5,>=1.2.5 in /usr/local/lib/python3.7/site-packages (from autogluon.core[all]==0.5.0->autogluon) (1.3.4)\n",
      "Requirement already satisfied: distributed<=2021.11.2,>=2021.09.1 in /usr/local/lib/python3.7/site-packages (from autogluon.core[all]==0.5.0->autogluon) (2021.11.2)\n",
      "Requirement already satisfied: hyperopt<0.2.8,>=0.2.7 in /usr/local/lib/python3.7/site-packages (from autogluon.core[all]==0.5.0->autogluon) (0.2.7)\n",
      "Requirement already satisfied: ray[tune]<1.14,>=1.13 in /usr/local/lib/python3.7/site-packages (from autogluon.core[all]==0.5.0->autogluon) (1.13.0)\n",
      "Requirement already satisfied: psutil<6,>=5.7.3 in /usr/local/lib/python3.7/site-packages (from autogluon.features==0.5.0->autogluon) (5.8.0)\n",
      "Requirement already satisfied: torchmetrics<0.8.0,>=0.7.2 in /usr/local/lib/python3.7/site-packages (from autogluon.multimodal==0.5.0->autogluon) (0.7.3)\n",
      "Requirement already satisfied: nltk<4.0.0,>=3.4.5 in /usr/local/lib/python3.7/site-packages (from autogluon.multimodal==0.5.0->autogluon) (3.7)\n",
      "Requirement already satisfied: nptyping<1.5.0,>=1.4.4 in /usr/local/lib/python3.7/site-packages (from autogluon.multimodal==0.5.0->autogluon) (1.4.4)\n",
      "Requirement already satisfied: omegaconf<2.2.0,>=2.1.1 in /usr/local/lib/python3.7/site-packages (from autogluon.multimodal==0.5.0->autogluon) (2.1.2)\n",
      "Requirement already satisfied: timm<0.6.0 in /usr/local/lib/python3.7/site-packages (from autogluon.multimodal==0.5.0->autogluon) (0.5.4)\n",
      "Requirement already satisfied: sentencepiece<0.2.0,>=0.1.95 in /usr/local/lib/python3.7/site-packages (from autogluon.multimodal==0.5.0->autogluon) (0.1.95)\n",
      "Requirement already satisfied: scikit-image<0.20.0,>=0.19.1 in /usr/local/lib/python3.7/site-packages (from autogluon.multimodal==0.5.0->autogluon) (0.19.3)\n",
      "Requirement already satisfied: transformers<4.21.0,>=4.18.0 in /usr/local/lib/python3.7/site-packages (from autogluon.multimodal==0.5.0->autogluon) (4.20.1)\n",
      "Requirement already satisfied: Pillow<9.1.0,>=9.0.1 in /usr/local/lib/python3.7/site-packages (from autogluon.multimodal==0.5.0->autogluon) (9.0.1)\n",
      "Requirement already satisfied: protobuf<=3.18.1 in /usr/local/lib/python3.7/site-packages (from autogluon.multimodal==0.5.0->autogluon) (3.18.1)\n",
      "Requirement already satisfied: pytorch-metric-learning<1.4.0,>=1.3.0 in /usr/local/lib/python3.7/site-packages (from autogluon.multimodal==0.5.0->autogluon) (1.3.2)\n",
      "Requirement already satisfied: fairscale<0.5.0,>=0.4.5 in /usr/local/lib/python3.7/site-packages (from autogluon.multimodal==0.5.0->autogluon) (0.4.6)\n",
      "Requirement already satisfied: autogluon-contrib-nlp==0.0.1b20220208 in /usr/local/lib/python3.7/site-packages (from autogluon.multimodal==0.5.0->autogluon) (0.0.1b20220208)\n",
      "Requirement already satisfied: pytorch-lightning<1.7.0,>=1.5.10 in /usr/local/lib/python3.7/site-packages (from autogluon.multimodal==0.5.0->autogluon) (1.6.5)\n",
      "Requirement already satisfied: smart-open<5.3.0,>=5.2.1 in /usr/local/lib/python3.7/site-packages (from autogluon.multimodal==0.5.0->autogluon) (5.2.1)\n",
      "Requirement already satisfied: torch<1.12,>=1.0 in /usr/local/lib/python3.7/site-packages (from autogluon.multimodal==0.5.0->autogluon) (1.11.0)\n",
      "Requirement already satisfied: nlpaug<2.0.0,>=1.1.10 in /usr/local/lib/python3.7/site-packages (from autogluon.multimodal==0.5.0->autogluon) (1.1.11)\n",
      "Requirement already satisfied: networkx<3.0,>=2.3 in /usr/local/lib/python3.7/site-packages (from autogluon.tabular[all]==0.5.0->autogluon) (2.6.3)\n",
      "Requirement already satisfied: xgboost<1.5,>=1.4 in /usr/local/lib/python3.7/site-packages (from autogluon.tabular[all]==0.5.0->autogluon) (1.4.2)\n",
      "Requirement already satisfied: lightgbm<3.4,>=3.3 in /usr/local/lib/python3.7/site-packages (from autogluon.tabular[all]==0.5.0->autogluon) (3.3.2)\n",
      "Requirement already satisfied: catboost<1.1,>=1.0 in /usr/local/lib/python3.7/site-packages (from autogluon.tabular[all]==0.5.0->autogluon) (1.0.6)\n",
      "Requirement already satisfied: fastai<2.6,>=2.3.1 in /usr/local/lib/python3.7/site-packages (from autogluon.tabular[all]==0.5.0->autogluon) (2.5.6)\n",
      "Requirement already satisfied: gluonts>=0.8.0 in /usr/local/lib/python3.7/site-packages (from autogluon.timeseries[all]==0.5.0->autogluon) (0.10.1)\n",
      "Requirement already satisfied: pmdarima~=1.8 in /usr/local/lib/python3.7/site-packages (from autogluon.timeseries[all]==0.5.0->autogluon) (1.8.5)\n",
      "Requirement already satisfied: tbats~=1.1 in /usr/local/lib/python3.7/site-packages (from autogluon.timeseries[all]==0.5.0->autogluon) (1.1.0)\n",
      "Requirement already satisfied: sktime~=0.12 in /usr/local/lib/python3.7/site-packages (from autogluon.timeseries[all]==0.5.0->autogluon) (0.12.1)\n",
      "Requirement already satisfied: gluoncv<0.10.6,>=0.10.5 in /usr/local/lib/python3.7/site-packages (from autogluon.vision==0.5.0->autogluon) (0.10.5.post0)\n",
      "Requirement already satisfied: tokenizers>=0.9.4 in /usr/local/lib/python3.7/site-packages (from autogluon-contrib-nlp==0.0.1b20220208->autogluon.multimodal==0.5.0->autogluon) (0.12.1)\n",
      "Requirement already satisfied: sacremoses>=0.0.38 in /usr/local/lib/python3.7/site-packages (from autogluon-contrib-nlp==0.0.1b20220208->autogluon.multimodal==0.5.0->autogluon) (0.0.53)\n",
      "Requirement already satisfied: yacs>=0.1.6 in /usr/local/lib/python3.7/site-packages (from autogluon-contrib-nlp==0.0.1b20220208->autogluon.multimodal==0.5.0->autogluon) (0.1.8)\n",
      "Requirement already satisfied: pyarrow in /usr/local/lib/python3.7/site-packages (from autogluon-contrib-nlp==0.0.1b20220208->autogluon.multimodal==0.5.0->autogluon) (6.0.1)\n",
      "Requirement already satisfied: regex in /usr/local/lib/python3.7/site-packages (from autogluon-contrib-nlp==0.0.1b20220208->autogluon.multimodal==0.5.0->autogluon) (2022.7.9)\n",
      "Requirement already satisfied: flake8 in /usr/local/lib/python3.7/site-packages (from autogluon-contrib-nlp==0.0.1b20220208->autogluon.multimodal==0.5.0->autogluon) (4.0.1)\n",
      "Requirement already satisfied: sacrebleu in /usr/local/lib/python3.7/site-packages (from autogluon-contrib-nlp==0.0.1b20220208->autogluon.multimodal==0.5.0->autogluon) (2.1.0)\n",
      "Requirement already satisfied: contextvars in /usr/local/lib/python3.7/site-packages (from autogluon-contrib-nlp==0.0.1b20220208->autogluon.multimodal==0.5.0->autogluon) (2.4)\n",
      "\u001b[33mWARNING: autogluon-core 0.5.0 does not provide the extra 'ray-tune'\u001b[0m\u001b[33m\n",
      "\u001b[0mRequirement already satisfied: graphviz in /usr/local/lib/python3.7/site-packages (from catboost<1.1,>=1.0->autogluon.tabular[all]==0.5.0->autogluon) (0.8.4)\n",
      "Requirement already satisfied: plotly in /usr/local/lib/python3.7/site-packages (from catboost<1.1,>=1.0->autogluon.tabular[all]==0.5.0->autogluon) (5.4.0)\n",
      "Requirement already satisfied: six in /usr/local/lib/python3.7/site-packages (from catboost<1.1,>=1.0->autogluon.tabular[all]==0.5.0->autogluon) (1.16.0)\n",
      "Requirement already satisfied: cloudpickle>=1.1.1 in /usr/local/lib/python3.7/site-packages (from dask<=2021.11.2,>=2021.09.1->autogluon.core[all]==0.5.0->autogluon) (2.0.0)\n",
      "Requirement already satisfied: partd>=0.3.10 in /usr/local/lib/python3.7/site-packages (from dask<=2021.11.2,>=2021.09.1->autogluon.core[all]==0.5.0->autogluon) (1.2.0)\n",
      "Requirement already satisfied: fsspec>=0.6.0 in /usr/local/lib/python3.7/site-packages (from dask<=2021.11.2,>=2021.09.1->autogluon.core[all]==0.5.0->autogluon) (2021.11.1)\n",
      "Requirement already satisfied: toolz>=0.8.2 in /usr/local/lib/python3.7/site-packages (from dask<=2021.11.2,>=2021.09.1->autogluon.core[all]==0.5.0->autogluon) (0.12.0)\n",
      "Requirement already satisfied: pyyaml in /usr/local/lib/python3.7/site-packages (from dask<=2021.11.2,>=2021.09.1->autogluon.core[all]==0.5.0->autogluon) (5.4.1)\n",
      "Requirement already satisfied: packaging>=20.0 in /usr/local/lib/python3.7/site-packages (from dask<=2021.11.2,>=2021.09.1->autogluon.core[all]==0.5.0->autogluon) (21.3)\n",
      "Requirement already satisfied: sortedcontainers!=2.0.0,!=2.0.1 in /usr/local/lib/python3.7/site-packages (from distributed<=2021.11.2,>=2021.09.1->autogluon.core[all]==0.5.0->autogluon) (2.4.0)\n",
      "Requirement already satisfied: zict>=0.1.3 in /usr/local/lib/python3.7/site-packages (from distributed<=2021.11.2,>=2021.09.1->autogluon.core[all]==0.5.0->autogluon) (2.2.0)\n",
      "Requirement already satisfied: msgpack>=0.6.0 in /usr/local/lib/python3.7/site-packages (from distributed<=2021.11.2,>=2021.09.1->autogluon.core[all]==0.5.0->autogluon) (1.0.4)\n",
      "Requirement already satisfied: jinja2 in /usr/local/lib/python3.7/site-packages (from distributed<=2021.11.2,>=2021.09.1->autogluon.core[all]==0.5.0->autogluon) (3.0.3)\n",
      "Requirement already satisfied: tornado>=5 in /usr/local/lib/python3.7/site-packages (from distributed<=2021.11.2,>=2021.09.1->autogluon.core[all]==0.5.0->autogluon) (6.1)\n",
      "Requirement already satisfied: setuptools in /usr/local/lib/python3.7/site-packages (from distributed<=2021.11.2,>=2021.09.1->autogluon.core[all]==0.5.0->autogluon) (63.1.0)\n",
      "Requirement already satisfied: tblib>=1.6.0 in /usr/local/lib/python3.7/site-packages (from distributed<=2021.11.2,>=2021.09.1->autogluon.core[all]==0.5.0->autogluon) (1.7.0)\n",
      "Requirement already satisfied: click>=6.6 in /usr/local/lib/python3.7/site-packages (from distributed<=2021.11.2,>=2021.09.1->autogluon.core[all]==0.5.0->autogluon) (8.0.4)\n",
      "Requirement already satisfied: fastcore<1.5,>=1.3.27 in /usr/local/lib/python3.7/site-packages (from fastai<2.6,>=2.3.1->autogluon.tabular[all]==0.5.0->autogluon) (1.4.5)\n",
      "Requirement already satisfied: spacy<4 in /usr/local/lib/python3.7/site-packages (from fastai<2.6,>=2.3.1->autogluon.tabular[all]==0.5.0->autogluon) (3.4.0)\n",
      "Requirement already satisfied: fastdownload<2,>=0.0.5 in /usr/local/lib/python3.7/site-packages (from fastai<2.6,>=2.3.1->autogluon.tabular[all]==0.5.0->autogluon) (0.0.7)\n",
      "Requirement already satisfied: torchvision>=0.8.2 in /usr/local/lib/python3.7/site-packages (from fastai<2.6,>=2.3.1->autogluon.tabular[all]==0.5.0->autogluon) (0.12.0)\n",
      "Requirement already satisfied: pip in /usr/local/lib/python3.7/site-packages (from fastai<2.6,>=2.3.1->autogluon.tabular[all]==0.5.0->autogluon) (22.1.2)\n",
      "Requirement already satisfied: fastprogress>=0.2.4 in /usr/local/lib/python3.7/site-packages (from fastai<2.6,>=2.3.1->autogluon.tabular[all]==0.5.0->autogluon) (1.0.2)\n",
      "Requirement already satisfied: portalocker in /usr/local/lib/python3.7/site-packages (from gluoncv<0.10.6,>=0.10.5->autogluon.vision==0.5.0->autogluon) (2.3.2)\n",
      "Requirement already satisfied: opencv-python in /usr/local/lib/python3.7/site-packages (from gluoncv<0.10.6,>=0.10.5->autogluon.vision==0.5.0->autogluon) (4.5.4.60)\n",
      "Requirement already satisfied: autocfg in /usr/local/lib/python3.7/site-packages (from gluoncv<0.10.6,>=0.10.5->autogluon.vision==0.5.0->autogluon) (0.0.8)\n",
      "Requirement already satisfied: pydantic~=1.7 in /usr/local/lib/python3.7/site-packages (from gluonts>=0.8.0->autogluon.timeseries[all]==0.5.0->autogluon) (1.9.1)\n",
      "Requirement already satisfied: typing-extensions~=4.0 in /usr/local/lib/python3.7/site-packages (from gluonts>=0.8.0->autogluon.timeseries[all]==0.5.0->autogluon) (4.0.1)\n",
      "Requirement already satisfied: holidays>=0.9 in /usr/local/lib/python3.7/site-packages (from gluonts>=0.8.0->autogluon.timeseries[all]==0.5.0->autogluon) (0.14.2)\n",
      "Requirement already satisfied: py4j in /usr/local/lib/python3.7/site-packages (from hyperopt<0.2.8,>=0.2.7->autogluon.core[all]==0.5.0->autogluon) (0.10.9.5)\n",
      "Requirement already satisfied: future in /usr/local/lib/python3.7/site-packages (from hyperopt<0.2.8,>=0.2.7->autogluon.core[all]==0.5.0->autogluon) (0.18.2)\n",
      "Requirement already satisfied: wheel in /usr/local/lib/python3.7/site-packages (from lightgbm<3.4,>=3.3->autogluon.tabular[all]==0.5.0->autogluon) (0.37.1)\n",
      "Requirement already satisfied: fonttools>=4.22.0 in /usr/local/lib/python3.7/site-packages (from matplotlib->autogluon.core[all]==0.5.0->autogluon) (4.28.2)\n",
      "Requirement already satisfied: pyparsing>=2.2.1 in /usr/local/lib/python3.7/site-packages (from matplotlib->autogluon.core[all]==0.5.0->autogluon) (3.0.6)\n",
      "Requirement already satisfied: python-dateutil>=2.7 in /usr/local/lib/python3.7/site-packages (from matplotlib->autogluon.core[all]==0.5.0->autogluon) (2.8.2)\n",
      "Requirement already satisfied: kiwisolver>=1.0.1 in /usr/local/lib/python3.7/site-packages (from matplotlib->autogluon.core[all]==0.5.0->autogluon) (1.3.2)\n",
      "Requirement already satisfied: setuptools-scm>=4 in /usr/local/lib/python3.7/site-packages (from matplotlib->autogluon.core[all]==0.5.0->autogluon) (6.3.2)\n",
      "Requirement already satisfied: cycler>=0.10 in /usr/local/lib/python3.7/site-packages (from matplotlib->autogluon.core[all]==0.5.0->autogluon) (0.11.0)\n",
      "Requirement already satisfied: gdown>=4.0.0 in /usr/local/lib/python3.7/site-packages (from nlpaug<2.0.0,>=1.1.10->autogluon.multimodal==0.5.0->autogluon) (4.5.1)\n",
      "Requirement already satisfied: joblib in /usr/local/lib/python3.7/site-packages (from nltk<4.0.0,>=3.4.5->autogluon.multimodal==0.5.0->autogluon) (1.1.0)\n",
      "Requirement already satisfied: typish>=1.7.0 in /usr/local/lib/python3.7/site-packages (from nptyping<1.5.0,>=1.4.4->autogluon.multimodal==0.5.0->autogluon) (1.9.3)\n",
      "Requirement already satisfied: antlr4-python3-runtime==4.8 in /usr/local/lib/python3.7/site-packages (from omegaconf<2.2.0,>=2.1.1->autogluon.multimodal==0.5.0->autogluon) (4.8)\n",
      "Requirement already satisfied: pytz>=2017.3 in /usr/local/lib/python3.7/site-packages (from pandas!=1.4.0,<1.5,>=1.2.5->autogluon.core[all]==0.5.0->autogluon) (2021.3)\n",
      "Requirement already satisfied: Cython!=0.29.18,>=0.29 in /usr/local/lib/python3.7/site-packages (from pmdarima~=1.8->autogluon.timeseries[all]==0.5.0->autogluon) (0.29.24)\n",
      "Requirement already satisfied: urllib3 in /usr/local/lib/python3.7/site-packages (from pmdarima~=1.8->autogluon.timeseries[all]==0.5.0->autogluon) (1.25.11)\n",
      "Requirement already satisfied: statsmodels!=0.12.0,>=0.11 in /usr/local/lib/python3.7/site-packages (from pmdarima~=1.8->autogluon.timeseries[all]==0.5.0->autogluon) (0.13.2)\n",
      "Requirement already satisfied: tensorboard>=2.2.0 in /usr/local/lib/python3.7/site-packages (from pytorch-lightning<1.7.0,>=1.5.10->autogluon.multimodal==0.5.0->autogluon) (2.9.1)\n",
      "Requirement already satisfied: pyDeprecate>=0.3.1 in /usr/local/lib/python3.7/site-packages (from pytorch-lightning<1.7.0,>=1.5.10->autogluon.multimodal==0.5.0->autogluon) (0.3.2)\n",
      "Requirement already satisfied: filelock in /usr/local/lib/python3.7/site-packages (from ray[tune]<1.14,>=1.13->autogluon.core[all]==0.5.0->autogluon) (3.7.1)\n",
      "Requirement already satisfied: aiosignal in /usr/local/lib/python3.7/site-packages (from ray[tune]<1.14,>=1.13->autogluon.core[all]==0.5.0->autogluon) (1.2.0)\n",
      "Requirement already satisfied: virtualenv in /usr/local/lib/python3.7/site-packages (from ray[tune]<1.14,>=1.13->autogluon.core[all]==0.5.0->autogluon) (20.15.1)\n",
      "Requirement already satisfied: attrs in /usr/local/lib/python3.7/site-packages (from ray[tune]<1.14,>=1.13->autogluon.core[all]==0.5.0->autogluon) (21.2.0)\n",
      "Requirement already satisfied: jsonschema in /usr/local/lib/python3.7/site-packages (from ray[tune]<1.14,>=1.13->autogluon.core[all]==0.5.0->autogluon) (4.7.2)\n",
      "Requirement already satisfied: frozenlist in /usr/local/lib/python3.7/site-packages (from ray[tune]<1.14,>=1.13->autogluon.core[all]==0.5.0->autogluon) (1.3.0)\n",
      "Requirement already satisfied: grpcio<=1.43.0,>=1.28.1 in /usr/local/lib/python3.7/site-packages (from ray[tune]<1.14,>=1.13->autogluon.core[all]==0.5.0->autogluon) (1.43.0)\n",
      "Requirement already satisfied: tensorboardX>=1.9 in /usr/local/lib/python3.7/site-packages (from ray[tune]<1.14,>=1.13->autogluon.core[all]==0.5.0->autogluon) (2.5.1)\n",
      "Requirement already satisfied: tabulate in /usr/local/lib/python3.7/site-packages (from ray[tune]<1.14,>=1.13->autogluon.core[all]==0.5.0->autogluon) (0.8.9)\n",
      "Requirement already satisfied: chardet<3.1.0,>=3.0.2 in /usr/local/lib/python3.7/site-packages (from requests->autogluon.core[all]==0.5.0->autogluon) (3.0.4)\n",
      "Requirement already satisfied: certifi>=2017.4.17 in /usr/local/lib/python3.7/site-packages (from requests->autogluon.core[all]==0.5.0->autogluon) (2021.10.8)\n",
      "Requirement already satisfied: idna<2.9,>=2.5 in /usr/local/lib/python3.7/site-packages (from requests->autogluon.core[all]==0.5.0->autogluon) (2.8)\n",
      "Requirement already satisfied: imageio>=2.4.1 in /usr/local/lib/python3.7/site-packages (from scikit-image<0.20.0,>=0.19.1->autogluon.multimodal==0.5.0->autogluon) (2.13.1)\n",
      "Requirement already satisfied: tifffile>=2019.7.26 in /usr/local/lib/python3.7/site-packages (from scikit-image<0.20.0,>=0.19.1->autogluon.multimodal==0.5.0->autogluon) (2021.11.2)\n",
      "Requirement already satisfied: PyWavelets>=1.1.1 in /usr/local/lib/python3.7/site-packages (from scikit-image<0.20.0,>=0.19.1->autogluon.multimodal==0.5.0->autogluon) (1.3.0)\n",
      "Requirement already satisfied: threadpoolctl>=2.0.0 in /usr/local/lib/python3.7/site-packages (from scikit-learn<1.1,>=1.0.0->autogluon.core[all]==0.5.0->autogluon) (3.0.0)\n",
      "Requirement already satisfied: numba>=0.53 in /usr/local/lib/python3.7/site-packages (from sktime~=0.12->autogluon.timeseries[all]==0.5.0->autogluon) (0.53.1)\n",
      "Requirement already satisfied: deprecated>=1.2.13 in /usr/local/lib/python3.7/site-packages (from sktime~=0.12->autogluon.timeseries[all]==0.5.0->autogluon) (1.2.13)\n",
      "Requirement already satisfied: huggingface-hub<1.0,>=0.1.0 in /usr/local/lib/python3.7/site-packages (from transformers<4.21.0,>=4.18.0->autogluon.multimodal==0.5.0->autogluon) (0.8.1)\n",
      "Requirement already satisfied: importlib-metadata in /usr/local/lib/python3.7/site-packages (from transformers<4.21.0,>=4.18.0->autogluon.multimodal==0.5.0->autogluon) (4.2.0)\n",
      "Requirement already satisfied: botocore<1.24.0,>=1.23.17 in /usr/local/lib/python3.7/site-packages (from boto3->autogluon.core[all]==0.5.0->autogluon) (1.23.17)\n",
      "Requirement already satisfied: s3transfer<0.6.0,>=0.5.0 in /usr/local/lib/python3.7/site-packages (from boto3->autogluon.core[all]==0.5.0->autogluon) (0.5.0)\n",
      "Requirement already satisfied: jmespath<1.0.0,>=0.7.1 in /usr/local/lib/python3.7/site-packages (from boto3->autogluon.core[all]==0.5.0->autogluon) (0.10.0)\n",
      "Requirement already satisfied: wrapt<2,>=1.10 in /usr/local/lib/python3.7/site-packages (from deprecated>=1.2.13->sktime~=0.12->autogluon.timeseries[all]==0.5.0->autogluon) (1.14.1)\n",
      "Requirement already satisfied: aiohttp in /usr/local/lib/python3.7/site-packages (from fsspec>=0.6.0->dask<=2021.11.2,>=2021.09.1->autogluon.core[all]==0.5.0->autogluon) (3.8.1)\n",
      "Requirement already satisfied: beautifulsoup4 in /usr/local/lib/python3.7/site-packages (from gdown>=4.0.0->nlpaug<2.0.0,>=1.1.10->autogluon.multimodal==0.5.0->autogluon) (4.11.1)\n",
      "Requirement already satisfied: convertdate>=2.3.0 in /usr/local/lib/python3.7/site-packages (from holidays>=0.9->gluonts>=0.8.0->autogluon.timeseries[all]==0.5.0->autogluon) (2.4.0)\n",
      "Requirement already satisfied: hijri-converter in /usr/local/lib/python3.7/site-packages (from holidays>=0.9->gluonts>=0.8.0->autogluon.timeseries[all]==0.5.0->autogluon) (2.2.4)\n",
      "Requirement already satisfied: korean-lunar-calendar in /usr/local/lib/python3.7/site-packages (from holidays>=0.9->gluonts>=0.8.0->autogluon.timeseries[all]==0.5.0->autogluon) (0.2.1)\n",
      "Requirement already satisfied: llvmlite<0.37,>=0.36.0rc1 in /usr/local/lib/python3.7/site-packages (from numba>=0.53->sktime~=0.12->autogluon.timeseries[all]==0.5.0->autogluon) (0.36.0)\n",
      "Requirement already satisfied: locket in /usr/local/lib/python3.7/site-packages (from partd>=0.3.10->dask<=2021.11.2,>=2021.09.1->autogluon.core[all]==0.5.0->autogluon) (1.0.0)\n",
      "Requirement already satisfied: tomli>=1.0.0 in /usr/local/lib/python3.7/site-packages (from setuptools-scm>=4->matplotlib->autogluon.core[all]==0.5.0->autogluon) (1.2.2)\n",
      "Requirement already satisfied: murmurhash<1.1.0,>=0.28.0 in /usr/local/lib/python3.7/site-packages (from spacy<4->fastai<2.6,>=2.3.1->autogluon.tabular[all]==0.5.0->autogluon) (1.0.7)\n",
      "Requirement already satisfied: spacy-loggers<2.0.0,>=1.0.0 in /usr/local/lib/python3.7/site-packages (from spacy<4->fastai<2.6,>=2.3.1->autogluon.tabular[all]==0.5.0->autogluon) (1.0.2)\n",
      "Requirement already satisfied: cymem<2.1.0,>=2.0.2 in /usr/local/lib/python3.7/site-packages (from spacy<4->fastai<2.6,>=2.3.1->autogluon.tabular[all]==0.5.0->autogluon) (2.0.6)\n",
      "Requirement already satisfied: catalogue<2.1.0,>=2.0.6 in /usr/local/lib/python3.7/site-packages (from spacy<4->fastai<2.6,>=2.3.1->autogluon.tabular[all]==0.5.0->autogluon) (2.0.7)\n",
      "Requirement already satisfied: preshed<3.1.0,>=3.0.2 in /usr/local/lib/python3.7/site-packages (from spacy<4->fastai<2.6,>=2.3.1->autogluon.tabular[all]==0.5.0->autogluon) (3.0.6)\n",
      "Requirement already satisfied: spacy-legacy<3.1.0,>=3.0.9 in /usr/local/lib/python3.7/site-packages (from spacy<4->fastai<2.6,>=2.3.1->autogluon.tabular[all]==0.5.0->autogluon) (3.0.9)\n",
      "Requirement already satisfied: srsly<3.0.0,>=2.4.3 in /usr/local/lib/python3.7/site-packages (from spacy<4->fastai<2.6,>=2.3.1->autogluon.tabular[all]==0.5.0->autogluon) (2.4.3)\n",
      "Requirement already satisfied: thinc<8.2.0,>=8.1.0 in /usr/local/lib/python3.7/site-packages (from spacy<4->fastai<2.6,>=2.3.1->autogluon.tabular[all]==0.5.0->autogluon) (8.1.0)\n",
      "Requirement already satisfied: typer<0.5.0,>=0.3.0 in /usr/local/lib/python3.7/site-packages (from spacy<4->fastai<2.6,>=2.3.1->autogluon.tabular[all]==0.5.0->autogluon) (0.4.2)\n",
      "Requirement already satisfied: pathy>=0.3.5 in /usr/local/lib/python3.7/site-packages (from spacy<4->fastai<2.6,>=2.3.1->autogluon.tabular[all]==0.5.0->autogluon) (0.6.2)\n",
      "Requirement already satisfied: langcodes<4.0.0,>=3.2.0 in /usr/local/lib/python3.7/site-packages (from spacy<4->fastai<2.6,>=2.3.1->autogluon.tabular[all]==0.5.0->autogluon) (3.3.0)\n",
      "Requirement already satisfied: wasabi<1.1.0,>=0.9.1 in /usr/local/lib/python3.7/site-packages (from spacy<4->fastai<2.6,>=2.3.1->autogluon.tabular[all]==0.5.0->autogluon) (0.9.1)\n",
      "Requirement already satisfied: patsy>=0.5.2 in /usr/local/lib/python3.7/site-packages (from statsmodels!=0.12.0,>=0.11->pmdarima~=1.8->autogluon.timeseries[all]==0.5.0->autogluon) (0.5.2)\n",
      "Requirement already satisfied: absl-py>=0.4 in /usr/local/lib/python3.7/site-packages (from tensorboard>=2.2.0->pytorch-lightning<1.7.0,>=1.5.10->autogluon.multimodal==0.5.0->autogluon) (1.1.0)\n",
      "Requirement already satisfied: tensorboard-plugin-wit>=1.6.0 in /usr/local/lib/python3.7/site-packages (from tensorboard>=2.2.0->pytorch-lightning<1.7.0,>=1.5.10->autogluon.multimodal==0.5.0->autogluon) (1.8.1)\n",
      "Requirement already satisfied: google-auth<3,>=1.6.3 in /usr/local/lib/python3.7/site-packages (from tensorboard>=2.2.0->pytorch-lightning<1.7.0,>=1.5.10->autogluon.multimodal==0.5.0->autogluon) (2.9.1)\n",
      "Requirement already satisfied: google-auth-oauthlib<0.5,>=0.4.1 in /usr/local/lib/python3.7/site-packages (from tensorboard>=2.2.0->pytorch-lightning<1.7.0,>=1.5.10->autogluon.multimodal==0.5.0->autogluon) (0.4.6)\n",
      "Requirement already satisfied: markdown>=2.6.8 in /usr/local/lib/python3.7/site-packages (from tensorboard>=2.2.0->pytorch-lightning<1.7.0,>=1.5.10->autogluon.multimodal==0.5.0->autogluon) (3.3.4)\n",
      "Requirement already satisfied: werkzeug>=1.0.1 in /usr/local/lib/python3.7/site-packages (from tensorboard>=2.2.0->pytorch-lightning<1.7.0,>=1.5.10->autogluon.multimodal==0.5.0->autogluon) (2.0.2)\n",
      "Requirement already satisfied: tensorboard-data-server<0.7.0,>=0.6.0 in /usr/local/lib/python3.7/site-packages (from tensorboard>=2.2.0->pytorch-lightning<1.7.0,>=1.5.10->autogluon.multimodal==0.5.0->autogluon) (0.6.1)\n",
      "Requirement already satisfied: heapdict in /usr/local/lib/python3.7/site-packages (from zict>=0.1.3->distributed<=2021.11.2,>=2021.09.1->autogluon.core[all]==0.5.0->autogluon) (1.0.1)\n",
      "Requirement already satisfied: immutables>=0.9 in /usr/local/lib/python3.7/site-packages (from contextvars->autogluon-contrib-nlp==0.0.1b20220208->autogluon.multimodal==0.5.0->autogluon) (0.18)\n",
      "Requirement already satisfied: pyflakes<2.5.0,>=2.4.0 in /usr/local/lib/python3.7/site-packages (from flake8->autogluon-contrib-nlp==0.0.1b20220208->autogluon.multimodal==0.5.0->autogluon) (2.4.0)\n",
      "Requirement already satisfied: pycodestyle<2.9.0,>=2.8.0 in /usr/local/lib/python3.7/site-packages (from flake8->autogluon-contrib-nlp==0.0.1b20220208->autogluon.multimodal==0.5.0->autogluon) (2.8.0)\n",
      "Requirement already satisfied: mccabe<0.7.0,>=0.6.0 in /usr/local/lib/python3.7/site-packages (from flake8->autogluon-contrib-nlp==0.0.1b20220208->autogluon.multimodal==0.5.0->autogluon) (0.6.1)\n",
      "Requirement already satisfied: zipp>=0.5 in /usr/local/lib/python3.7/site-packages (from importlib-metadata->transformers<4.21.0,>=4.18.0->autogluon.multimodal==0.5.0->autogluon) (3.6.0)\n",
      "Requirement already satisfied: MarkupSafe>=2.0 in /usr/local/lib/python3.7/site-packages (from jinja2->distributed<=2021.11.2,>=2021.09.1->autogluon.core[all]==0.5.0->autogluon) (2.0.1)\n",
      "Requirement already satisfied: importlib-resources>=1.4.0 in /usr/local/lib/python3.7/site-packages (from jsonschema->ray[tune]<1.14,>=1.13->autogluon.core[all]==0.5.0->autogluon) (5.8.0)\n",
      "Requirement already satisfied: pyrsistent!=0.17.0,!=0.17.1,!=0.17.2,>=0.14.0 in /usr/local/lib/python3.7/site-packages (from jsonschema->ray[tune]<1.14,>=1.13->autogluon.core[all]==0.5.0->autogluon) (0.18.1)\n",
      "Requirement already satisfied: tenacity>=6.2.0 in /usr/local/lib/python3.7/site-packages (from plotly->catboost<1.1,>=1.0->autogluon.tabular[all]==0.5.0->autogluon) (8.0.1)\n",
      "Requirement already satisfied: colorama in /usr/local/lib/python3.7/site-packages (from sacrebleu->autogluon-contrib-nlp==0.0.1b20220208->autogluon.multimodal==0.5.0->autogluon) (0.4.3)\n",
      "Requirement already satisfied: distlib<1,>=0.3.1 in /usr/local/lib/python3.7/site-packages (from virtualenv->ray[tune]<1.14,>=1.13->autogluon.core[all]==0.5.0->autogluon) (0.3.4)\n",
      "Requirement already satisfied: platformdirs<3,>=2 in /usr/local/lib/python3.7/site-packages (from virtualenv->ray[tune]<1.14,>=1.13->autogluon.core[all]==0.5.0->autogluon) (2.5.2)\n",
      "Requirement already satisfied: pymeeus<=1,>=0.3.13 in /usr/local/lib/python3.7/site-packages (from convertdate>=2.3.0->holidays>=0.9->gluonts>=0.8.0->autogluon.timeseries[all]==0.5.0->autogluon) (0.5.11)\n",
      "Requirement already satisfied: rsa<5,>=3.1.4 in /usr/local/lib/python3.7/site-packages (from google-auth<3,>=1.6.3->tensorboard>=2.2.0->pytorch-lightning<1.7.0,>=1.5.10->autogluon.multimodal==0.5.0->autogluon) (4.7.2)\n",
      "Requirement already satisfied: pyasn1-modules>=0.2.1 in /usr/local/lib/python3.7/site-packages (from google-auth<3,>=1.6.3->tensorboard>=2.2.0->pytorch-lightning<1.7.0,>=1.5.10->autogluon.multimodal==0.5.0->autogluon) (0.2.8)\n",
      "Requirement already satisfied: cachetools<6.0,>=2.0.0 in /usr/local/lib/python3.7/site-packages (from google-auth<3,>=1.6.3->tensorboard>=2.2.0->pytorch-lightning<1.7.0,>=1.5.10->autogluon.multimodal==0.5.0->autogluon) (5.2.0)\n",
      "Requirement already satisfied: requests-oauthlib>=0.7.0 in /usr/local/lib/python3.7/site-packages (from google-auth-oauthlib<0.5,>=0.4.1->tensorboard>=2.2.0->pytorch-lightning<1.7.0,>=1.5.10->autogluon.multimodal==0.5.0->autogluon) (1.3.1)\n",
      "Requirement already satisfied: blis<0.8.0,>=0.7.8 in /usr/local/lib/python3.7/site-packages (from thinc<8.2.0,>=8.1.0->spacy<4->fastai<2.6,>=2.3.1->autogluon.tabular[all]==0.5.0->autogluon) (0.7.8)\n",
      "Requirement already satisfied: yarl<2.0,>=1.0 in /usr/local/lib/python3.7/site-packages (from aiohttp->fsspec>=0.6.0->dask<=2021.11.2,>=2021.09.1->autogluon.core[all]==0.5.0->autogluon) (1.7.2)\n",
      "Requirement already satisfied: async-timeout<5.0,>=4.0.0a3 in /usr/local/lib/python3.7/site-packages (from aiohttp->fsspec>=0.6.0->dask<=2021.11.2,>=2021.09.1->autogluon.core[all]==0.5.0->autogluon) (4.0.2)\n",
      "Requirement already satisfied: charset-normalizer<3.0,>=2.0 in /usr/local/lib/python3.7/site-packages (from aiohttp->fsspec>=0.6.0->dask<=2021.11.2,>=2021.09.1->autogluon.core[all]==0.5.0->autogluon) (2.1.0)\n",
      "Requirement already satisfied: multidict<7.0,>=4.5 in /usr/local/lib/python3.7/site-packages (from aiohttp->fsspec>=0.6.0->dask<=2021.11.2,>=2021.09.1->autogluon.core[all]==0.5.0->autogluon) (6.0.2)\n",
      "Requirement already satisfied: asynctest==0.13.0 in /usr/local/lib/python3.7/site-packages (from aiohttp->fsspec>=0.6.0->dask<=2021.11.2,>=2021.09.1->autogluon.core[all]==0.5.0->autogluon) (0.13.0)\n",
      "Requirement already satisfied: soupsieve>1.2 in /usr/local/lib/python3.7/site-packages (from beautifulsoup4->gdown>=4.0.0->nlpaug<2.0.0,>=1.1.10->autogluon.multimodal==0.5.0->autogluon) (2.3.2.post1)\n",
      "Requirement already satisfied: PySocks!=1.5.7,>=1.5.6 in /usr/local/lib/python3.7/site-packages (from requests->autogluon.core[all]==0.5.0->autogluon) (1.7.1)\n",
      "Requirement already satisfied: pyasn1<0.5.0,>=0.4.6 in /usr/local/lib/python3.7/site-packages (from pyasn1-modules>=0.2.1->google-auth<3,>=1.6.3->tensorboard>=2.2.0->pytorch-lightning<1.7.0,>=1.5.10->autogluon.multimodal==0.5.0->autogluon) (0.4.8)\n",
      "Requirement already satisfied: oauthlib>=3.0.0 in /usr/local/lib/python3.7/site-packages (from requests-oauthlib>=0.7.0->google-auth-oauthlib<0.5,>=0.4.1->tensorboard>=2.2.0->pytorch-lightning<1.7.0,>=1.5.10->autogluon.multimodal==0.5.0->autogluon) (3.2.0)\n",
      "\u001b[33mWARNING: Running pip as the 'root' user can result in broken permissions and conflicting behaviour with the system package manager. It is recommended to use a virtual environment instead: https://pip.pypa.io/warnings/venv\u001b[0m\u001b[33m\n",
      "\u001b[0m"
     ]
    }
   ],
   "source": [
    "!pip install -U pip\n",
    "!pip install -U setuptools wheel\n",
    "!pip install -U \"mxnet<2.0.0\" bokeh==2.0.1\n",
    "!pip install autogluon --no-cache-dir\n",
    "# Without --no-cache-dir, smaller aws instances may have trouble installing"
   ]
  },
  {
   "cell_type": "markdown",
   "metadata": {},
   "source": [
    "### Download dataset"
   ]
  },
  {
   "cell_type": "markdown",
   "metadata": {},
   "source": [
    "### Setup Kaggle API Key\n"
   ]
  },
  {
   "cell_type": "code",
   "execution_count": 24,
   "metadata": {
    "collapsed": true,
    "jupyter": {
     "outputs_hidden": true
    }
   },
   "outputs": [
    {
     "name": "stdout",
     "output_type": "stream",
     "text": [
      "Requirement already satisfied: kaggle in /usr/local/lib/python3.7/site-packages (1.5.12)\n",
      "Requirement already satisfied: python-slugify in /usr/local/lib/python3.7/site-packages (from kaggle) (6.1.2)\n",
      "Requirement already satisfied: tqdm in /usr/local/lib/python3.7/site-packages (from kaggle) (4.64.0)\n",
      "Requirement already satisfied: certifi in /usr/local/lib/python3.7/site-packages (from kaggle) (2021.10.8)\n",
      "Requirement already satisfied: urllib3 in /usr/local/lib/python3.7/site-packages (from kaggle) (1.25.11)\n",
      "Requirement already satisfied: six>=1.10 in /usr/local/lib/python3.7/site-packages (from kaggle) (1.16.0)\n",
      "Requirement already satisfied: requests in /usr/local/lib/python3.7/site-packages (from kaggle) (2.22.0)\n",
      "Requirement already satisfied: python-dateutil in /usr/local/lib/python3.7/site-packages (from kaggle) (2.8.2)\n",
      "Requirement already satisfied: text-unidecode>=1.3 in /usr/local/lib/python3.7/site-packages (from python-slugify->kaggle) (1.3)\n",
      "Requirement already satisfied: idna<2.9,>=2.5 in /usr/local/lib/python3.7/site-packages (from requests->kaggle) (2.8)\n",
      "Requirement already satisfied: chardet<3.1.0,>=3.0.2 in /usr/local/lib/python3.7/site-packages (from requests->kaggle) (3.0.4)\n"
     ]
    },
    {
     "name": "stderr",
     "output_type": "stream",
     "text": [
      "WARNING: Running pip as the 'root' user can result in broken permissions and conflicting behaviour with the system package manager. It is recommended to use a virtual environment instead: https://pip.pypa.io/warnings/venv\n"
     ]
    }
   ],
   "source": [
    "%%bash\n",
    "pip install kaggle"
   ]
  },
  {
   "cell_type": "code",
   "execution_count": 25,
   "metadata": {
    "execution": {
     "iopub.execute_input": "2022-07-13T17:32:41.866467Z",
     "iopub.status.busy": "2022-07-13T17:32:41.865350Z",
     "iopub.status.idle": "2022-07-13T17:32:44.266749Z",
     "shell.execute_reply": "2022-07-13T17:32:44.265168Z",
     "shell.execute_reply.started": "2022-07-13T17:32:41.866422Z"
    }
   },
   "outputs": [],
   "source": [
    "# create the .kaggle directory and an empty kaggle.json file\n",
    "!mkdir -p /root/.kaggle\n",
    "!touch /root/.kaggle/kaggle.json\n",
    "!chmod 600 /root/.kaggle/kaggle.json"
   ]
  },
  {
   "cell_type": "code",
   "execution_count": 26,
   "metadata": {
    "execution": {
     "iopub.execute_input": "2022-07-13T17:32:44.270424Z",
     "iopub.status.busy": "2022-07-13T17:32:44.269335Z",
     "iopub.status.idle": "2022-07-13T17:32:44.278830Z",
     "shell.execute_reply": "2022-07-13T17:32:44.277893Z",
     "shell.execute_reply.started": "2022-07-13T17:32:44.270368Z"
    }
   },
   "outputs": [],
   "source": [
    "# Fill in your user name and key from creating the kaggle account and API token file\n",
    "import json\n",
    "kaggle_username = \"amirhelmy\"\n",
    "kaggle_key = \"21e0ff4904a671ef59640f134d66b324\"\n",
    "\n",
    "# Save API token the kaggle.json file\n",
    "with open(\"/root/.kaggle/kaggle.json\", \"w\") as f:\n",
    "    f.write(json.dumps({\"username\": kaggle_username, \"key\": kaggle_key}))"
   ]
  },
  {
   "cell_type": "code",
   "execution_count": 14,
   "metadata": {
    "execution": {
     "iopub.execute_input": "2022-07-13T17:32:44.283074Z",
     "iopub.status.busy": "2022-07-13T17:32:44.281828Z",
     "iopub.status.idle": "2022-07-13T17:32:47.446633Z",
     "shell.execute_reply": "2022-07-13T17:32:47.445582Z",
     "shell.execute_reply.started": "2022-07-13T17:32:44.283025Z"
    }
   },
   "outputs": [],
   "source": [
    "# Download the dataset, it will be in a .zip file so you'll need to unzip it as well.\n",
    "!kaggle competitions download -c bike-sharing-demand\n",
    "# If you already downloaded it you can use the -o command to overwrite the file\n",
    "!unzip -o bike-sharing-demand.zip"
   ]
  },
  {
   "cell_type": "code",
   "execution_count": 4,
   "metadata": {
    "execution": {
     "iopub.execute_input": "2022-07-13T17:32:47.448397Z",
     "iopub.status.busy": "2022-07-13T17:32:47.448029Z",
     "iopub.status.idle": "2022-07-13T17:32:48.860143Z",
     "shell.execute_reply": "2022-07-13T17:32:48.859107Z",
     "shell.execute_reply.started": "2022-07-13T17:32:47.448365Z"
    }
   },
   "outputs": [
    {
     "name": "stderr",
     "output_type": "stream",
     "text": [
      "/usr/local/lib/python3.7/site-packages/tqdm/auto.py:22: TqdmWarning: IProgress not found. Please update jupyter and ipywidgets. See https://ipywidgets.readthedocs.io/en/stable/user_install.html\n",
      "  from .autonotebook import tqdm as notebook_tqdm\n"
     ]
    }
   ],
   "source": [
    "import pandas as pd\n",
    "import matplotlib.pyplot as plt\n",
    "import seaborn as sns\n",
    "from autogluon.tabular import TabularPredictor"
   ]
  },
  {
   "cell_type": "markdown",
   "metadata": {},
   "source": [
    "### Explore dataset"
   ]
  },
  {
   "cell_type": "code",
   "execution_count": 5,
   "metadata": {
    "execution": {
     "iopub.execute_input": "2022-07-13T17:32:48.862496Z",
     "iopub.status.busy": "2022-07-13T17:32:48.861845Z",
     "iopub.status.idle": "2022-07-13T17:32:49.244692Z",
     "shell.execute_reply": "2022-07-13T17:32:49.243591Z",
     "shell.execute_reply.started": "2022-07-13T17:32:48.862457Z"
    }
   },
   "outputs": [
    {
     "name": "stdout",
     "output_type": "stream",
     "text": [
      "(10886, 12)\n"
     ]
    },
    {
     "data": {
      "text/html": [
       "<div>\n",
       "<style scoped>\n",
       "    .dataframe tbody tr th:only-of-type {\n",
       "        vertical-align: middle;\n",
       "    }\n",
       "\n",
       "    .dataframe tbody tr th {\n",
       "        vertical-align: top;\n",
       "    }\n",
       "\n",
       "    .dataframe thead th {\n",
       "        text-align: right;\n",
       "    }\n",
       "</style>\n",
       "<table border=\"1\" class=\"dataframe\">\n",
       "  <thead>\n",
       "    <tr style=\"text-align: right;\">\n",
       "      <th></th>\n",
       "      <th>datetime</th>\n",
       "      <th>season</th>\n",
       "      <th>holiday</th>\n",
       "      <th>workingday</th>\n",
       "      <th>weather</th>\n",
       "      <th>temp</th>\n",
       "      <th>atemp</th>\n",
       "      <th>humidity</th>\n",
       "      <th>windspeed</th>\n",
       "      <th>casual</th>\n",
       "      <th>registered</th>\n",
       "      <th>count</th>\n",
       "    </tr>\n",
       "  </thead>\n",
       "  <tbody>\n",
       "    <tr>\n",
       "      <th>0</th>\n",
       "      <td>2011-01-01 00:00:00</td>\n",
       "      <td>1</td>\n",
       "      <td>0</td>\n",
       "      <td>0</td>\n",
       "      <td>1</td>\n",
       "      <td>9.84</td>\n",
       "      <td>14.395</td>\n",
       "      <td>81</td>\n",
       "      <td>0.0</td>\n",
       "      <td>3</td>\n",
       "      <td>13</td>\n",
       "      <td>16</td>\n",
       "    </tr>\n",
       "    <tr>\n",
       "      <th>1</th>\n",
       "      <td>2011-01-01 01:00:00</td>\n",
       "      <td>1</td>\n",
       "      <td>0</td>\n",
       "      <td>0</td>\n",
       "      <td>1</td>\n",
       "      <td>9.02</td>\n",
       "      <td>13.635</td>\n",
       "      <td>80</td>\n",
       "      <td>0.0</td>\n",
       "      <td>8</td>\n",
       "      <td>32</td>\n",
       "      <td>40</td>\n",
       "    </tr>\n",
       "    <tr>\n",
       "      <th>2</th>\n",
       "      <td>2011-01-01 02:00:00</td>\n",
       "      <td>1</td>\n",
       "      <td>0</td>\n",
       "      <td>0</td>\n",
       "      <td>1</td>\n",
       "      <td>9.02</td>\n",
       "      <td>13.635</td>\n",
       "      <td>80</td>\n",
       "      <td>0.0</td>\n",
       "      <td>5</td>\n",
       "      <td>27</td>\n",
       "      <td>32</td>\n",
       "    </tr>\n",
       "    <tr>\n",
       "      <th>3</th>\n",
       "      <td>2011-01-01 03:00:00</td>\n",
       "      <td>1</td>\n",
       "      <td>0</td>\n",
       "      <td>0</td>\n",
       "      <td>1</td>\n",
       "      <td>9.84</td>\n",
       "      <td>14.395</td>\n",
       "      <td>75</td>\n",
       "      <td>0.0</td>\n",
       "      <td>3</td>\n",
       "      <td>10</td>\n",
       "      <td>13</td>\n",
       "    </tr>\n",
       "    <tr>\n",
       "      <th>4</th>\n",
       "      <td>2011-01-01 04:00:00</td>\n",
       "      <td>1</td>\n",
       "      <td>0</td>\n",
       "      <td>0</td>\n",
       "      <td>1</td>\n",
       "      <td>9.84</td>\n",
       "      <td>14.395</td>\n",
       "      <td>75</td>\n",
       "      <td>0.0</td>\n",
       "      <td>0</td>\n",
       "      <td>1</td>\n",
       "      <td>1</td>\n",
       "    </tr>\n",
       "  </tbody>\n",
       "</table>\n",
       "</div>"
      ],
      "text/plain": [
       "              datetime  season  holiday  workingday  weather  temp   atemp  \\\n",
       "0  2011-01-01 00:00:00       1        0           0        1  9.84  14.395   \n",
       "1  2011-01-01 01:00:00       1        0           0        1  9.02  13.635   \n",
       "2  2011-01-01 02:00:00       1        0           0        1  9.02  13.635   \n",
       "3  2011-01-01 03:00:00       1        0           0        1  9.84  14.395   \n",
       "4  2011-01-01 04:00:00       1        0           0        1  9.84  14.395   \n",
       "\n",
       "   humidity  windspeed  casual  registered  count  \n",
       "0        81        0.0       3          13     16  \n",
       "1        80        0.0       8          32     40  \n",
       "2        80        0.0       5          27     32  \n",
       "3        75        0.0       3          10     13  \n",
       "4        75        0.0       0           1      1  "
      ]
     },
     "execution_count": 5,
     "metadata": {},
     "output_type": "execute_result"
    }
   ],
   "source": [
    "# Create the train dataset in pandas by reading the csv\n",
    "train = pd.read_csv(\"./data/train.csv\")\n",
    "print(train.shape)\n",
    "train.head()"
   ]
  },
  {
   "cell_type": "markdown",
   "metadata": {},
   "source": [
    "As we can see the dataframe consists of 10886 rows and 12 columns.\n",
    "The columns here \"Features\" explaning the date and time of each ride, the weather conditions and if the customer is registered in the company or not."
   ]
  },
  {
   "cell_type": "code",
   "execution_count": 6,
   "metadata": {
    "execution": {
     "iopub.execute_input": "2022-07-13T17:32:49.246673Z",
     "iopub.status.busy": "2022-07-13T17:32:49.246077Z",
     "iopub.status.idle": "2022-07-13T17:32:49.271804Z",
     "shell.execute_reply": "2022-07-13T17:32:49.270329Z",
     "shell.execute_reply.started": "2022-07-13T17:32:49.246641Z"
    }
   },
   "outputs": [
    {
     "name": "stdout",
     "output_type": "stream",
     "text": [
      "<class 'pandas.core.frame.DataFrame'>\n",
      "RangeIndex: 10886 entries, 0 to 10885\n",
      "Data columns (total 12 columns):\n",
      " #   Column      Non-Null Count  Dtype         \n",
      "---  ------      --------------  -----         \n",
      " 0   datetime    10886 non-null  datetime64[ns]\n",
      " 1   season      10886 non-null  int64         \n",
      " 2   holiday     10886 non-null  int64         \n",
      " 3   workingday  10886 non-null  int64         \n",
      " 4   weather     10886 non-null  int64         \n",
      " 5   temp        10886 non-null  float64       \n",
      " 6   atemp       10886 non-null  float64       \n",
      " 7   humidity    10886 non-null  int64         \n",
      " 8   windspeed   10886 non-null  float64       \n",
      " 9   casual      10886 non-null  int64         \n",
      " 10  registered  10886 non-null  int64         \n",
      " 11  count       10886 non-null  int64         \n",
      "dtypes: datetime64[ns](1), float64(3), int64(8)\n",
      "memory usage: 1020.7 KB\n"
     ]
    }
   ],
   "source": [
    "# Set the parsing of the datetime column so we can use some of the `dt` features in pandas later\n",
    "train[\"datetime\"] = pd.to_datetime(train[\"datetime\"])\n",
    "\n",
    "# Sanity check \n",
    "train.info()"
   ]
  },
  {
   "cell_type": "markdown",
   "metadata": {
    "execution": {
     "iopub.execute_input": "2022-07-12T21:01:19.086519Z",
     "iopub.status.busy": "2022-07-12T21:01:19.086119Z",
     "iopub.status.idle": "2022-07-12T21:01:19.096331Z",
     "shell.execute_reply": "2022-07-12T21:01:19.094781Z",
     "shell.execute_reply.started": "2022-07-12T21:01:19.086488Z"
    }
   },
   "source": [
    "The \"datetime\" columns successfully changed to **datetime** type column."
   ]
  },
  {
   "cell_type": "code",
   "execution_count": 7,
   "metadata": {
    "execution": {
     "iopub.execute_input": "2022-07-13T17:32:49.273595Z",
     "iopub.status.busy": "2022-07-13T17:32:49.273280Z",
     "iopub.status.idle": "2022-07-13T17:32:49.329684Z",
     "shell.execute_reply": "2022-07-13T17:32:49.328457Z",
     "shell.execute_reply.started": "2022-07-13T17:32:49.273567Z"
    }
   },
   "outputs": [
    {
     "data": {
      "text/html": [
       "<div>\n",
       "<style scoped>\n",
       "    .dataframe tbody tr th:only-of-type {\n",
       "        vertical-align: middle;\n",
       "    }\n",
       "\n",
       "    .dataframe tbody tr th {\n",
       "        vertical-align: top;\n",
       "    }\n",
       "\n",
       "    .dataframe thead th {\n",
       "        text-align: right;\n",
       "    }\n",
       "</style>\n",
       "<table border=\"1\" class=\"dataframe\">\n",
       "  <thead>\n",
       "    <tr style=\"text-align: right;\">\n",
       "      <th></th>\n",
       "      <th>season</th>\n",
       "      <th>holiday</th>\n",
       "      <th>workingday</th>\n",
       "      <th>weather</th>\n",
       "      <th>temp</th>\n",
       "      <th>atemp</th>\n",
       "      <th>humidity</th>\n",
       "      <th>windspeed</th>\n",
       "      <th>casual</th>\n",
       "      <th>registered</th>\n",
       "      <th>count</th>\n",
       "    </tr>\n",
       "  </thead>\n",
       "  <tbody>\n",
       "    <tr>\n",
       "      <th>count</th>\n",
       "      <td>10886.000000</td>\n",
       "      <td>10886.000000</td>\n",
       "      <td>10886.000000</td>\n",
       "      <td>10886.000000</td>\n",
       "      <td>10886.00000</td>\n",
       "      <td>10886.000000</td>\n",
       "      <td>10886.000000</td>\n",
       "      <td>10886.000000</td>\n",
       "      <td>10886.000000</td>\n",
       "      <td>10886.000000</td>\n",
       "      <td>10886.000000</td>\n",
       "    </tr>\n",
       "    <tr>\n",
       "      <th>mean</th>\n",
       "      <td>2.506614</td>\n",
       "      <td>0.028569</td>\n",
       "      <td>0.680875</td>\n",
       "      <td>1.418427</td>\n",
       "      <td>20.23086</td>\n",
       "      <td>23.655084</td>\n",
       "      <td>61.886460</td>\n",
       "      <td>12.799395</td>\n",
       "      <td>36.021955</td>\n",
       "      <td>155.552177</td>\n",
       "      <td>191.574132</td>\n",
       "    </tr>\n",
       "    <tr>\n",
       "      <th>std</th>\n",
       "      <td>1.116174</td>\n",
       "      <td>0.166599</td>\n",
       "      <td>0.466159</td>\n",
       "      <td>0.633839</td>\n",
       "      <td>7.79159</td>\n",
       "      <td>8.474601</td>\n",
       "      <td>19.245033</td>\n",
       "      <td>8.164537</td>\n",
       "      <td>49.960477</td>\n",
       "      <td>151.039033</td>\n",
       "      <td>181.144454</td>\n",
       "    </tr>\n",
       "    <tr>\n",
       "      <th>min</th>\n",
       "      <td>1.000000</td>\n",
       "      <td>0.000000</td>\n",
       "      <td>0.000000</td>\n",
       "      <td>1.000000</td>\n",
       "      <td>0.82000</td>\n",
       "      <td>0.760000</td>\n",
       "      <td>0.000000</td>\n",
       "      <td>0.000000</td>\n",
       "      <td>0.000000</td>\n",
       "      <td>0.000000</td>\n",
       "      <td>1.000000</td>\n",
       "    </tr>\n",
       "    <tr>\n",
       "      <th>25%</th>\n",
       "      <td>2.000000</td>\n",
       "      <td>0.000000</td>\n",
       "      <td>0.000000</td>\n",
       "      <td>1.000000</td>\n",
       "      <td>13.94000</td>\n",
       "      <td>16.665000</td>\n",
       "      <td>47.000000</td>\n",
       "      <td>7.001500</td>\n",
       "      <td>4.000000</td>\n",
       "      <td>36.000000</td>\n",
       "      <td>42.000000</td>\n",
       "    </tr>\n",
       "    <tr>\n",
       "      <th>50%</th>\n",
       "      <td>3.000000</td>\n",
       "      <td>0.000000</td>\n",
       "      <td>1.000000</td>\n",
       "      <td>1.000000</td>\n",
       "      <td>20.50000</td>\n",
       "      <td>24.240000</td>\n",
       "      <td>62.000000</td>\n",
       "      <td>12.998000</td>\n",
       "      <td>17.000000</td>\n",
       "      <td>118.000000</td>\n",
       "      <td>145.000000</td>\n",
       "    </tr>\n",
       "    <tr>\n",
       "      <th>75%</th>\n",
       "      <td>4.000000</td>\n",
       "      <td>0.000000</td>\n",
       "      <td>1.000000</td>\n",
       "      <td>2.000000</td>\n",
       "      <td>26.24000</td>\n",
       "      <td>31.060000</td>\n",
       "      <td>77.000000</td>\n",
       "      <td>16.997900</td>\n",
       "      <td>49.000000</td>\n",
       "      <td>222.000000</td>\n",
       "      <td>284.000000</td>\n",
       "    </tr>\n",
       "    <tr>\n",
       "      <th>max</th>\n",
       "      <td>4.000000</td>\n",
       "      <td>1.000000</td>\n",
       "      <td>1.000000</td>\n",
       "      <td>4.000000</td>\n",
       "      <td>41.00000</td>\n",
       "      <td>45.455000</td>\n",
       "      <td>100.000000</td>\n",
       "      <td>56.996900</td>\n",
       "      <td>367.000000</td>\n",
       "      <td>886.000000</td>\n",
       "      <td>977.000000</td>\n",
       "    </tr>\n",
       "  </tbody>\n",
       "</table>\n",
       "</div>"
      ],
      "text/plain": [
       "             season       holiday    workingday       weather         temp  \\\n",
       "count  10886.000000  10886.000000  10886.000000  10886.000000  10886.00000   \n",
       "mean       2.506614      0.028569      0.680875      1.418427     20.23086   \n",
       "std        1.116174      0.166599      0.466159      0.633839      7.79159   \n",
       "min        1.000000      0.000000      0.000000      1.000000      0.82000   \n",
       "25%        2.000000      0.000000      0.000000      1.000000     13.94000   \n",
       "50%        3.000000      0.000000      1.000000      1.000000     20.50000   \n",
       "75%        4.000000      0.000000      1.000000      2.000000     26.24000   \n",
       "max        4.000000      1.000000      1.000000      4.000000     41.00000   \n",
       "\n",
       "              atemp      humidity     windspeed        casual    registered  \\\n",
       "count  10886.000000  10886.000000  10886.000000  10886.000000  10886.000000   \n",
       "mean      23.655084     61.886460     12.799395     36.021955    155.552177   \n",
       "std        8.474601     19.245033      8.164537     49.960477    151.039033   \n",
       "min        0.760000      0.000000      0.000000      0.000000      0.000000   \n",
       "25%       16.665000     47.000000      7.001500      4.000000     36.000000   \n",
       "50%       24.240000     62.000000     12.998000     17.000000    118.000000   \n",
       "75%       31.060000     77.000000     16.997900     49.000000    222.000000   \n",
       "max       45.455000    100.000000     56.996900    367.000000    886.000000   \n",
       "\n",
       "              count  \n",
       "count  10886.000000  \n",
       "mean     191.574132  \n",
       "std      181.144454  \n",
       "min        1.000000  \n",
       "25%       42.000000  \n",
       "50%      145.000000  \n",
       "75%      284.000000  \n",
       "max      977.000000  "
      ]
     },
     "execution_count": 7,
     "metadata": {},
     "output_type": "execute_result"
    }
   ],
   "source": [
    "# Simple output of the train dataset to view some of the min/max/varition of the dataset features.\n",
    "train.describe()"
   ]
  },
  {
   "cell_type": "code",
   "execution_count": 9,
   "metadata": {
    "execution": {
     "iopub.execute_input": "2022-07-13T17:32:49.332333Z",
     "iopub.status.busy": "2022-07-13T17:32:49.331585Z",
     "iopub.status.idle": "2022-07-13T17:32:49.368384Z",
     "shell.execute_reply": "2022-07-13T17:32:49.367048Z",
     "shell.execute_reply.started": "2022-07-13T17:32:49.332284Z"
    }
   },
   "outputs": [
    {
     "name": "stdout",
     "output_type": "stream",
     "text": [
      "(6493, 9)\n"
     ]
    },
    {
     "data": {
      "text/html": [
       "<div>\n",
       "<style scoped>\n",
       "    .dataframe tbody tr th:only-of-type {\n",
       "        vertical-align: middle;\n",
       "    }\n",
       "\n",
       "    .dataframe tbody tr th {\n",
       "        vertical-align: top;\n",
       "    }\n",
       "\n",
       "    .dataframe thead th {\n",
       "        text-align: right;\n",
       "    }\n",
       "</style>\n",
       "<table border=\"1\" class=\"dataframe\">\n",
       "  <thead>\n",
       "    <tr style=\"text-align: right;\">\n",
       "      <th></th>\n",
       "      <th>datetime</th>\n",
       "      <th>season</th>\n",
       "      <th>holiday</th>\n",
       "      <th>workingday</th>\n",
       "      <th>weather</th>\n",
       "      <th>temp</th>\n",
       "      <th>atemp</th>\n",
       "      <th>humidity</th>\n",
       "      <th>windspeed</th>\n",
       "    </tr>\n",
       "  </thead>\n",
       "  <tbody>\n",
       "    <tr>\n",
       "      <th>0</th>\n",
       "      <td>2011-01-20 00:00:00</td>\n",
       "      <td>1</td>\n",
       "      <td>0</td>\n",
       "      <td>1</td>\n",
       "      <td>1</td>\n",
       "      <td>10.66</td>\n",
       "      <td>11.365</td>\n",
       "      <td>56</td>\n",
       "      <td>26.0027</td>\n",
       "    </tr>\n",
       "    <tr>\n",
       "      <th>1</th>\n",
       "      <td>2011-01-20 01:00:00</td>\n",
       "      <td>1</td>\n",
       "      <td>0</td>\n",
       "      <td>1</td>\n",
       "      <td>1</td>\n",
       "      <td>10.66</td>\n",
       "      <td>13.635</td>\n",
       "      <td>56</td>\n",
       "      <td>0.0000</td>\n",
       "    </tr>\n",
       "    <tr>\n",
       "      <th>2</th>\n",
       "      <td>2011-01-20 02:00:00</td>\n",
       "      <td>1</td>\n",
       "      <td>0</td>\n",
       "      <td>1</td>\n",
       "      <td>1</td>\n",
       "      <td>10.66</td>\n",
       "      <td>13.635</td>\n",
       "      <td>56</td>\n",
       "      <td>0.0000</td>\n",
       "    </tr>\n",
       "    <tr>\n",
       "      <th>3</th>\n",
       "      <td>2011-01-20 03:00:00</td>\n",
       "      <td>1</td>\n",
       "      <td>0</td>\n",
       "      <td>1</td>\n",
       "      <td>1</td>\n",
       "      <td>10.66</td>\n",
       "      <td>12.880</td>\n",
       "      <td>56</td>\n",
       "      <td>11.0014</td>\n",
       "    </tr>\n",
       "    <tr>\n",
       "      <th>4</th>\n",
       "      <td>2011-01-20 04:00:00</td>\n",
       "      <td>1</td>\n",
       "      <td>0</td>\n",
       "      <td>1</td>\n",
       "      <td>1</td>\n",
       "      <td>10.66</td>\n",
       "      <td>12.880</td>\n",
       "      <td>56</td>\n",
       "      <td>11.0014</td>\n",
       "    </tr>\n",
       "  </tbody>\n",
       "</table>\n",
       "</div>"
      ],
      "text/plain": [
       "              datetime  season  holiday  workingday  weather   temp   atemp  \\\n",
       "0  2011-01-20 00:00:00       1        0           1        1  10.66  11.365   \n",
       "1  2011-01-20 01:00:00       1        0           1        1  10.66  13.635   \n",
       "2  2011-01-20 02:00:00       1        0           1        1  10.66  13.635   \n",
       "3  2011-01-20 03:00:00       1        0           1        1  10.66  12.880   \n",
       "4  2011-01-20 04:00:00       1        0           1        1  10.66  12.880   \n",
       "\n",
       "   humidity  windspeed  \n",
       "0        56    26.0027  \n",
       "1        56     0.0000  \n",
       "2        56     0.0000  \n",
       "3        56    11.0014  \n",
       "4        56    11.0014  "
      ]
     },
     "execution_count": 9,
     "metadata": {},
     "output_type": "execute_result"
    }
   ],
   "source": [
    "# Create the test pandas dataframe in pandas by reading the csv, remember to parse the datetime!\n",
    "test = pd.read_csv(\"./data/test.csv\")\n",
    "print(test.shape)\n",
    "test.head()"
   ]
  },
  {
   "cell_type": "code",
   "execution_count": 10,
   "metadata": {
    "execution": {
     "iopub.execute_input": "2022-07-13T17:32:49.373950Z",
     "iopub.status.busy": "2022-07-13T17:32:49.372813Z",
     "iopub.status.idle": "2022-07-13T17:32:49.392415Z",
     "shell.execute_reply": "2022-07-13T17:32:49.390668Z",
     "shell.execute_reply.started": "2022-07-13T17:32:49.373899Z"
    }
   },
   "outputs": [
    {
     "name": "stdout",
     "output_type": "stream",
     "text": [
      "<class 'pandas.core.frame.DataFrame'>\n",
      "RangeIndex: 6493 entries, 0 to 6492\n",
      "Data columns (total 9 columns):\n",
      " #   Column      Non-Null Count  Dtype         \n",
      "---  ------      --------------  -----         \n",
      " 0   datetime    6493 non-null   datetime64[ns]\n",
      " 1   season      6493 non-null   int64         \n",
      " 2   holiday     6493 non-null   int64         \n",
      " 3   workingday  6493 non-null   int64         \n",
      " 4   weather     6493 non-null   int64         \n",
      " 5   temp        6493 non-null   float64       \n",
      " 6   atemp       6493 non-null   float64       \n",
      " 7   humidity    6493 non-null   int64         \n",
      " 8   windspeed   6493 non-null   float64       \n",
      "dtypes: datetime64[ns](1), float64(3), int64(5)\n",
      "memory usage: 456.7 KB\n"
     ]
    }
   ],
   "source": [
    "# Set the parsing of the datetime column so we can use some of the `dt` features in pandas later\n",
    "test[\"datetime\"] = pd.to_datetime(test[\"datetime\"])\n",
    "\n",
    "# Sanity check \n",
    "test.info()"
   ]
  },
  {
   "cell_type": "code",
   "execution_count": 12,
   "metadata": {
    "execution": {
     "iopub.execute_input": "2022-07-13T17:32:49.395001Z",
     "iopub.status.busy": "2022-07-13T17:32:49.394110Z",
     "iopub.status.idle": "2022-07-13T17:32:49.414601Z",
     "shell.execute_reply": "2022-07-13T17:32:49.413242Z",
     "shell.execute_reply.started": "2022-07-13T17:32:49.394952Z"
    }
   },
   "outputs": [
    {
     "data": {
      "text/html": [
       "<div>\n",
       "<style scoped>\n",
       "    .dataframe tbody tr th:only-of-type {\n",
       "        vertical-align: middle;\n",
       "    }\n",
       "\n",
       "    .dataframe tbody tr th {\n",
       "        vertical-align: top;\n",
       "    }\n",
       "\n",
       "    .dataframe thead th {\n",
       "        text-align: right;\n",
       "    }\n",
       "</style>\n",
       "<table border=\"1\" class=\"dataframe\">\n",
       "  <thead>\n",
       "    <tr style=\"text-align: right;\">\n",
       "      <th></th>\n",
       "      <th>datetime</th>\n",
       "      <th>count</th>\n",
       "    </tr>\n",
       "  </thead>\n",
       "  <tbody>\n",
       "    <tr>\n",
       "      <th>0</th>\n",
       "      <td>2011-01-20 00:00:00</td>\n",
       "      <td>0</td>\n",
       "    </tr>\n",
       "    <tr>\n",
       "      <th>1</th>\n",
       "      <td>2011-01-20 01:00:00</td>\n",
       "      <td>0</td>\n",
       "    </tr>\n",
       "    <tr>\n",
       "      <th>2</th>\n",
       "      <td>2011-01-20 02:00:00</td>\n",
       "      <td>0</td>\n",
       "    </tr>\n",
       "    <tr>\n",
       "      <th>3</th>\n",
       "      <td>2011-01-20 03:00:00</td>\n",
       "      <td>0</td>\n",
       "    </tr>\n",
       "    <tr>\n",
       "      <th>4</th>\n",
       "      <td>2011-01-20 04:00:00</td>\n",
       "      <td>0</td>\n",
       "    </tr>\n",
       "  </tbody>\n",
       "</table>\n",
       "</div>"
      ],
      "text/plain": [
       "              datetime  count\n",
       "0  2011-01-20 00:00:00      0\n",
       "1  2011-01-20 01:00:00      0\n",
       "2  2011-01-20 02:00:00      0\n",
       "3  2011-01-20 03:00:00      0\n",
       "4  2011-01-20 04:00:00      0"
      ]
     },
     "execution_count": 12,
     "metadata": {},
     "output_type": "execute_result"
    }
   ],
   "source": [
    "# Same thing as train and test dataset\n",
    "submission = pd.read_csv(\"./data/sampleSubmission.csv\")\n",
    "submission.head()"
   ]
  },
  {
   "cell_type": "markdown",
   "metadata": {},
   "source": [
    "## Step 3: Train a model using AutoGluon’s Tabular Prediction"
   ]
  },
  {
   "cell_type": "markdown",
   "metadata": {},
   "source": [
    "Requirements:\n",
    "* We are prediting `count`, so it is the label we are setting.\n",
    "* Ignore `casual` and `registered` columns as they are also not present in the test dataset. \n",
    "* Use the `root_mean_squared_error` as the metric to use for evaluation.\n",
    "* Set a time limit of 10 minutes (600 seconds).\n",
    "* Use the preset `best_quality` to focus on creating the best model."
   ]
  },
  {
   "cell_type": "code",
   "execution_count": 14,
   "metadata": {
    "execution": {
     "iopub.execute_input": "2022-07-13T17:32:49.417256Z",
     "iopub.status.busy": "2022-07-13T17:32:49.416501Z",
     "iopub.status.idle": "2022-07-13T17:32:49.425876Z",
     "shell.execute_reply": "2022-07-13T17:32:49.424980Z",
     "shell.execute_reply.started": "2022-07-13T17:32:49.417207Z"
    }
   },
   "outputs": [],
   "source": [
    "# Ingnoring \"causal\" and \"registered\" columns as the dont exist in the test data set\n",
    "train = train.drop([\"casual\", \"registered\"], axis=1)"
   ]
  },
  {
   "cell_type": "code",
   "execution_count": 15,
   "metadata": {
    "execution": {
     "iopub.execute_input": "2022-07-13T17:32:49.428406Z",
     "iopub.status.busy": "2022-07-13T17:32:49.427646Z",
     "iopub.status.idle": "2022-07-13T17:32:49.443006Z",
     "shell.execute_reply": "2022-07-13T17:32:49.441721Z",
     "shell.execute_reply.started": "2022-07-13T17:32:49.428360Z"
    }
   },
   "outputs": [
    {
     "data": {
      "text/plain": [
       "(10886, 10)"
      ]
     },
     "execution_count": 15,
     "metadata": {},
     "output_type": "execute_result"
    }
   ],
   "source": [
    "train.shape"
   ]
  },
  {
   "cell_type": "code",
   "execution_count": 16,
   "metadata": {
    "collapsed": true,
    "execution": {
     "iopub.execute_input": "2022-07-13T17:32:49.446609Z",
     "iopub.status.busy": "2022-07-13T17:32:49.446197Z",
     "iopub.status.idle": "2022-07-13T17:42:52.426543Z",
     "shell.execute_reply": "2022-07-13T17:42:52.424886Z",
     "shell.execute_reply.started": "2022-07-13T17:32:49.446566Z"
    },
    "jupyter": {
     "outputs_hidden": true
    }
   },
   "outputs": [
    {
     "name": "stderr",
     "output_type": "stream",
     "text": [
      "No path specified. Models will be saved in: \"AutogluonModels/ag-20220713_203553/\"\n",
      "Presets specified: ['best_quality']\n",
      "Beginning AutoGluon training ... Time limit = 600s\n",
      "AutoGluon will save models to \"AutogluonModels/ag-20220713_203553/\"\n",
      "AutoGluon Version:  0.5.0\n",
      "Python Version:     3.7.10\n",
      "Operating System:   Linux\n",
      "Train Data Rows:    10886\n",
      "Train Data Columns: 9\n",
      "Label Column: count\n",
      "Preprocessing data ...\n",
      "AutoGluon infers your prediction problem is: 'regression' (because dtype of label-column == int and many unique label-values observed).\n",
      "\tLabel info (max, min, mean, stddev): (977, 1, 191.57413, 181.14445)\n",
      "\tIf 'regression' is not the correct problem_type, please manually specify the problem_type parameter during predictor init (You may specify problem_type as one of: ['binary', 'multiclass', 'regression'])\n",
      "Using Feature Generators to preprocess the data ...\n",
      "Fitting AutoMLPipelineFeatureGenerator...\n",
      "\tAvailable Memory:                    3071.04 MB\n",
      "\tTrain Data (Original)  Memory Usage: 0.78 MB (0.0% of available memory)\n",
      "\tInferring data type of each feature based on column values. Set feature_metadata_in to manually specify special dtypes of the features.\n",
      "\tStage 1 Generators:\n",
      "\t\tFitting AsTypeFeatureGenerator...\n",
      "\t\t\tNote: Converting 2 features to boolean dtype as they only contain 2 unique values.\n",
      "\tStage 2 Generators:\n",
      "\t\tFitting FillNaFeatureGenerator...\n",
      "\tStage 3 Generators:\n",
      "\t\tFitting IdentityFeatureGenerator...\n",
      "\t\tFitting DatetimeFeatureGenerator...\n",
      "\tStage 4 Generators:\n",
      "\t\tFitting DropUniqueFeatureGenerator...\n",
      "\tTypes of features in original data (raw dtype, special dtypes):\n",
      "\t\t('datetime', []) : 1 | ['datetime']\n",
      "\t\t('float', [])    : 3 | ['temp', 'atemp', 'windspeed']\n",
      "\t\t('int', [])      : 5 | ['season', 'holiday', 'workingday', 'weather', 'humidity']\n",
      "\tTypes of features in processed data (raw dtype, special dtypes):\n",
      "\t\t('float', [])                : 3 | ['temp', 'atemp', 'windspeed']\n",
      "\t\t('int', [])                  : 3 | ['season', 'weather', 'humidity']\n",
      "\t\t('int', ['bool'])            : 2 | ['holiday', 'workingday']\n",
      "\t\t('int', ['datetime_as_int']) : 5 | ['datetime', 'datetime.year', 'datetime.month', 'datetime.day', 'datetime.dayofweek']\n",
      "\t0.1s = Fit runtime\n",
      "\t9 features in original data used to generate 13 features in processed data.\n",
      "\tTrain Data (Processed) Memory Usage: 0.98 MB (0.0% of available memory)\n",
      "Data preprocessing and feature engineering runtime = 0.16s ...\n",
      "AutoGluon will gauge predictive performance using evaluation metric: 'root_mean_squared_error'\n",
      "\tThis metric's sign has been flipped to adhere to being higher_is_better. The metric score can be multiplied by -1 to get the metric value.\n",
      "\tTo change this, specify the eval_metric parameter of Predictor()\n",
      "AutoGluon will fit 2 stack levels (L1 to L2) ...\n",
      "Fitting 11 L1 models ...\n",
      "Fitting model: KNeighborsUnif_BAG_L1 ... Training model for up to 399.79s of the 599.83s of remaining time.\n",
      "\t-101.5462\t = Validation score   (-root_mean_squared_error)\n",
      "\t0.07s\t = Training   runtime\n",
      "\t0.1s\t = Validation runtime\n",
      "Fitting model: KNeighborsDist_BAG_L1 ... Training model for up to 399.36s of the 599.4s of remaining time.\n",
      "\t-84.1251\t = Validation score   (-root_mean_squared_error)\n",
      "\t0.03s\t = Training   runtime\n",
      "\t0.1s\t = Validation runtime\n",
      "Fitting model: LightGBMXT_BAG_L1 ... Training model for up to 398.98s of the 599.02s of remaining time.\n",
      "\tFitting 8 child models (S1F1 - S1F8) | Fitting with ParallelLocalFoldFittingStrategy\n",
      "2022-07-13 20:35:57,505\tWARNING services.py:2013 -- WARNING: The object store is using /tmp instead of /dev/shm because /dev/shm has only 67108864 bytes available. This will harm performance! You may be able to free up space by deleting files in /dev/shm. If you are inside a Docker container, you can increase /dev/shm size by passing '--shm-size=0.98gb' to 'docker run' (or add it to the run_options list in a Ray cluster config). Make sure to set this to more than 30% of available RAM.\n",
      "\t-131.4609\t = Validation score   (-root_mean_squared_error)\n",
      "\t63.71s\t = Training   runtime\n",
      "\t6.51s\t = Validation runtime\n",
      "Fitting model: LightGBM_BAG_L1 ... Training model for up to 326.1s of the 526.15s of remaining time.\n",
      "\tFitting 8 child models (S1F1 - S1F8) | Fitting with ParallelLocalFoldFittingStrategy\n",
      "\t-131.0542\t = Validation score   (-root_mean_squared_error)\n",
      "\t27.65s\t = Training   runtime\n",
      "\t1.43s\t = Validation runtime\n",
      "Fitting model: RandomForestMSE_BAG_L1 ... Training model for up to 294.73s of the 494.77s of remaining time.\n",
      "\t-116.5443\t = Validation score   (-root_mean_squared_error)\n",
      "\t10.66s\t = Training   runtime\n",
      "\t0.53s\t = Validation runtime\n",
      "Fitting model: CatBoost_BAG_L1 ... Training model for up to 280.79s of the 480.83s of remaining time.\n",
      "\tFitting 8 child models (S1F1 - S1F8) | Fitting with ParallelLocalFoldFittingStrategy\n",
      "\t-130.5088\t = Validation score   (-root_mean_squared_error)\n",
      "\t203.47s\t = Training   runtime\n",
      "\t0.1s\t = Validation runtime\n",
      "Fitting model: ExtraTreesMSE_BAG_L1 ... Training model for up to 74.35s of the 274.39s of remaining time.\n",
      "\t-124.5881\t = Validation score   (-root_mean_squared_error)\n",
      "\t4.84s\t = Training   runtime\n",
      "\t0.52s\t = Validation runtime\n",
      "Fitting model: NeuralNetFastAI_BAG_L1 ... Training model for up to 66.21s of the 266.25s of remaining time.\n",
      "\tFitting 8 child models (S1F1 - S1F8) | Fitting with ParallelLocalFoldFittingStrategy\n",
      "\t-137.3039\t = Validation score   (-root_mean_squared_error)\n",
      "\t74.28s\t = Training   runtime\n",
      "\t0.4s\t = Validation runtime\n",
      "Completed 1/20 k-fold bagging repeats ...\n",
      "Fitting model: WeightedEnsemble_L2 ... Training model for up to 360.0s of the 189.11s of remaining time.\n",
      "\t-84.1251\t = Validation score   (-root_mean_squared_error)\n",
      "\t0.49s\t = Training   runtime\n",
      "\t0.0s\t = Validation runtime\n",
      "Fitting 9 L2 models ...\n",
      "Fitting model: LightGBMXT_BAG_L2 ... Training model for up to 188.55s of the 188.53s of remaining time.\n",
      "\tFitting 8 child models (S1F1 - S1F8) | Fitting with ParallelLocalFoldFittingStrategy\n",
      "\t-60.3585\t = Validation score   (-root_mean_squared_error)\n",
      "\t48.76s\t = Training   runtime\n",
      "\t3.05s\t = Validation runtime\n",
      "Fitting model: LightGBM_BAG_L2 ... Training model for up to 135.51s of the 135.49s of remaining time.\n",
      "\tFitting 8 child models (S1F1 - S1F8) | Fitting with ParallelLocalFoldFittingStrategy\n",
      "\t-55.1451\t = Validation score   (-root_mean_squared_error)\n",
      "\t23.61s\t = Training   runtime\n",
      "\t0.2s\t = Validation runtime\n",
      "Fitting model: RandomForestMSE_BAG_L2 ... Training model for up to 108.74s of the 108.72s of remaining time.\n",
      "\t-53.2332\t = Validation score   (-root_mean_squared_error)\n",
      "\t26.59s\t = Training   runtime\n",
      "\t0.6s\t = Validation runtime\n",
      "Fitting model: CatBoost_BAG_L2 ... Training model for up to 79.06s of the 79.03s of remaining time.\n",
      "\tFitting 8 child models (S1F1 - S1F8) | Fitting with ParallelLocalFoldFittingStrategy\n",
      "\t-55.6071\t = Validation score   (-root_mean_squared_error)\n",
      "\t65.01s\t = Training   runtime\n",
      "\t0.07s\t = Validation runtime\n",
      "Fitting model: ExtraTreesMSE_BAG_L2 ... Training model for up to 11.33s of the 11.31s of remaining time.\n",
      "\t-53.9776\t = Validation score   (-root_mean_squared_error)\n",
      "\t8.35s\t = Training   runtime\n",
      "\t0.58s\t = Validation runtime\n",
      "Completed 1/20 k-fold bagging repeats ...\n",
      "Fitting model: WeightedEnsemble_L3 ... Training model for up to 360.0s of the -0.36s of remaining time.\n",
      "\t-52.7721\t = Validation score   (-root_mean_squared_error)\n",
      "\t0.35s\t = Training   runtime\n",
      "\t0.0s\t = Validation runtime\n",
      "AutoGluon training complete, total runtime = 600.94s ... Best model: \"WeightedEnsemble_L3\"\n",
      "TabularPredictor saved. To load, use: predictor = TabularPredictor.load(\"AutogluonModels/ag-20220713_203553/\")\n"
     ]
    }
   ],
   "source": [
    "predictor = TabularPredictor(label=\"count\").fit(train_data=train, time_limit=600, presets=\"best_quality\")"
   ]
  },
  {
   "cell_type": "markdown",
   "metadata": {},
   "source": [
    "### Review AutoGluon's training run with ranking of models that did the best."
   ]
  },
  {
   "cell_type": "code",
   "execution_count": 17,
   "metadata": {
    "collapsed": true,
    "execution": {
     "iopub.execute_input": "2022-07-13T17:42:52.430950Z",
     "iopub.status.busy": "2022-07-13T17:42:52.429939Z",
     "iopub.status.idle": "2022-07-13T17:42:52.660412Z",
     "shell.execute_reply": "2022-07-13T17:42:52.659140Z",
     "shell.execute_reply.started": "2022-07-13T17:42:52.430895Z"
    },
    "jupyter": {
     "outputs_hidden": true
    }
   },
   "outputs": [
    {
     "name": "stdout",
     "output_type": "stream",
     "text": [
      "*** Summary of fit() ***\n",
      "Estimated performance of each model:\n",
      "                     model   score_val  pred_time_val    fit_time  pred_time_val_marginal  fit_time_marginal  stack_level  can_infer  fit_order\n",
      "0      WeightedEnsemble_L3  -52.772097      11.148791  508.619630                0.000839           0.350687            3       True         15\n",
      "1   RandomForestMSE_BAG_L2  -53.233161      10.288930  411.303523                0.597021          26.589898            2       True         12\n",
      "2     ExtraTreesMSE_BAG_L2  -53.977631      10.275915  393.065772                0.584006           8.352148            2       True         14\n",
      "3          LightGBM_BAG_L2  -55.145089       9.896081  408.321539                0.204172          23.607914            2       True         11\n",
      "4          CatBoost_BAG_L2  -55.607093       9.762754  449.718983                0.070845          65.005358            2       True         13\n",
      "5        LightGBMXT_BAG_L2  -60.358519      12.740680  433.469327                3.048771          48.755702            2       True         10\n",
      "6    KNeighborsDist_BAG_L1  -84.125061       0.103585    0.029622                0.103585           0.029622            1       True          2\n",
      "7      WeightedEnsemble_L2  -84.125061       0.104422    0.515074                0.000837           0.485452            2       True          9\n",
      "8    KNeighborsUnif_BAG_L1 -101.546199       0.103021    0.073298                0.103021           0.073298            1       True          1\n",
      "9   RandomForestMSE_BAG_L1 -116.544294       0.529624   10.664423                0.529624          10.664423            1       True          5\n",
      "10    ExtraTreesMSE_BAG_L1 -124.588053       0.520153    4.839724                0.520153           4.839724            1       True          7\n",
      "11         CatBoost_BAG_L1 -130.508827       0.098543  203.467307                0.098543         203.467307            1       True          6\n",
      "12         LightGBM_BAG_L1 -131.054162       1.427444   27.649178                1.427444          27.649178            1       True          4\n",
      "13       LightGBMXT_BAG_L1 -131.460909       6.509202   63.706777                6.509202          63.706777            1       True          3\n",
      "14  NeuralNetFastAI_BAG_L1 -137.303942       0.400336   74.283295                0.400336          74.283295            1       True          8\n",
      "Number of models trained: 15\n",
      "Types of models trained:\n",
      "{'StackerEnsembleModel_XT', 'WeightedEnsembleModel', 'StackerEnsembleModel_LGB', 'StackerEnsembleModel_KNN', 'StackerEnsembleModel_NNFastAiTabular', 'StackerEnsembleModel_CatBoost', 'StackerEnsembleModel_RF'}\n",
      "Bagging used: True  (with 8 folds)\n",
      "Multi-layer stack-ensembling used: True  (with 3 levels)\n",
      "Feature Metadata (Processed):\n",
      "(raw dtype, special dtypes):\n",
      "('float', [])                : 3 | ['temp', 'atemp', 'windspeed']\n",
      "('int', [])                  : 3 | ['season', 'weather', 'humidity']\n",
      "('int', ['bool'])            : 2 | ['holiday', 'workingday']\n",
      "('int', ['datetime_as_int']) : 5 | ['datetime', 'datetime.year', 'datetime.month', 'datetime.day', 'datetime.dayofweek']\n",
      "Plot summary of models saved to file: AutogluonModels/ag-20220713_203553/SummaryOfModels.html\n",
      "*** End of fit() summary ***\n"
     ]
    },
    {
     "data": {
      "text/plain": [
       "{'model_types': {'KNeighborsUnif_BAG_L1': 'StackerEnsembleModel_KNN',\n",
       "  'KNeighborsDist_BAG_L1': 'StackerEnsembleModel_KNN',\n",
       "  'LightGBMXT_BAG_L1': 'StackerEnsembleModel_LGB',\n",
       "  'LightGBM_BAG_L1': 'StackerEnsembleModel_LGB',\n",
       "  'RandomForestMSE_BAG_L1': 'StackerEnsembleModel_RF',\n",
       "  'CatBoost_BAG_L1': 'StackerEnsembleModel_CatBoost',\n",
       "  'ExtraTreesMSE_BAG_L1': 'StackerEnsembleModel_XT',\n",
       "  'NeuralNetFastAI_BAG_L1': 'StackerEnsembleModel_NNFastAiTabular',\n",
       "  'WeightedEnsemble_L2': 'WeightedEnsembleModel',\n",
       "  'LightGBMXT_BAG_L2': 'StackerEnsembleModel_LGB',\n",
       "  'LightGBM_BAG_L2': 'StackerEnsembleModel_LGB',\n",
       "  'RandomForestMSE_BAG_L2': 'StackerEnsembleModel_RF',\n",
       "  'CatBoost_BAG_L2': 'StackerEnsembleModel_CatBoost',\n",
       "  'ExtraTreesMSE_BAG_L2': 'StackerEnsembleModel_XT',\n",
       "  'WeightedEnsemble_L3': 'WeightedEnsembleModel'},\n",
       " 'model_performance': {'KNeighborsUnif_BAG_L1': -101.54619908446061,\n",
       "  'KNeighborsDist_BAG_L1': -84.12506123181602,\n",
       "  'LightGBMXT_BAG_L1': -131.46090891834504,\n",
       "  'LightGBM_BAG_L1': -131.054161598899,\n",
       "  'RandomForestMSE_BAG_L1': -116.54429428704391,\n",
       "  'CatBoost_BAG_L1': -130.508827011041,\n",
       "  'ExtraTreesMSE_BAG_L1': -124.58805258915959,\n",
       "  'NeuralNetFastAI_BAG_L1': -137.30394237662156,\n",
       "  'WeightedEnsemble_L2': -84.12506123181602,\n",
       "  'LightGBMXT_BAG_L2': -60.35851891644969,\n",
       "  'LightGBM_BAG_L2': -55.14508880359458,\n",
       "  'RandomForestMSE_BAG_L2': -53.23316066280676,\n",
       "  'CatBoost_BAG_L2': -55.6070926933228,\n",
       "  'ExtraTreesMSE_BAG_L2': -53.97763054044419,\n",
       "  'WeightedEnsemble_L3': -52.77209703434563},\n",
       " 'model_best': 'WeightedEnsemble_L3',\n",
       " 'model_paths': {'KNeighborsUnif_BAG_L1': 'AutogluonModels/ag-20220713_203553/models/KNeighborsUnif_BAG_L1/',\n",
       "  'KNeighborsDist_BAG_L1': 'AutogluonModels/ag-20220713_203553/models/KNeighborsDist_BAG_L1/',\n",
       "  'LightGBMXT_BAG_L1': 'AutogluonModels/ag-20220713_203553/models/LightGBMXT_BAG_L1/',\n",
       "  'LightGBM_BAG_L1': 'AutogluonModels/ag-20220713_203553/models/LightGBM_BAG_L1/',\n",
       "  'RandomForestMSE_BAG_L1': 'AutogluonModels/ag-20220713_203553/models/RandomForestMSE_BAG_L1/',\n",
       "  'CatBoost_BAG_L1': 'AutogluonModels/ag-20220713_203553/models/CatBoost_BAG_L1/',\n",
       "  'ExtraTreesMSE_BAG_L1': 'AutogluonModels/ag-20220713_203553/models/ExtraTreesMSE_BAG_L1/',\n",
       "  'NeuralNetFastAI_BAG_L1': 'AutogluonModels/ag-20220713_203553/models/NeuralNetFastAI_BAG_L1/',\n",
       "  'WeightedEnsemble_L2': 'AutogluonModels/ag-20220713_203553/models/WeightedEnsemble_L2/',\n",
       "  'LightGBMXT_BAG_L2': 'AutogluonModels/ag-20220713_203553/models/LightGBMXT_BAG_L2/',\n",
       "  'LightGBM_BAG_L2': 'AutogluonModels/ag-20220713_203553/models/LightGBM_BAG_L2/',\n",
       "  'RandomForestMSE_BAG_L2': 'AutogluonModels/ag-20220713_203553/models/RandomForestMSE_BAG_L2/',\n",
       "  'CatBoost_BAG_L2': 'AutogluonModels/ag-20220713_203553/models/CatBoost_BAG_L2/',\n",
       "  'ExtraTreesMSE_BAG_L2': 'AutogluonModels/ag-20220713_203553/models/ExtraTreesMSE_BAG_L2/',\n",
       "  'WeightedEnsemble_L3': 'AutogluonModels/ag-20220713_203553/models/WeightedEnsemble_L3/'},\n",
       " 'model_fit_times': {'KNeighborsUnif_BAG_L1': 0.07329845428466797,\n",
       "  'KNeighborsDist_BAG_L1': 0.02962183952331543,\n",
       "  'LightGBMXT_BAG_L1': 63.70677709579468,\n",
       "  'LightGBM_BAG_L1': 27.64917778968811,\n",
       "  'RandomForestMSE_BAG_L1': 10.664422988891602,\n",
       "  'CatBoost_BAG_L1': 203.46730732917786,\n",
       "  'ExtraTreesMSE_BAG_L1': 4.839723587036133,\n",
       "  'NeuralNetFastAI_BAG_L1': 74.28329539299011,\n",
       "  'WeightedEnsemble_L2': 0.48545241355895996,\n",
       "  'LightGBMXT_BAG_L2': 48.75570225715637,\n",
       "  'LightGBM_BAG_L2': 23.607914447784424,\n",
       "  'RandomForestMSE_BAG_L2': 26.589898347854614,\n",
       "  'CatBoost_BAG_L2': 65.00535821914673,\n",
       "  'ExtraTreesMSE_BAG_L2': 8.352147579193115,\n",
       "  'WeightedEnsemble_L3': 0.35068726539611816},\n",
       " 'model_pred_times': {'KNeighborsUnif_BAG_L1': 0.10302114486694336,\n",
       "  'KNeighborsDist_BAG_L1': 0.10358524322509766,\n",
       "  'LightGBMXT_BAG_L1': 6.509202003479004,\n",
       "  'LightGBM_BAG_L1': 1.4274444580078125,\n",
       "  'RandomForestMSE_BAG_L1': 0.5296244621276855,\n",
       "  'CatBoost_BAG_L1': 0.09854269027709961,\n",
       "  'ExtraTreesMSE_BAG_L1': 0.5201528072357178,\n",
       "  'NeuralNetFastAI_BAG_L1': 0.40033626556396484,\n",
       "  'WeightedEnsemble_L2': 0.0008366107940673828,\n",
       "  'LightGBMXT_BAG_L2': 3.0487709045410156,\n",
       "  'LightGBM_BAG_L2': 0.20417189598083496,\n",
       "  'RandomForestMSE_BAG_L2': 0.5970208644866943,\n",
       "  'CatBoost_BAG_L2': 0.07084465026855469,\n",
       "  'ExtraTreesMSE_BAG_L2': 0.5840063095092773,\n",
       "  'WeightedEnsemble_L3': 0.0008385181427001953},\n",
       " 'num_bag_folds': 8,\n",
       " 'max_stack_level': 3,\n",
       " 'model_hyperparams': {'KNeighborsUnif_BAG_L1': {'use_orig_features': True,\n",
       "   'max_base_models': 25,\n",
       "   'max_base_models_per_type': 5,\n",
       "   'save_bag_folds': True,\n",
       "   'use_child_oof': True},\n",
       "  'KNeighborsDist_BAG_L1': {'use_orig_features': True,\n",
       "   'max_base_models': 25,\n",
       "   'max_base_models_per_type': 5,\n",
       "   'save_bag_folds': True,\n",
       "   'use_child_oof': True},\n",
       "  'LightGBMXT_BAG_L1': {'use_orig_features': True,\n",
       "   'max_base_models': 25,\n",
       "   'max_base_models_per_type': 5,\n",
       "   'save_bag_folds': True},\n",
       "  'LightGBM_BAG_L1': {'use_orig_features': True,\n",
       "   'max_base_models': 25,\n",
       "   'max_base_models_per_type': 5,\n",
       "   'save_bag_folds': True},\n",
       "  'RandomForestMSE_BAG_L1': {'use_orig_features': True,\n",
       "   'max_base_models': 25,\n",
       "   'max_base_models_per_type': 5,\n",
       "   'save_bag_folds': True,\n",
       "   'use_child_oof': True},\n",
       "  'CatBoost_BAG_L1': {'use_orig_features': True,\n",
       "   'max_base_models': 25,\n",
       "   'max_base_models_per_type': 5,\n",
       "   'save_bag_folds': True},\n",
       "  'ExtraTreesMSE_BAG_L1': {'use_orig_features': True,\n",
       "   'max_base_models': 25,\n",
       "   'max_base_models_per_type': 5,\n",
       "   'save_bag_folds': True,\n",
       "   'use_child_oof': True},\n",
       "  'NeuralNetFastAI_BAG_L1': {'use_orig_features': True,\n",
       "   'max_base_models': 25,\n",
       "   'max_base_models_per_type': 5,\n",
       "   'save_bag_folds': True},\n",
       "  'WeightedEnsemble_L2': {'use_orig_features': False,\n",
       "   'max_base_models': 25,\n",
       "   'max_base_models_per_type': 5,\n",
       "   'save_bag_folds': True},\n",
       "  'LightGBMXT_BAG_L2': {'use_orig_features': True,\n",
       "   'max_base_models': 25,\n",
       "   'max_base_models_per_type': 5,\n",
       "   'save_bag_folds': True},\n",
       "  'LightGBM_BAG_L2': {'use_orig_features': True,\n",
       "   'max_base_models': 25,\n",
       "   'max_base_models_per_type': 5,\n",
       "   'save_bag_folds': True},\n",
       "  'RandomForestMSE_BAG_L2': {'use_orig_features': True,\n",
       "   'max_base_models': 25,\n",
       "   'max_base_models_per_type': 5,\n",
       "   'save_bag_folds': True,\n",
       "   'use_child_oof': True},\n",
       "  'CatBoost_BAG_L2': {'use_orig_features': True,\n",
       "   'max_base_models': 25,\n",
       "   'max_base_models_per_type': 5,\n",
       "   'save_bag_folds': True},\n",
       "  'ExtraTreesMSE_BAG_L2': {'use_orig_features': True,\n",
       "   'max_base_models': 25,\n",
       "   'max_base_models_per_type': 5,\n",
       "   'save_bag_folds': True,\n",
       "   'use_child_oof': True},\n",
       "  'WeightedEnsemble_L3': {'use_orig_features': False,\n",
       "   'max_base_models': 25,\n",
       "   'max_base_models_per_type': 5,\n",
       "   'save_bag_folds': True}},\n",
       " 'leaderboard':                      model   score_val  pred_time_val    fit_time  \\\n",
       " 0      WeightedEnsemble_L3  -52.772097      11.148791  508.619630   \n",
       " 1   RandomForestMSE_BAG_L2  -53.233161      10.288930  411.303523   \n",
       " 2     ExtraTreesMSE_BAG_L2  -53.977631      10.275915  393.065772   \n",
       " 3          LightGBM_BAG_L2  -55.145089       9.896081  408.321539   \n",
       " 4          CatBoost_BAG_L2  -55.607093       9.762754  449.718983   \n",
       " 5        LightGBMXT_BAG_L2  -60.358519      12.740680  433.469327   \n",
       " 6    KNeighborsDist_BAG_L1  -84.125061       0.103585    0.029622   \n",
       " 7      WeightedEnsemble_L2  -84.125061       0.104422    0.515074   \n",
       " 8    KNeighborsUnif_BAG_L1 -101.546199       0.103021    0.073298   \n",
       " 9   RandomForestMSE_BAG_L1 -116.544294       0.529624   10.664423   \n",
       " 10    ExtraTreesMSE_BAG_L1 -124.588053       0.520153    4.839724   \n",
       " 11         CatBoost_BAG_L1 -130.508827       0.098543  203.467307   \n",
       " 12         LightGBM_BAG_L1 -131.054162       1.427444   27.649178   \n",
       " 13       LightGBMXT_BAG_L1 -131.460909       6.509202   63.706777   \n",
       " 14  NeuralNetFastAI_BAG_L1 -137.303942       0.400336   74.283295   \n",
       " \n",
       "     pred_time_val_marginal  fit_time_marginal  stack_level  can_infer  \\\n",
       " 0                 0.000839           0.350687            3       True   \n",
       " 1                 0.597021          26.589898            2       True   \n",
       " 2                 0.584006           8.352148            2       True   \n",
       " 3                 0.204172          23.607914            2       True   \n",
       " 4                 0.070845          65.005358            2       True   \n",
       " 5                 3.048771          48.755702            2       True   \n",
       " 6                 0.103585           0.029622            1       True   \n",
       " 7                 0.000837           0.485452            2       True   \n",
       " 8                 0.103021           0.073298            1       True   \n",
       " 9                 0.529624          10.664423            1       True   \n",
       " 10                0.520153           4.839724            1       True   \n",
       " 11                0.098543         203.467307            1       True   \n",
       " 12                1.427444          27.649178            1       True   \n",
       " 13                6.509202          63.706777            1       True   \n",
       " 14                0.400336          74.283295            1       True   \n",
       " \n",
       "     fit_order  \n",
       " 0          15  \n",
       " 1          12  \n",
       " 2          14  \n",
       " 3          11  \n",
       " 4          13  \n",
       " 5          10  \n",
       " 6           2  \n",
       " 7           9  \n",
       " 8           1  \n",
       " 9           5  \n",
       " 10          7  \n",
       " 11          6  \n",
       " 12          4  \n",
       " 13          3  \n",
       " 14          8  }"
      ]
     },
     "execution_count": 17,
     "metadata": {},
     "output_type": "execute_result"
    }
   ],
   "source": [
    "predictor.fit_summary()"
   ]
  },
  {
   "cell_type": "markdown",
   "metadata": {},
   "source": [
    "### Create predictions from test dataset"
   ]
  },
  {
   "cell_type": "code",
   "execution_count": 27,
   "metadata": {
    "execution": {
     "iopub.execute_input": "2022-07-13T17:42:52.662801Z",
     "iopub.status.busy": "2022-07-13T17:42:52.661972Z",
     "iopub.status.idle": "2022-07-13T17:43:14.279038Z",
     "shell.execute_reply": "2022-07-13T17:43:14.277750Z",
     "shell.execute_reply.started": "2022-07-13T17:42:52.662751Z"
    }
   },
   "outputs": [],
   "source": [
    "predictions = pd.Series(predictor.predict(test))"
   ]
  },
  {
   "cell_type": "code",
   "execution_count": 28,
   "metadata": {
    "execution": {
     "iopub.execute_input": "2022-07-13T17:43:14.281394Z",
     "iopub.status.busy": "2022-07-13T17:43:14.280660Z",
     "iopub.status.idle": "2022-07-13T17:43:14.294030Z",
     "shell.execute_reply": "2022-07-13T17:43:14.292321Z",
     "shell.execute_reply.started": "2022-07-13T17:43:14.281358Z"
    }
   },
   "outputs": [
    {
     "data": {
      "text/plain": [
       "0    22.544945\n",
       "1    40.399529\n",
       "2    44.766205\n",
       "3    48.396030\n",
       "4    51.569412\n",
       "Name: count, dtype: float32"
      ]
     },
     "execution_count": 28,
     "metadata": {},
     "output_type": "execute_result"
    }
   ],
   "source": [
    "predictions.head()"
   ]
  },
  {
   "cell_type": "markdown",
   "metadata": {},
   "source": [
    "#### NOTE: Kaggle will reject the submission if we don't set everything to be > 0."
   ]
  },
  {
   "cell_type": "code",
   "execution_count": 29,
   "metadata": {
    "execution": {
     "iopub.execute_input": "2022-07-13T17:43:14.298256Z",
     "iopub.status.busy": "2022-07-13T17:43:14.297814Z",
     "iopub.status.idle": "2022-07-13T17:43:14.311434Z",
     "shell.execute_reply": "2022-07-13T17:43:14.309997Z",
     "shell.execute_reply.started": "2022-07-13T17:43:14.298208Z"
    }
   },
   "outputs": [
    {
     "data": {
      "text/plain": [
       "count    6493.000000\n",
       "mean      100.639709\n",
       "std        90.207153\n",
       "min         3.006685\n",
       "25%        20.838528\n",
       "50%        62.918831\n",
       "75%       169.302902\n",
       "max       365.170532\n",
       "Name: count, dtype: float64"
      ]
     },
     "execution_count": 29,
     "metadata": {},
     "output_type": "execute_result"
    }
   ],
   "source": [
    "# Describe the `predictions` series to see if there are any negative values\n",
    "predictions.describe()"
   ]
  },
  {
   "cell_type": "code",
   "execution_count": 30,
   "metadata": {
    "execution": {
     "iopub.execute_input": "2022-07-13T17:43:14.313938Z",
     "iopub.status.busy": "2022-07-13T17:43:14.313450Z",
     "iopub.status.idle": "2022-07-13T17:43:14.324725Z",
     "shell.execute_reply": "2022-07-13T17:43:14.323322Z",
     "shell.execute_reply.started": "2022-07-13T17:43:14.313893Z"
    }
   },
   "outputs": [
    {
     "name": "stdout",
     "output_type": "stream",
     "text": [
      "We have 0 negative values\n"
     ]
    }
   ],
   "source": [
    "# How many negative values do we have?\n",
    "print(\"We have {} negative values\".format(len(predictions[predictions < 0])))"
   ]
  },
  {
   "cell_type": "code",
   "execution_count": 31,
   "metadata": {
    "execution": {
     "iopub.execute_input": "2022-07-13T13:19:43.250131Z",
     "iopub.status.busy": "2022-07-13T13:19:43.249801Z",
     "iopub.status.idle": "2022-07-13T13:19:43.274484Z",
     "shell.execute_reply": "2022-07-13T13:19:43.273331Z",
     "shell.execute_reply.started": "2022-07-13T13:19:43.250097Z"
    }
   },
   "outputs": [
    {
     "data": {
      "text/html": [
       "<div>\n",
       "<style scoped>\n",
       "    .dataframe tbody tr th:only-of-type {\n",
       "        vertical-align: middle;\n",
       "    }\n",
       "\n",
       "    .dataframe tbody tr th {\n",
       "        vertical-align: top;\n",
       "    }\n",
       "\n",
       "    .dataframe thead th {\n",
       "        text-align: right;\n",
       "    }\n",
       "</style>\n",
       "<table border=\"1\" class=\"dataframe\">\n",
       "  <thead>\n",
       "    <tr style=\"text-align: right;\">\n",
       "      <th></th>\n",
       "      <th>datetime</th>\n",
       "      <th>count</th>\n",
       "    </tr>\n",
       "  </thead>\n",
       "  <tbody>\n",
       "    <tr>\n",
       "      <th>0</th>\n",
       "      <td>2011-01-20 00:00:00</td>\n",
       "      <td>22.544945</td>\n",
       "    </tr>\n",
       "    <tr>\n",
       "      <th>1</th>\n",
       "      <td>2011-01-20 01:00:00</td>\n",
       "      <td>40.399529</td>\n",
       "    </tr>\n",
       "    <tr>\n",
       "      <th>2</th>\n",
       "      <td>2011-01-20 02:00:00</td>\n",
       "      <td>44.766205</td>\n",
       "    </tr>\n",
       "    <tr>\n",
       "      <th>3</th>\n",
       "      <td>2011-01-20 03:00:00</td>\n",
       "      <td>48.396030</td>\n",
       "    </tr>\n",
       "    <tr>\n",
       "      <th>4</th>\n",
       "      <td>2011-01-20 04:00:00</td>\n",
       "      <td>51.569412</td>\n",
       "    </tr>\n",
       "  </tbody>\n",
       "</table>\n",
       "</div>"
      ],
      "text/plain": [
       "              datetime      count\n",
       "0  2011-01-20 00:00:00  22.544945\n",
       "1  2011-01-20 01:00:00  40.399529\n",
       "2  2011-01-20 02:00:00  44.766205\n",
       "3  2011-01-20 03:00:00  48.396030\n",
       "4  2011-01-20 04:00:00  51.569412"
      ]
     },
     "execution_count": 31,
     "metadata": {},
     "output_type": "execute_result"
    }
   ],
   "source": [
    "submission[\"count\"] = predictions\n",
    "# Set them to zero\n",
    "submission[\"count\"] = submission[\"count\"].apply(lambda x : 0 if (x < 0 ) else x)\n",
    "submission.head()"
   ]
  },
  {
   "cell_type": "markdown",
   "metadata": {},
   "source": [
    "### Set predictions to submission dataframe, save, and submit"
   ]
  },
  {
   "cell_type": "code",
   "execution_count": 24,
   "metadata": {
    "execution": {
     "iopub.execute_input": "2022-07-13T13:19:43.276902Z",
     "iopub.status.busy": "2022-07-13T13:19:43.276400Z",
     "iopub.status.idle": "2022-07-13T13:19:43.310768Z",
     "shell.execute_reply": "2022-07-13T13:19:43.309359Z",
     "shell.execute_reply.started": "2022-07-13T13:19:43.276864Z"
    }
   },
   "outputs": [],
   "source": [
    "submission.to_csv(\"submission.csv\", index=False)"
   ]
  },
  {
   "cell_type": "code",
   "execution_count": 27,
   "metadata": {
    "execution": {
     "iopub.execute_input": "2022-07-13T13:20:54.685891Z",
     "iopub.status.busy": "2022-07-13T13:20:54.685394Z",
     "iopub.status.idle": "2022-07-13T13:20:57.351520Z",
     "shell.execute_reply": "2022-07-13T13:20:57.350199Z",
     "shell.execute_reply.started": "2022-07-13T13:20:54.685856Z"
    }
   },
   "outputs": [],
   "source": [
    "!kaggle competitions submit -c bike-sharing-demand -f submission.csv -m \"first raw submission\""
   ]
  },
  {
   "cell_type": "markdown",
   "metadata": {},
   "source": [
    "#### View submission via the command line or in the web browser under the competition's page - `My Submissions`"
   ]
  },
  {
   "cell_type": "code",
   "execution_count": 32,
   "metadata": {
    "execution": {
     "iopub.execute_input": "2022-07-13T13:20:59.834051Z",
     "iopub.status.busy": "2022-07-13T13:20:59.833630Z",
     "iopub.status.idle": "2022-07-13T13:21:01.351038Z",
     "shell.execute_reply": "2022-07-13T13:21:01.349503Z",
     "shell.execute_reply.started": "2022-07-13T13:20:59.834018Z"
    }
   },
   "outputs": [
    {
     "name": "stdout",
     "output_type": "stream",
     "text": [
      "fileName                     date                 description                        status    publicScore  privateScore  \n",
      "---------------------------  -------------------  ---------------------------------  --------  -----------  ------------  \n",
      "submission_new_hpo.csv       2022-07-13 18:18:07  new features with hyperparameters  complete  0.45967      0.45967       \n",
      "submission_new_features.csv  2022-07-13 14:34:44  new features                       complete  0.45996      0.45996       \n",
      "submission.csv               2022-07-13 13:20:56  first raw submission               complete  1.78428      1.78428       \n",
      "submission.csv               2022-07-12 23:00:27  first raw submission               complete  1.80657      1.80657       \n"
     ]
    }
   ],
   "source": [
    "!kaggle competitions submissions -c bike-sharing-demand | tail -n +1 | head -n 6"
   ]
  },
  {
   "cell_type": "markdown",
   "metadata": {},
   "source": [
    "#### Initial score of 1.80657      "
   ]
  },
  {
   "cell_type": "markdown",
   "metadata": {},
   "source": [
    "## Step 4: Exploratory Data Analysis and Creating an additional feature\n"
   ]
  },
  {
   "cell_type": "code",
   "execution_count": 33,
   "metadata": {
    "execution": {
     "iopub.execute_input": "2022-07-13T17:43:14.326603Z",
     "iopub.status.busy": "2022-07-13T17:43:14.326203Z",
     "iopub.status.idle": "2022-07-13T17:43:15.900333Z",
     "shell.execute_reply": "2022-07-13T17:43:15.898950Z",
     "shell.execute_reply.started": "2022-07-13T17:43:14.326570Z"
    }
   },
   "outputs": [
    {
     "name": "stderr",
     "output_type": "stream",
     "text": [
      "/usr/local/lib/python3.7/site-packages/ipykernel_launcher.py:4: UserWarning: To output multiple subplots, the figure containing the passed axes is being cleared\n",
      "  after removing the cwd from sys.path.\n"
     ]
    },
    {
     "data": {
      "image/png": "[encoded data removed]",
      "text/plain": [
       "<Figure size 720x720 with 12 Axes>"
      ]
     },
     "metadata": {
      "needs_background": "light"
     },
     "output_type": "display_data"
    }
   ],
   "source": [
    "# Create a histogram of all features to show the distribution of each one relative to the data. This is part of the exploritory data analysis\n",
    "fig = plt.figure(figsize=(10,10))\n",
    "ax = fig.gca()\n",
    "train.hist(ax=ax)\n",
    "plt.show();"
   ]
  },
  {
   "cell_type": "markdown",
   "metadata": {},
   "source": [
    "### Findings from the plot above:\n",
    "- We can extract time of the day hour and month from datetime column. \n",
    "- The four seasons have are perfetly balanced with each others, there is no season more that the other.\n",
    "- There are some features that needs to be with a categoey type such as \"season\" and \"weather\" .\n",
    "- Our target column \"count\" is right-skewed, it ranges from 0 to almost 1000, but the values are centered under 250.\n"
   ]
  },
  {
   "cell_type": "code",
   "execution_count": 34,
   "metadata": {
    "execution": {
     "iopub.execute_input": "2022-07-13T17:43:15.902841Z",
     "iopub.status.busy": "2022-07-13T17:43:15.902123Z",
     "iopub.status.idle": "2022-07-13T17:43:15.921951Z",
     "shell.execute_reply": "2022-07-13T17:43:15.920204Z",
     "shell.execute_reply.started": "2022-07-13T17:43:15.902790Z"
    }
   },
   "outputs": [],
   "source": [
    "# create a new features from datetime on train dataset\n",
    "train[\"hour\"] = train[\"datetime\"].dt.hour\n",
    "train[\"day\"] = train[\"datetime\"].dt.day\n",
    "train[\"month\"] = train[\"datetime\"].dt.month\n",
    "\n",
    "# create a new features from datetime on test dataset\n",
    "test[\"hour\"] = test[\"datetime\"].dt.hour\n",
    "test[\"day\"] = test[\"datetime\"].dt.day\n",
    "test[\"month\"] = test[\"datetime\"].dt.month"
   ]
  },
  {
   "cell_type": "code",
   "execution_count": 35,
   "metadata": {
    "execution": {
     "iopub.execute_input": "2022-07-13T17:43:15.924765Z",
     "iopub.status.busy": "2022-07-13T17:43:15.923967Z",
     "iopub.status.idle": "2022-07-13T17:43:15.941291Z",
     "shell.execute_reply": "2022-07-13T17:43:15.940129Z",
     "shell.execute_reply.started": "2022-07-13T17:43:15.924721Z"
    }
   },
   "outputs": [
    {
     "data": {
      "text/html": [
       "<div>\n",
       "<style scoped>\n",
       "    .dataframe tbody tr th:only-of-type {\n",
       "        vertical-align: middle;\n",
       "    }\n",
       "\n",
       "    .dataframe tbody tr th {\n",
       "        vertical-align: top;\n",
       "    }\n",
       "\n",
       "    .dataframe thead th {\n",
       "        text-align: right;\n",
       "    }\n",
       "</style>\n",
       "<table border=\"1\" class=\"dataframe\">\n",
       "  <thead>\n",
       "    <tr style=\"text-align: right;\">\n",
       "      <th></th>\n",
       "      <th>datetime</th>\n",
       "      <th>season</th>\n",
       "      <th>holiday</th>\n",
       "      <th>workingday</th>\n",
       "      <th>weather</th>\n",
       "      <th>temp</th>\n",
       "      <th>atemp</th>\n",
       "      <th>humidity</th>\n",
       "      <th>windspeed</th>\n",
       "      <th>count</th>\n",
       "      <th>hour</th>\n",
       "      <th>day</th>\n",
       "      <th>month</th>\n",
       "    </tr>\n",
       "  </thead>\n",
       "  <tbody>\n",
       "    <tr>\n",
       "      <th>0</th>\n",
       "      <td>2011-01-01 00:00:00</td>\n",
       "      <td>1</td>\n",
       "      <td>0</td>\n",
       "      <td>0</td>\n",
       "      <td>1</td>\n",
       "      <td>9.84</td>\n",
       "      <td>14.395</td>\n",
       "      <td>81</td>\n",
       "      <td>0.0</td>\n",
       "      <td>16</td>\n",
       "      <td>0</td>\n",
       "      <td>1</td>\n",
       "      <td>1</td>\n",
       "    </tr>\n",
       "    <tr>\n",
       "      <th>1</th>\n",
       "      <td>2011-01-01 01:00:00</td>\n",
       "      <td>1</td>\n",
       "      <td>0</td>\n",
       "      <td>0</td>\n",
       "      <td>1</td>\n",
       "      <td>9.02</td>\n",
       "      <td>13.635</td>\n",
       "      <td>80</td>\n",
       "      <td>0.0</td>\n",
       "      <td>40</td>\n",
       "      <td>1</td>\n",
       "      <td>1</td>\n",
       "      <td>1</td>\n",
       "    </tr>\n",
       "  </tbody>\n",
       "</table>\n",
       "</div>"
      ],
      "text/plain": [
       "             datetime  season  holiday  workingday  weather  temp   atemp  \\\n",
       "0 2011-01-01 00:00:00       1        0           0        1  9.84  14.395   \n",
       "1 2011-01-01 01:00:00       1        0           0        1  9.02  13.635   \n",
       "\n",
       "   humidity  windspeed  count  hour  day  month  \n",
       "0        81        0.0     16     0    1      1  \n",
       "1        80        0.0     40     1    1      1  "
      ]
     },
     "execution_count": 35,
     "metadata": {},
     "output_type": "execute_result"
    }
   ],
   "source": [
    "# Sanity check\n",
    "train.head(2)"
   ]
  },
  {
   "cell_type": "markdown",
   "metadata": {},
   "source": [
    "## Make category types "
   ]
  },
  {
   "cell_type": "code",
   "execution_count": 36,
   "metadata": {
    "execution": {
     "iopub.execute_input": "2022-07-13T17:43:15.945082Z",
     "iopub.status.busy": "2022-07-13T17:43:15.943699Z",
     "iopub.status.idle": "2022-07-13T17:43:15.960785Z",
     "shell.execute_reply": "2022-07-13T17:43:15.959847Z",
     "shell.execute_reply.started": "2022-07-13T17:43:15.944942Z"
    }
   },
   "outputs": [],
   "source": [
    "train[\"season\"]  = train[\"season\"].astype(\"category\")\n",
    "train[\"weather\"] = train[\"weather\"].astype(\"category\")\n",
    "test[\"season\"]   = test[\"season\"] .astype(\"category\")\n",
    "test[\"weather\"]  = test[\"weather\"].astype(\"category\")"
   ]
  },
  {
   "cell_type": "code",
   "execution_count": 37,
   "metadata": {
    "execution": {
     "iopub.execute_input": "2022-07-13T17:43:15.963007Z",
     "iopub.status.busy": "2022-07-13T17:43:15.962145Z",
     "iopub.status.idle": "2022-07-13T17:43:17.351361Z",
     "shell.execute_reply": "2022-07-13T17:43:17.349616Z",
     "shell.execute_reply.started": "2022-07-13T17:43:15.962971Z"
    }
   },
   "outputs": [
    {
     "name": "stderr",
     "output_type": "stream",
     "text": [
      "/usr/local/lib/python3.7/site-packages/ipykernel_launcher.py:4: UserWarning: To output multiple subplots, the figure containing the passed axes is being cleared\n",
      "  after removing the cwd from sys.path.\n"
     ]
    },
    {
     "data": {
      "image/png": "[encoded data removed]",
      "text/plain": [
       "<Figure size 720x720 with 12 Axes>"
      ]
     },
     "metadata": {
      "needs_background": "light"
     },
     "output_type": "display_data"
    }
   ],
   "source": [
    "# View histogram of all features again now with the hour feature\n",
    "fig = plt.figure(figsize=(10,10))\n",
    "ax = fig.gca()\n",
    "train.hist(ax=ax)\n",
    "plt.show();"
   ]
  },
  {
   "cell_type": "markdown",
   "metadata": {},
   "source": [
    "## Step 5: Rerun the model with the same settings as before, just with more features"
   ]
  },
  {
   "cell_type": "code",
   "execution_count": 38,
   "metadata": {
    "collapsed": true,
    "execution": {
     "iopub.execute_input": "2022-07-13T17:43:17.353964Z",
     "iopub.status.busy": "2022-07-13T17:43:17.353241Z",
     "iopub.status.idle": "2022-07-13T17:53:31.769010Z",
     "shell.execute_reply": "2022-07-13T17:53:31.767717Z",
     "shell.execute_reply.started": "2022-07-13T17:43:17.353912Z"
    },
    "jupyter": {
     "outputs_hidden": true
    }
   },
   "outputs": [
    {
     "name": "stderr",
     "output_type": "stream",
     "text": [
      "No path specified. Models will be saved in: \"AutogluonModels/ag-20220713_204750/\"\n",
      "Presets specified: ['best_quality']\n",
      "Beginning AutoGluon training ... Time limit = 600s\n",
      "AutoGluon will save models to \"AutogluonModels/ag-20220713_204750/\"\n",
      "AutoGluon Version:  0.5.0\n",
      "Python Version:     3.7.10\n",
      "Operating System:   Linux\n",
      "Train Data Rows:    10886\n",
      "Train Data Columns: 12\n",
      "Label Column: count\n",
      "Preprocessing data ...\n",
      "AutoGluon infers your prediction problem is: 'regression' (because dtype of label-column == int and many unique label-values observed).\n",
      "\tLabel info (max, min, mean, stddev): (977, 1, 191.57413, 181.14445)\n",
      "\tIf 'regression' is not the correct problem_type, please manually specify the problem_type parameter during predictor init (You may specify problem_type as one of: ['binary', 'multiclass', 'regression'])\n",
      "Using Feature Generators to preprocess the data ...\n",
      "Fitting AutoMLPipelineFeatureGenerator...\n",
      "\tAvailable Memory:                    2163.67 MB\n",
      "\tTrain Data (Original)  Memory Usage: 0.89 MB (0.0% of available memory)\n",
      "\tInferring data type of each feature based on column values. Set feature_metadata_in to manually specify special dtypes of the features.\n",
      "\tStage 1 Generators:\n",
      "\t\tFitting AsTypeFeatureGenerator...\n",
      "\t\t\tNote: Converting 2 features to boolean dtype as they only contain 2 unique values.\n",
      "\tStage 2 Generators:\n",
      "\t\tFitting FillNaFeatureGenerator...\n",
      "\tStage 3 Generators:\n",
      "\t\tFitting IdentityFeatureGenerator...\n",
      "\t\tFitting CategoryFeatureGenerator...\n",
      "\t\t\tFitting CategoryMemoryMinimizeFeatureGenerator...\n",
      "\t\tFitting DatetimeFeatureGenerator...\n",
      "\tStage 4 Generators:\n",
      "\t\tFitting DropUniqueFeatureGenerator...\n",
      "\tTypes of features in original data (raw dtype, special dtypes):\n",
      "\t\t('category', []) : 2 | ['season', 'weather']\n",
      "\t\t('datetime', []) : 1 | ['datetime']\n",
      "\t\t('float', [])    : 3 | ['temp', 'atemp', 'windspeed']\n",
      "\t\t('int', [])      : 6 | ['holiday', 'workingday', 'humidity', 'hour', 'day', ...]\n",
      "\tTypes of features in processed data (raw dtype, special dtypes):\n",
      "\t\t('category', [])             : 2 | ['season', 'weather']\n",
      "\t\t('float', [])                : 3 | ['temp', 'atemp', 'windspeed']\n",
      "\t\t('int', [])                  : 4 | ['humidity', 'hour', 'day', 'month']\n",
      "\t\t('int', ['bool'])            : 2 | ['holiday', 'workingday']\n",
      "\t\t('int', ['datetime_as_int']) : 5 | ['datetime', 'datetime.year', 'datetime.month', 'datetime.day', 'datetime.dayofweek']\n",
      "\t0.2s = Fit runtime\n",
      "\t12 features in original data used to generate 16 features in processed data.\n",
      "\tTrain Data (Processed) Memory Usage: 1.09 MB (0.1% of available memory)\n",
      "Data preprocessing and feature engineering runtime = 0.27s ...\n",
      "AutoGluon will gauge predictive performance using evaluation metric: 'root_mean_squared_error'\n",
      "\tThis metric's sign has been flipped to adhere to being higher_is_better. The metric score can be multiplied by -1 to get the metric value.\n",
      "\tTo change this, specify the eval_metric parameter of Predictor()\n",
      "AutoGluon will fit 2 stack levels (L1 to L2) ...\n",
      "Fitting 11 L1 models ...\n",
      "Fitting model: KNeighborsUnif_BAG_L1 ... Training model for up to 399.72s of the 599.73s of remaining time.\n",
      "\t-101.5462\t = Validation score   (-root_mean_squared_error)\n",
      "\t0.04s\t = Training   runtime\n",
      "\t0.1s\t = Validation runtime\n",
      "Fitting model: KNeighborsDist_BAG_L1 ... Training model for up to 399.34s of the 599.35s of remaining time.\n",
      "\t-84.1251\t = Validation score   (-root_mean_squared_error)\n",
      "\t0.03s\t = Training   runtime\n",
      "\t0.1s\t = Validation runtime\n",
      "Fitting model: LightGBMXT_BAG_L1 ... Training model for up to 398.96s of the 598.97s of remaining time.\n",
      "\tFitting 8 child models (S1F1 - S1F8) | Fitting with ParallelLocalFoldFittingStrategy\n",
      "\t-34.5208\t = Validation score   (-root_mean_squared_error)\n",
      "\t102.23s\t = Training   runtime\n",
      "\t13.86s\t = Validation runtime\n",
      "Fitting model: LightGBM_BAG_L1 ... Training model for up to 290.72s of the 490.73s of remaining time.\n",
      "\tFitting 8 child models (S1F1 - S1F8) | Fitting with ParallelLocalFoldFittingStrategy\n",
      "\t-33.9169\t = Validation score   (-root_mean_squared_error)\n",
      "\t41.58s\t = Training   runtime\n",
      "\t3.89s\t = Validation runtime\n",
      "Fitting model: RandomForestMSE_BAG_L1 ... Training model for up to 245.46s of the 445.46s of remaining time.\n",
      "\t-38.4042\t = Validation score   (-root_mean_squared_error)\n",
      "\t13.67s\t = Training   runtime\n",
      "\t0.65s\t = Validation runtime\n",
      "Fitting model: CatBoost_BAG_L1 ... Training model for up to 228.57s of the 428.58s of remaining time.\n",
      "\tFitting 8 child models (S1F1 - S1F8) | Fitting with ParallelLocalFoldFittingStrategy\n",
      "\t-34.0612\t = Validation score   (-root_mean_squared_error)\n",
      "\t193.2s\t = Training   runtime\n",
      "\t0.24s\t = Validation runtime\n",
      "Fitting model: ExtraTreesMSE_BAG_L1 ... Training model for up to 32.41s of the 232.42s of remaining time.\n",
      "\t-38.1361\t = Validation score   (-root_mean_squared_error)\n",
      "\t7.1s\t = Training   runtime\n",
      "\t0.56s\t = Validation runtime\n",
      "Fitting model: NeuralNetFastAI_BAG_L1 ... Training model for up to 22.25s of the 222.26s of remaining time.\n",
      "\tFitting 8 child models (S1F1 - S1F8) | Fitting with ParallelLocalFoldFittingStrategy\n",
      "\t-103.0333\t = Validation score   (-root_mean_squared_error)\n",
      "\t38.95s\t = Training   runtime\n",
      "\t0.43s\t = Validation runtime\n",
      "Completed 1/20 k-fold bagging repeats ...\n",
      "Fitting model: WeightedEnsemble_L2 ... Training model for up to 360.0s of the 180.33s of remaining time.\n",
      "\t-32.1481\t = Validation score   (-root_mean_squared_error)\n",
      "\t0.55s\t = Training   runtime\n",
      "\t0.0s\t = Validation runtime\n",
      "Fitting 9 L2 models ...\n",
      "Fitting model: LightGBMXT_BAG_L2 ... Training model for up to 179.7s of the 179.68s of remaining time.\n",
      "\tFitting 8 child models (S1F1 - S1F8) | Fitting with ParallelLocalFoldFittingStrategy\n",
      "\t-31.2122\t = Validation score   (-root_mean_squared_error)\n",
      "\t29.07s\t = Training   runtime\n",
      "\t0.78s\t = Validation runtime\n",
      "Fitting model: LightGBM_BAG_L2 ... Training model for up to 146.83s of the 146.81s of remaining time.\n",
      "\tFitting 8 child models (S1F1 - S1F8) | Fitting with ParallelLocalFoldFittingStrategy\n",
      "\t-30.6471\t = Validation score   (-root_mean_squared_error)\n",
      "\t25.68s\t = Training   runtime\n",
      "\t0.54s\t = Validation runtime\n",
      "Fitting model: RandomForestMSE_BAG_L2 ... Training model for up to 117.78s of the 117.76s of remaining time.\n",
      "\t-31.6813\t = Validation score   (-root_mean_squared_error)\n",
      "\t31.29s\t = Training   runtime\n",
      "\t0.61s\t = Validation runtime\n",
      "Fitting model: CatBoost_BAG_L2 ... Training model for up to 83.55s of the 83.53s of remaining time.\n",
      "\tFitting 8 child models (S1F1 - S1F8) | Fitting with ParallelLocalFoldFittingStrategy\n",
      "\t-30.5205\t = Validation score   (-root_mean_squared_error)\n",
      "\t75.34s\t = Training   runtime\n",
      "\t0.14s\t = Validation runtime\n",
      "Fitting model: ExtraTreesMSE_BAG_L2 ... Training model for up to 5.32s of the 5.31s of remaining time.\n",
      "\t-31.5065\t = Validation score   (-root_mean_squared_error)\n",
      "\t9.17s\t = Training   runtime\n",
      "\t0.61s\t = Validation runtime\n",
      "Completed 1/20 k-fold bagging repeats ...\n",
      "Fitting model: WeightedEnsemble_L3 ... Training model for up to 360.0s of the -7.07s of remaining time.\n",
      "\t-30.212\t = Validation score   (-root_mean_squared_error)\n",
      "\t0.33s\t = Training   runtime\n",
      "\t0.0s\t = Validation runtime\n",
      "AutoGluon training complete, total runtime = 607.63s ... Best model: \"WeightedEnsemble_L3\"\n",
      "TabularPredictor saved. To load, use: predictor = TabularPredictor.load(\"AutogluonModels/ag-20220713_204750/\")\n"
     ]
    }
   ],
   "source": [
    "predictor_new_features = TabularPredictor(label=\"count\").fit(train_data=train, time_limit=600, presets=\"best_quality\")"
   ]
  },
  {
   "cell_type": "code",
   "execution_count": 39,
   "metadata": {
    "collapsed": true,
    "execution": {
     "iopub.execute_input": "2022-07-13T17:53:31.775574Z",
     "iopub.status.busy": "2022-07-13T17:53:31.771288Z",
     "iopub.status.idle": "2022-07-13T17:53:31.914722Z",
     "shell.execute_reply": "2022-07-13T17:53:31.913529Z",
     "shell.execute_reply.started": "2022-07-13T17:53:31.775516Z"
    },
    "jupyter": {
     "outputs_hidden": true
    }
   },
   "outputs": [
    {
     "name": "stdout",
     "output_type": "stream",
     "text": [
      "*** Summary of fit() ***\n",
      "Estimated performance of each model:\n",
      "                     model   score_val  pred_time_val    fit_time  pred_time_val_marginal  fit_time_marginal  stack_level  can_infer  fit_order\n",
      "0      WeightedEnsemble_L3  -30.211978      21.306552  527.231067                0.000788           0.330328            3       True         15\n",
      "1          CatBoost_BAG_L2  -30.520522      19.978879  472.152178                0.142388          75.343517            2       True         13\n",
      "2          LightGBM_BAG_L2  -30.647144      20.379141  422.489343                0.542650          25.680682            2       True         11\n",
      "3        LightGBMXT_BAG_L2  -31.212184      20.620727  425.876541                0.784235          29.067879            2       True         10\n",
      "4     ExtraTreesMSE_BAG_L2  -31.506456      20.441735  405.977689                0.605244           9.169028            2       True         14\n",
      "5   RandomForestMSE_BAG_L2  -31.681273      20.446981  428.096616                0.610490          31.287955            2       True         12\n",
      "6      WeightedEnsemble_L2  -32.148069      18.745776  351.268084                0.000804           0.550356            2       True          9\n",
      "7          LightGBM_BAG_L1  -33.916920       3.894665   41.581340                3.894665          41.581340            1       True          4\n",
      "8          CatBoost_BAG_L1  -34.061203       0.237581  193.204145                0.237581         193.204145            1       True          6\n",
      "9        LightGBMXT_BAG_L1  -34.520780      13.860931  102.231288               13.860931         102.231288            1       True          3\n",
      "10    ExtraTreesMSE_BAG_L1  -38.136093       0.562717    7.098161                0.562717           7.098161            1       True          7\n",
      "11  RandomForestMSE_BAG_L1  -38.404176       0.648175   13.666378                0.648175          13.666378            1       True          5\n",
      "12   KNeighborsDist_BAG_L1  -84.125061       0.103620    0.034577                0.103620           0.034577            1       True          2\n",
      "13   KNeighborsUnif_BAG_L1 -101.546199       0.102775    0.040702                0.102775           0.040702            1       True          1\n",
      "14  NeuralNetFastAI_BAG_L1 -103.033275       0.426028   38.952070                0.426028          38.952070            1       True          8\n",
      "Number of models trained: 15\n",
      "Types of models trained:\n",
      "{'StackerEnsembleModel_XT', 'WeightedEnsembleModel', 'StackerEnsembleModel_LGB', 'StackerEnsembleModel_KNN', 'StackerEnsembleModel_NNFastAiTabular', 'StackerEnsembleModel_CatBoost', 'StackerEnsembleModel_RF'}\n",
      "Bagging used: True  (with 8 folds)\n",
      "Multi-layer stack-ensembling used: True  (with 3 levels)\n",
      "Feature Metadata (Processed):\n",
      "(raw dtype, special dtypes):\n",
      "('category', [])             : 2 | ['season', 'weather']\n",
      "('float', [])                : 3 | ['temp', 'atemp', 'windspeed']\n",
      "('int', [])                  : 4 | ['humidity', 'hour', 'day', 'month']\n",
      "('int', ['bool'])            : 2 | ['holiday', 'workingday']\n",
      "('int', ['datetime_as_int']) : 5 | ['datetime', 'datetime.year', 'datetime.month', 'datetime.day', 'datetime.dayofweek']\n",
      "Plot summary of models saved to file: AutogluonModels/ag-20220713_204750/SummaryOfModels.html\n",
      "*** End of fit() summary ***\n"
     ]
    },
    {
     "data": {
      "text/plain": [
       "{'model_types': {'KNeighborsUnif_BAG_L1': 'StackerEnsembleModel_KNN',\n",
       "  'KNeighborsDist_BAG_L1': 'StackerEnsembleModel_KNN',\n",
       "  'LightGBMXT_BAG_L1': 'StackerEnsembleModel_LGB',\n",
       "  'LightGBM_BAG_L1': 'StackerEnsembleModel_LGB',\n",
       "  'RandomForestMSE_BAG_L1': 'StackerEnsembleModel_RF',\n",
       "  'CatBoost_BAG_L1': 'StackerEnsembleModel_CatBoost',\n",
       "  'ExtraTreesMSE_BAG_L1': 'StackerEnsembleModel_XT',\n",
       "  'NeuralNetFastAI_BAG_L1': 'StackerEnsembleModel_NNFastAiTabular',\n",
       "  'WeightedEnsemble_L2': 'WeightedEnsembleModel',\n",
       "  'LightGBMXT_BAG_L2': 'StackerEnsembleModel_LGB',\n",
       "  'LightGBM_BAG_L2': 'StackerEnsembleModel_LGB',\n",
       "  'RandomForestMSE_BAG_L2': 'StackerEnsembleModel_RF',\n",
       "  'CatBoost_BAG_L2': 'StackerEnsembleModel_CatBoost',\n",
       "  'ExtraTreesMSE_BAG_L2': 'StackerEnsembleModel_XT',\n",
       "  'WeightedEnsemble_L3': 'WeightedEnsembleModel'},\n",
       " 'model_performance': {'KNeighborsUnif_BAG_L1': -101.54619908446061,\n",
       "  'KNeighborsDist_BAG_L1': -84.12506123181602,\n",
       "  'LightGBMXT_BAG_L1': -34.520779536614505,\n",
       "  'LightGBM_BAG_L1': -33.916920183145294,\n",
       "  'RandomForestMSE_BAG_L1': -38.40417617363083,\n",
       "  'CatBoost_BAG_L1': -34.061203145367905,\n",
       "  'ExtraTreesMSE_BAG_L1': -38.136092853992395,\n",
       "  'NeuralNetFastAI_BAG_L1': -103.03327495083121,\n",
       "  'WeightedEnsemble_L2': -32.1480692941008,\n",
       "  'LightGBMXT_BAG_L2': -31.212183578472057,\n",
       "  'LightGBM_BAG_L2': -30.647144151805577,\n",
       "  'RandomForestMSE_BAG_L2': -31.68127308630733,\n",
       "  'CatBoost_BAG_L2': -30.520522475692296,\n",
       "  'ExtraTreesMSE_BAG_L2': -31.506455844111446,\n",
       "  'WeightedEnsemble_L3': -30.211977843483574},\n",
       " 'model_best': 'WeightedEnsemble_L3',\n",
       " 'model_paths': {'KNeighborsUnif_BAG_L1': 'AutogluonModels/ag-20220713_204750/models/KNeighborsUnif_BAG_L1/',\n",
       "  'KNeighborsDist_BAG_L1': 'AutogluonModels/ag-20220713_204750/models/KNeighborsDist_BAG_L1/',\n",
       "  'LightGBMXT_BAG_L1': 'AutogluonModels/ag-20220713_204750/models/LightGBMXT_BAG_L1/',\n",
       "  'LightGBM_BAG_L1': 'AutogluonModels/ag-20220713_204750/models/LightGBM_BAG_L1/',\n",
       "  'RandomForestMSE_BAG_L1': 'AutogluonModels/ag-20220713_204750/models/RandomForestMSE_BAG_L1/',\n",
       "  'CatBoost_BAG_L1': 'AutogluonModels/ag-20220713_204750/models/CatBoost_BAG_L1/',\n",
       "  'ExtraTreesMSE_BAG_L1': 'AutogluonModels/ag-20220713_204750/models/ExtraTreesMSE_BAG_L1/',\n",
       "  'NeuralNetFastAI_BAG_L1': 'AutogluonModels/ag-20220713_204750/models/NeuralNetFastAI_BAG_L1/',\n",
       "  'WeightedEnsemble_L2': 'AutogluonModels/ag-20220713_204750/models/WeightedEnsemble_L2/',\n",
       "  'LightGBMXT_BAG_L2': 'AutogluonModels/ag-20220713_204750/models/LightGBMXT_BAG_L2/',\n",
       "  'LightGBM_BAG_L2': 'AutogluonModels/ag-20220713_204750/models/LightGBM_BAG_L2/',\n",
       "  'RandomForestMSE_BAG_L2': 'AutogluonModels/ag-20220713_204750/models/RandomForestMSE_BAG_L2/',\n",
       "  'CatBoost_BAG_L2': 'AutogluonModels/ag-20220713_204750/models/CatBoost_BAG_L2/',\n",
       "  'ExtraTreesMSE_BAG_L2': 'AutogluonModels/ag-20220713_204750/models/ExtraTreesMSE_BAG_L2/',\n",
       "  'WeightedEnsemble_L3': 'AutogluonModels/ag-20220713_204750/models/WeightedEnsemble_L3/'},\n",
       " 'model_fit_times': {'KNeighborsUnif_BAG_L1': 0.040702104568481445,\n",
       "  'KNeighborsDist_BAG_L1': 0.0345768928527832,\n",
       "  'LightGBMXT_BAG_L1': 102.23128843307495,\n",
       "  'LightGBM_BAG_L1': 41.581339597702026,\n",
       "  'RandomForestMSE_BAG_L1': 13.666377782821655,\n",
       "  'CatBoost_BAG_L1': 193.20414519309998,\n",
       "  'ExtraTreesMSE_BAG_L1': 7.098161220550537,\n",
       "  'NeuralNetFastAI_BAG_L1': 38.952069997787476,\n",
       "  'WeightedEnsemble_L2': 0.5503561496734619,\n",
       "  'LightGBMXT_BAG_L2': 29.06787943840027,\n",
       "  'LightGBM_BAG_L2': 25.680681705474854,\n",
       "  'RandomForestMSE_BAG_L2': 31.287954807281494,\n",
       "  'CatBoost_BAG_L2': 75.34351706504822,\n",
       "  'ExtraTreesMSE_BAG_L2': 9.169028043746948,\n",
       "  'WeightedEnsemble_L3': 0.33032774925231934},\n",
       " 'model_pred_times': {'KNeighborsUnif_BAG_L1': 0.10277462005615234,\n",
       "  'KNeighborsDist_BAG_L1': 0.10361981391906738,\n",
       "  'LightGBMXT_BAG_L1': 13.860931158065796,\n",
       "  'LightGBM_BAG_L1': 3.894664764404297,\n",
       "  'RandomForestMSE_BAG_L1': 0.6481747627258301,\n",
       "  'CatBoost_BAG_L1': 0.2375807762145996,\n",
       "  'ExtraTreesMSE_BAG_L1': 0.5627169609069824,\n",
       "  'NeuralNetFastAI_BAG_L1': 0.4260282516479492,\n",
       "  'WeightedEnsemble_L2': 0.0008044242858886719,\n",
       "  'LightGBMXT_BAG_L2': 0.7842354774475098,\n",
       "  'LightGBM_BAG_L2': 0.542649507522583,\n",
       "  'RandomForestMSE_BAG_L2': 0.6104903221130371,\n",
       "  'CatBoost_BAG_L2': 0.14238834381103516,\n",
       "  'ExtraTreesMSE_BAG_L2': 0.6052441596984863,\n",
       "  'WeightedEnsemble_L3': 0.0007877349853515625},\n",
       " 'num_bag_folds': 8,\n",
       " 'max_stack_level': 3,\n",
       " 'model_hyperparams': {'KNeighborsUnif_BAG_L1': {'use_orig_features': True,\n",
       "   'max_base_models': 25,\n",
       "   'max_base_models_per_type': 5,\n",
       "   'save_bag_folds': True,\n",
       "   'use_child_oof': True},\n",
       "  'KNeighborsDist_BAG_L1': {'use_orig_features': True,\n",
       "   'max_base_models': 25,\n",
       "   'max_base_models_per_type': 5,\n",
       "   'save_bag_folds': True,\n",
       "   'use_child_oof': True},\n",
       "  'LightGBMXT_BAG_L1': {'use_orig_features': True,\n",
       "   'max_base_models': 25,\n",
       "   'max_base_models_per_type': 5,\n",
       "   'save_bag_folds': True},\n",
       "  'LightGBM_BAG_L1': {'use_orig_features': True,\n",
       "   'max_base_models': 25,\n",
       "   'max_base_models_per_type': 5,\n",
       "   'save_bag_folds': True},\n",
       "  'RandomForestMSE_BAG_L1': {'use_orig_features': True,\n",
       "   'max_base_models': 25,\n",
       "   'max_base_models_per_type': 5,\n",
       "   'save_bag_folds': True,\n",
       "   'use_child_oof': True},\n",
       "  'CatBoost_BAG_L1': {'use_orig_features': True,\n",
       "   'max_base_models': 25,\n",
       "   'max_base_models_per_type': 5,\n",
       "   'save_bag_folds': True},\n",
       "  'ExtraTreesMSE_BAG_L1': {'use_orig_features': True,\n",
       "   'max_base_models': 25,\n",
       "   'max_base_models_per_type': 5,\n",
       "   'save_bag_folds': True,\n",
       "   'use_child_oof': True},\n",
       "  'NeuralNetFastAI_BAG_L1': {'use_orig_features': True,\n",
       "   'max_base_models': 25,\n",
       "   'max_base_models_per_type': 5,\n",
       "   'save_bag_folds': True},\n",
       "  'WeightedEnsemble_L2': {'use_orig_features': False,\n",
       "   'max_base_models': 25,\n",
       "   'max_base_models_per_type': 5,\n",
       "   'save_bag_folds': True},\n",
       "  'LightGBMXT_BAG_L2': {'use_orig_features': True,\n",
       "   'max_base_models': 25,\n",
       "   'max_base_models_per_type': 5,\n",
       "   'save_bag_folds': True},\n",
       "  'LightGBM_BAG_L2': {'use_orig_features': True,\n",
       "   'max_base_models': 25,\n",
       "   'max_base_models_per_type': 5,\n",
       "   'save_bag_folds': True},\n",
       "  'RandomForestMSE_BAG_L2': {'use_orig_features': True,\n",
       "   'max_base_models': 25,\n",
       "   'max_base_models_per_type': 5,\n",
       "   'save_bag_folds': True,\n",
       "   'use_child_oof': True},\n",
       "  'CatBoost_BAG_L2': {'use_orig_features': True,\n",
       "   'max_base_models': 25,\n",
       "   'max_base_models_per_type': 5,\n",
       "   'save_bag_folds': True},\n",
       "  'ExtraTreesMSE_BAG_L2': {'use_orig_features': True,\n",
       "   'max_base_models': 25,\n",
       "   'max_base_models_per_type': 5,\n",
       "   'save_bag_folds': True,\n",
       "   'use_child_oof': True},\n",
       "  'WeightedEnsemble_L3': {'use_orig_features': False,\n",
       "   'max_base_models': 25,\n",
       "   'max_base_models_per_type': 5,\n",
       "   'save_bag_folds': True}},\n",
       " 'leaderboard':                      model   score_val  pred_time_val    fit_time  \\\n",
       " 0      WeightedEnsemble_L3  -30.211978      21.306552  527.231067   \n",
       " 1          CatBoost_BAG_L2  -30.520522      19.978879  472.152178   \n",
       " 2          LightGBM_BAG_L2  -30.647144      20.379141  422.489343   \n",
       " 3        LightGBMXT_BAG_L2  -31.212184      20.620727  425.876541   \n",
       " 4     ExtraTreesMSE_BAG_L2  -31.506456      20.441735  405.977689   \n",
       " 5   RandomForestMSE_BAG_L2  -31.681273      20.446981  428.096616   \n",
       " 6      WeightedEnsemble_L2  -32.148069      18.745776  351.268084   \n",
       " 7          LightGBM_BAG_L1  -33.916920       3.894665   41.581340   \n",
       " 8          CatBoost_BAG_L1  -34.061203       0.237581  193.204145   \n",
       " 9        LightGBMXT_BAG_L1  -34.520780      13.860931  102.231288   \n",
       " 10    ExtraTreesMSE_BAG_L1  -38.136093       0.562717    7.098161   \n",
       " 11  RandomForestMSE_BAG_L1  -38.404176       0.648175   13.666378   \n",
       " 12   KNeighborsDist_BAG_L1  -84.125061       0.103620    0.034577   \n",
       " 13   KNeighborsUnif_BAG_L1 -101.546199       0.102775    0.040702   \n",
       " 14  NeuralNetFastAI_BAG_L1 -103.033275       0.426028   38.952070   \n",
       " \n",
       "     pred_time_val_marginal  fit_time_marginal  stack_level  can_infer  \\\n",
       " 0                 0.000788           0.330328            3       True   \n",
       " 1                 0.142388          75.343517            2       True   \n",
       " 2                 0.542650          25.680682            2       True   \n",
       " 3                 0.784235          29.067879            2       True   \n",
       " 4                 0.605244           9.169028            2       True   \n",
       " 5                 0.610490          31.287955            2       True   \n",
       " 6                 0.000804           0.550356            2       True   \n",
       " 7                 3.894665          41.581340            1       True   \n",
       " 8                 0.237581         193.204145            1       True   \n",
       " 9                13.860931         102.231288            1       True   \n",
       " 10                0.562717           7.098161            1       True   \n",
       " 11                0.648175          13.666378            1       True   \n",
       " 12                0.103620           0.034577            1       True   \n",
       " 13                0.102775           0.040702            1       True   \n",
       " 14                0.426028          38.952070            1       True   \n",
       " \n",
       "     fit_order  \n",
       " 0          15  \n",
       " 1          13  \n",
       " 2          11  \n",
       " 3          10  \n",
       " 4          14  \n",
       " 5          12  \n",
       " 6           9  \n",
       " 7           4  \n",
       " 8           6  \n",
       " 9           3  \n",
       " 10          7  \n",
       " 11          5  \n",
       " 12          2  \n",
       " 13          1  \n",
       " 14          8  }"
      ]
     },
     "execution_count": 39,
     "metadata": {},
     "output_type": "execute_result"
    }
   ],
   "source": [
    "predictor_new_features.fit_summary()"
   ]
  },
  {
   "cell_type": "code",
   "execution_count": 40,
   "metadata": {
    "execution": {
     "iopub.execute_input": "2022-07-13T17:53:31.917356Z",
     "iopub.status.busy": "2022-07-13T17:53:31.916580Z",
     "iopub.status.idle": "2022-07-13T17:54:03.966355Z",
     "shell.execute_reply": "2022-07-13T17:54:03.965045Z",
     "shell.execute_reply.started": "2022-07-13T17:53:31.917306Z"
    }
   },
   "outputs": [],
   "source": [
    "# predict on the test data set\n",
    "predictions_new_features = pd.Series(predictor_new_features.predict(test))"
   ]
  },
  {
   "cell_type": "code",
   "execution_count": 41,
   "metadata": {
    "execution": {
     "iopub.execute_input": "2022-07-13T17:54:03.974318Z",
     "iopub.status.busy": "2022-07-13T17:54:03.973888Z",
     "iopub.status.idle": "2022-07-13T17:54:03.983141Z",
     "shell.execute_reply": "2022-07-13T17:54:03.980331Z",
     "shell.execute_reply.started": "2022-07-13T17:54:03.974281Z"
    }
   },
   "outputs": [
    {
     "name": "stdout",
     "output_type": "stream",
     "text": [
      "We have 0 negative values\n"
     ]
    }
   ],
   "source": [
    "# How many negative values do we have?\n",
    "print(\"We have {} negative values\".format(len(predictions_new_features[predictions_new_features < 0])))"
   ]
  },
  {
   "cell_type": "code",
   "execution_count": 42,
   "metadata": {
    "execution": {
     "iopub.execute_input": "2022-07-13T17:54:03.984869Z",
     "iopub.status.busy": "2022-07-13T17:54:03.984505Z",
     "iopub.status.idle": "2022-07-13T17:54:04.011303Z",
     "shell.execute_reply": "2022-07-13T17:54:04.010040Z",
     "shell.execute_reply.started": "2022-07-13T17:54:03.984836Z"
    }
   },
   "outputs": [
    {
     "data": {
      "text/html": [
       "<div>\n",
       "<style scoped>\n",
       "    .dataframe tbody tr th:only-of-type {\n",
       "        vertical-align: middle;\n",
       "    }\n",
       "\n",
       "    .dataframe tbody tr th {\n",
       "        vertical-align: top;\n",
       "    }\n",
       "\n",
       "    .dataframe thead th {\n",
       "        text-align: right;\n",
       "    }\n",
       "</style>\n",
       "<table border=\"1\" class=\"dataframe\">\n",
       "  <thead>\n",
       "    <tr style=\"text-align: right;\">\n",
       "      <th></th>\n",
       "      <th>datetime</th>\n",
       "      <th>count</th>\n",
       "    </tr>\n",
       "  </thead>\n",
       "  <tbody>\n",
       "    <tr>\n",
       "      <th>0</th>\n",
       "      <td>2011-01-20 00:00:00</td>\n",
       "      <td>15.360823</td>\n",
       "    </tr>\n",
       "    <tr>\n",
       "      <th>1</th>\n",
       "      <td>2011-01-20 01:00:00</td>\n",
       "      <td>11.099726</td>\n",
       "    </tr>\n",
       "    <tr>\n",
       "      <th>2</th>\n",
       "      <td>2011-01-20 02:00:00</td>\n",
       "      <td>10.448778</td>\n",
       "    </tr>\n",
       "    <tr>\n",
       "      <th>3</th>\n",
       "      <td>2011-01-20 03:00:00</td>\n",
       "      <td>9.138494</td>\n",
       "    </tr>\n",
       "    <tr>\n",
       "      <th>4</th>\n",
       "      <td>2011-01-20 04:00:00</td>\n",
       "      <td>8.037436</td>\n",
       "    </tr>\n",
       "  </tbody>\n",
       "</table>\n",
       "</div>"
      ],
      "text/plain": [
       "              datetime      count\n",
       "0  2011-01-20 00:00:00  15.360823\n",
       "1  2011-01-20 01:00:00  11.099726\n",
       "2  2011-01-20 02:00:00  10.448778\n",
       "3  2011-01-20 03:00:00   9.138494\n",
       "4  2011-01-20 04:00:00   8.037436"
      ]
     },
     "execution_count": 42,
     "metadata": {},
     "output_type": "execute_result"
    }
   ],
   "source": [
    "submission_new_features = submission.copy()\n",
    "submission_new_features[\"count\"] = predictions_new_features\n",
    "# Set them to zero\n",
    "submission_new_features[\"count\"] = submission_new_features[\"count\"].apply(lambda x : 0 if (x < 0 ) else x)\n",
    "submission_new_features.head()"
   ]
  },
  {
   "cell_type": "code",
   "execution_count": 40,
   "metadata": {
    "execution": {
     "iopub.execute_input": "2022-07-13T17:54:04.013366Z",
     "iopub.status.busy": "2022-07-13T17:54:04.013013Z",
     "iopub.status.idle": "2022-07-13T17:54:04.054303Z",
     "shell.execute_reply": "2022-07-13T17:54:04.052940Z",
     "shell.execute_reply.started": "2022-07-13T17:54:04.013338Z"
    }
   },
   "outputs": [],
   "source": [
    "# Same submitting predictions\n",
    "submission_new_features.to_csv(\"submission_new_features.csv\", index=False)"
   ]
  },
  {
   "cell_type": "code",
   "execution_count": 114,
   "metadata": {
    "execution": {
     "iopub.execute_input": "2022-07-13T14:34:43.102830Z",
     "iopub.status.busy": "2022-07-13T14:34:43.102335Z",
     "iopub.status.idle": "2022-07-13T14:34:45.635382Z",
     "shell.execute_reply": "2022-07-13T14:34:45.634133Z",
     "shell.execute_reply.started": "2022-07-13T14:34:43.102794Z"
    }
   },
   "outputs": [],
   "source": [
    "!kaggle competitions submit -c bike-sharing-demand -f submission_new_features.csv -m \"new features\""
   ]
  },
  {
   "cell_type": "code",
   "execution_count": 43,
   "metadata": {
    "execution": {
     "iopub.execute_input": "2022-07-13T18:21:18.647756Z",
     "iopub.status.busy": "2022-07-13T18:21:18.647282Z",
     "iopub.status.idle": "2022-07-13T18:21:20.596996Z",
     "shell.execute_reply": "2022-07-13T18:21:20.595470Z",
     "shell.execute_reply.started": "2022-07-13T18:21:18.647720Z"
    }
   },
   "outputs": [
    {
     "name": "stdout",
     "output_type": "stream",
     "text": [
      "fileName                     date                 description                        status    publicScore  privateScore  \n",
      "---------------------------  -------------------  ---------------------------------  --------  -----------  ------------  \n",
      "submission_new_hpo.csv       2022-07-13 18:18:07  new features with hyperparameters  complete  0.45967      0.45967       \n",
      "submission_new_features.csv  2022-07-13 14:34:44  new features                       complete  0.45996      0.45996       \n",
      "submission.csv               2022-07-13 13:20:56  first raw submission               complete  1.78428      1.78428       \n",
      "submission.csv               2022-07-12 23:00:27  first raw submission               complete  1.80657      1.80657       \n"
     ]
    }
   ],
   "source": [
    "!kaggle competitions submissions -c bike-sharing-demand | tail -n +1 | head -n 6"
   ]
  },
  {
   "cell_type": "markdown",
   "metadata": {},
   "source": [
    "#### New Score of 0.45996"
   ]
  },
  {
   "cell_type": "markdown",
   "metadata": {},
   "source": [
    "## Step 6: Hyper parameter optimization\n",
    "* There are many options for hyper parameter optimization.\n",
    "* Options are to change the AutoGluon higher level parameters or the individual model hyperparameters.\n",
    "* The hyperparameters of the models themselves that are in AutoGluon. Those need the `hyperparameter` and `hyperparameter_tune_kwargs` arguments."
   ]
  },
  {
   "cell_type": "code",
   "execution_count": null,
   "metadata": {
    "collapsed": true,
    "execution": {
     "iopub.execute_input": "2022-07-13T17:59:20.958390Z",
     "iopub.status.busy": "2022-07-13T17:59:20.957702Z",
     "iopub.status.idle": "2022-07-13T18:14:06.172572Z",
     "shell.execute_reply": "2022-07-13T18:14:06.171676Z",
     "shell.execute_reply.started": "2022-07-13T17:59:20.958338Z"
    },
    "jupyter": {
     "outputs_hidden": true
    }
   },
   "outputs": [
    {
     "name": "stderr",
     "output_type": "stream",
     "text": [
      "No path specified. Models will be saved in: \"AutogluonModels/ag-20220713_205845/\"\n",
      "Presets specified: ['best_quality']\n",
      "Beginning AutoGluon training ... Time limit = 900s\n",
      "AutoGluon will save models to \"AutogluonModels/ag-20220713_205845/\"\n",
      "AutoGluon Version:  0.5.0\n",
      "Python Version:     3.7.10\n",
      "Operating System:   Linux\n",
      "Train Data Rows:    10886\n",
      "Train Data Columns: 12\n",
      "Label Column: count\n",
      "Preprocessing data ...\n",
      "Using Feature Generators to preprocess the data ...\n",
      "Fitting AutoMLPipelineFeatureGenerator...\n",
      "\tAvailable Memory:                    2122.49 MB\n",
      "\tTrain Data (Original)  Memory Usage: 0.89 MB (0.0% of available memory)\n",
      "\tInferring data type of each feature based on column values. Set feature_metadata_in to manually specify special dtypes of the features.\n",
      "\tStage 1 Generators:\n",
      "\t\tFitting AsTypeFeatureGenerator...\n",
      "\t\t\tNote: Converting 2 features to boolean dtype as they only contain 2 unique values.\n",
      "\tStage 2 Generators:\n",
      "\t\tFitting FillNaFeatureGenerator...\n",
      "\tStage 3 Generators:\n",
      "\t\tFitting IdentityFeatureGenerator...\n",
      "\t\tFitting CategoryFeatureGenerator...\n",
      "\t\t\tFitting CategoryMemoryMinimizeFeatureGenerator...\n",
      "\t\tFitting DatetimeFeatureGenerator...\n",
      "\tStage 4 Generators:\n",
      "\t\tFitting DropUniqueFeatureGenerator...\n",
      "\tTypes of features in original data (raw dtype, special dtypes):\n",
      "\t\t('category', []) : 2 | ['season', 'weather']\n",
      "\t\t('datetime', []) : 1 | ['datetime']\n",
      "\t\t('float', [])    : 3 | ['temp', 'atemp', 'windspeed']\n",
      "\t\t('int', [])      : 6 | ['holiday', 'workingday', 'humidity', 'hour', 'day', ...]\n",
      "\tTypes of features in processed data (raw dtype, special dtypes):\n",
      "\t\t('category', [])             : 2 | ['season', 'weather']\n",
      "\t\t('float', [])                : 3 | ['temp', 'atemp', 'windspeed']\n",
      "\t\t('int', [])                  : 4 | ['humidity', 'hour', 'day', 'month']\n",
      "\t\t('int', ['bool'])            : 2 | ['holiday', 'workingday']\n",
      "\t\t('int', ['datetime_as_int']) : 5 | ['datetime', 'datetime.year', 'datetime.month', 'datetime.day', 'datetime.dayofweek']\n",
      "\t0.1s = Fit runtime\n",
      "\t12 features in original data used to generate 16 features in processed data.\n",
      "\tTrain Data (Processed) Memory Usage: 1.09 MB (0.1% of available memory)\n",
      "Data preprocessing and feature engineering runtime = 0.17s ...\n",
      "AutoGluon will gauge predictive performance using evaluation metric: 'root_mean_squared_error'\n",
      "\tThis metric's sign has been flipped to adhere to being higher_is_better. The metric score can be multiplied by -1 to get the metric value.\n",
      "\tTo change this, specify the eval_metric parameter of Predictor()\n",
      "AutoGluon will fit 2 stack levels (L1 to L2) ...\n",
      "Fitting 11 L1 models ...\n",
      "Fitting model: KNeighborsUnif_BAG_L1 ... Training model for up to 599.74s of the 899.82s of remaining time.\n",
      "\t-101.5462\t = Validation score   (-root_mean_squared_error)\n",
      "\t0.06s\t = Training   runtime\n",
      "\t0.1s\t = Validation runtime\n",
      "Fitting model: KNeighborsDist_BAG_L1 ... Training model for up to 599.31s of the 899.4s of remaining time.\n",
      "\t-84.1251\t = Validation score   (-root_mean_squared_error)\n",
      "\t0.04s\t = Training   runtime\n",
      "\t0.1s\t = Validation runtime\n",
      "Fitting model: LightGBMXT_BAG_L1 ... Training model for up to 598.93s of the 899.02s of remaining time.\n",
      "\tFitting 8 child models (S1F1 - S1F8) | Fitting with ParallelLocalFoldFittingStrategy\n",
      "\t-34.5208\t = Validation score   (-root_mean_squared_error)\n",
      "\t105.42s\t = Training   runtime\n",
      "\t13.53s\t = Validation runtime\n",
      "Fitting model: LightGBM_BAG_L1 ... Training model for up to 488.22s of the 788.31s of remaining time.\n",
      "\tFitting 8 child models (S1F1 - S1F8) | Fitting with ParallelLocalFoldFittingStrategy\n",
      "\t-33.9169\t = Validation score   (-root_mean_squared_error)\n",
      "\t42.69s\t = Training   runtime\n",
      "\t3.81s\t = Validation runtime\n",
      "Fitting model: RandomForestMSE_BAG_L1 ... Training model for up to 441.85s of the 741.94s of remaining time.\n",
      "\t-38.4042\t = Validation score   (-root_mean_squared_error)\n",
      "\t13.45s\t = Training   runtime\n",
      "\t0.56s\t = Validation runtime\n",
      "Fitting model: CatBoost_BAG_L1 ... Training model for up to 425.34s of the 725.43s of remaining time.\n",
      "\tFitting 8 child models (S1F1 - S1F8) | Fitting with ParallelLocalFoldFittingStrategy\n",
      "\t-33.5552\t = Validation score   (-root_mean_squared_error)\n",
      "\t350.98s\t = Training   runtime\n",
      "\t0.3s\t = Validation runtime\n",
      "Fitting model: ExtraTreesMSE_BAG_L1 ... Training model for up to 71.42s of the 371.5s of remaining time.\n",
      "\t-38.1361\t = Validation score   (-root_mean_squared_error)\n",
      "\t6.14s\t = Training   runtime\n",
      "\t0.55s\t = Validation runtime\n",
      "Fitting model: NeuralNetFastAI_BAG_L1 ... Training model for up to 62.21s of the 362.3s of remaining time.\n",
      "\tFitting 8 child models (S1F1 - S1F8) | Fitting with ParallelLocalFoldFittingStrategy\n",
      "\t-56.6028\t = Validation score   (-root_mean_squared_error)\n",
      "\t73.16s\t = Training   runtime\n",
      "\t0.55s\t = Validation runtime\n",
      "Completed 1/20 k-fold bagging repeats ...\n",
      "Fitting model: WeightedEnsemble_L2 ... Training model for up to 360.0s of the 286.13s of remaining time.\n",
      "\t-32.0721\t = Validation score   (-root_mean_squared_error)\n",
      "\t0.52s\t = Training   runtime\n",
      "\t0.0s\t = Validation runtime\n",
      "Fitting 9 L2 models ...\n",
      "Fitting model: LightGBMXT_BAG_L2 ... Training model for up to 285.52s of the 285.5s of remaining time.\n",
      "\tFitting 8 child models (S1F1 - S1F8) | Fitting with ParallelLocalFoldFittingStrategy\n",
      "\t-31.4163\t = Validation score   (-root_mean_squared_error)\n",
      "\t26.92s\t = Training   runtime\n",
      "\t0.77s\t = Validation runtime\n",
      "Fitting model: LightGBM_BAG_L2 ... Training model for up to 253.49s of the 253.47s of remaining time.\n",
      "\tFitting 8 child models (S1F1 - S1F8) | Fitting with ParallelLocalFoldFittingStrategy\n",
      "\t-30.6472\t = Validation score   (-root_mean_squared_error)\n",
      "\t23.33s\t = Training   runtime\n",
      "\t0.26s\t = Validation runtime\n",
      "Fitting model: RandomForestMSE_BAG_L2 ... Training model for up to 227.17s of the 227.15s of remaining time.\n",
      "\t-31.7883\t = Validation score   (-root_mean_squared_error)\n",
      "\t32.86s\t = Training   runtime\n",
      "\t0.62s\t = Validation runtime\n",
      "Fitting model: CatBoost_BAG_L2 ... Training model for up to 191.32s of the 191.3s of remaining time.\n",
      "\tFitting 8 child models (S1F1 - S1F8) | Fitting with ParallelLocalFoldFittingStrategy\n"
     ]
    }
   ],
   "source": [
    "predictor_new_hpo = TabularPredictor(label=\"count\",eval_metric=\"root_mean_squared_error\",\n",
    "                                    problem_type=\"regression\").fit(train_data=train, time_limit=900,\n",
    "                                                                   presets=\"best_quality\")"
   ]
  },
  {
   "cell_type": "code",
   "execution_count": 50,
   "metadata": {
    "collapsed": true,
    "execution": {
     "iopub.execute_input": "2022-07-13T18:14:06.175260Z",
     "iopub.status.busy": "2022-07-13T18:14:06.174664Z",
     "iopub.status.idle": "2022-07-13T18:14:06.228566Z",
     "shell.execute_reply": "2022-07-13T18:14:06.227021Z",
     "shell.execute_reply.started": "2022-07-13T18:14:06.175215Z"
    },
    "jupyter": {
     "outputs_hidden": true
    }
   },
   "outputs": [
    {
     "name": "stdout",
     "output_type": "stream",
     "text": [
      "*** Summary of fit() ***\n",
      "Estimated performance of each model:\n",
      "                     model   score_val  pred_time_val    fit_time  pred_time_val_marginal  fit_time_marginal  stack_level  can_infer  fit_order\n",
      "0      WeightedEnsemble_L3  -29.962637      20.468221  805.816899                0.001206           0.699216            3       True         16\n",
      "1          CatBoost_BAG_L2  -30.268764      19.647503  729.884577                0.144515         137.948298            2       True         13\n",
      "2          LightGBM_BAG_L2  -30.647165      19.762589  615.267515                0.259601          23.331237            2       True         11\n",
      "3   NeuralNetFastAI_BAG_L2  -30.897165      20.062900  643.838148                0.559912          51.901870            2       True         15\n",
      "4        LightGBMXT_BAG_L2  -31.416292      20.271946  618.856098                0.768958          26.919820            2       True         10\n",
      "5     ExtraTreesMSE_BAG_L2  -31.438476      20.107225  602.557649                0.604237          10.621371            2       True         14\n",
      "6   RandomForestMSE_BAG_L2  -31.788350      20.123938  624.793836                0.620950          32.857558            2       True         12\n",
      "7      WeightedEnsemble_L2  -32.072144      18.853058  519.241843                0.001022           0.524527            2       True          9\n",
      "8          CatBoost_BAG_L1  -33.555188       0.300974  350.977725                0.300974         350.977725            1       True          6\n",
      "9          LightGBM_BAG_L1  -33.916920       3.807003   42.686395                3.807003          42.686395            1       True          4\n",
      "10       LightGBMXT_BAG_L1  -34.520780      13.533851  105.421514               13.533851         105.421514            1       True          3\n",
      "11    ExtraTreesMSE_BAG_L1  -38.136093       0.546887    6.143198                0.546887           6.143198            1       True          7\n",
      "12  RandomForestMSE_BAG_L1  -38.404176       0.559203   13.453443                0.559203          13.453443            1       True          5\n",
      "13  NeuralNetFastAI_BAG_L1  -56.602846       0.548060   73.155182                0.548060          73.155182            1       True          8\n",
      "14   KNeighborsDist_BAG_L1  -84.125061       0.104118    0.035043                0.104118           0.035043            1       True          2\n",
      "15   KNeighborsUnif_BAG_L1 -101.546199       0.102891    0.063781                0.102891           0.063781            1       True          1\n",
      "Number of models trained: 16\n",
      "Types of models trained:\n",
      "{'StackerEnsembleModel_XT', 'WeightedEnsembleModel', 'StackerEnsembleModel_LGB', 'StackerEnsembleModel_KNN', 'StackerEnsembleModel_NNFastAiTabular', 'StackerEnsembleModel_CatBoost', 'StackerEnsembleModel_RF'}\n",
      "Bagging used: True  (with 8 folds)\n",
      "Multi-layer stack-ensembling used: True  (with 3 levels)\n",
      "Feature Metadata (Processed):\n",
      "(raw dtype, special dtypes):\n",
      "('category', [])             : 2 | ['season', 'weather']\n",
      "('float', [])                : 3 | ['temp', 'atemp', 'windspeed']\n",
      "('int', [])                  : 4 | ['humidity', 'hour', 'day', 'month']\n",
      "('int', ['bool'])            : 2 | ['holiday', 'workingday']\n",
      "('int', ['datetime_as_int']) : 5 | ['datetime', 'datetime.year', 'datetime.month', 'datetime.day', 'datetime.dayofweek']\n",
      "Plot summary of models saved to file: AutogluonModels/ag-20220713_205845/SummaryOfModels.html\n",
      "*** End of fit() summary ***\n"
     ]
    },
    {
     "data": {
      "text/plain": [
       "{'model_types': {'KNeighborsUnif_BAG_L1': 'StackerEnsembleModel_KNN',\n",
       "  'KNeighborsDist_BAG_L1': 'StackerEnsembleModel_KNN',\n",
       "  'LightGBMXT_BAG_L1': 'StackerEnsembleModel_LGB',\n",
       "  'LightGBM_BAG_L1': 'StackerEnsembleModel_LGB',\n",
       "  'RandomForestMSE_BAG_L1': 'StackerEnsembleModel_RF',\n",
       "  'CatBoost_BAG_L1': 'StackerEnsembleModel_CatBoost',\n",
       "  'ExtraTreesMSE_BAG_L1': 'StackerEnsembleModel_XT',\n",
       "  'NeuralNetFastAI_BAG_L1': 'StackerEnsembleModel_NNFastAiTabular',\n",
       "  'WeightedEnsemble_L2': 'WeightedEnsembleModel',\n",
       "  'LightGBMXT_BAG_L2': 'StackerEnsembleModel_LGB',\n",
       "  'LightGBM_BAG_L2': 'StackerEnsembleModel_LGB',\n",
       "  'RandomForestMSE_BAG_L2': 'StackerEnsembleModel_RF',\n",
       "  'CatBoost_BAG_L2': 'StackerEnsembleModel_CatBoost',\n",
       "  'ExtraTreesMSE_BAG_L2': 'StackerEnsembleModel_XT',\n",
       "  'NeuralNetFastAI_BAG_L2': 'StackerEnsembleModel_NNFastAiTabular',\n",
       "  'WeightedEnsemble_L3': 'WeightedEnsembleModel'},\n",
       " 'model_performance': {'KNeighborsUnif_BAG_L1': -101.54619908446061,\n",
       "  'KNeighborsDist_BAG_L1': -84.12506123181602,\n",
       "  'LightGBMXT_BAG_L1': -34.520779536614505,\n",
       "  'LightGBM_BAG_L1': -33.916920183145294,\n",
       "  'RandomForestMSE_BAG_L1': -38.40417617363083,\n",
       "  'CatBoost_BAG_L1': -33.55518771701756,\n",
       "  'ExtraTreesMSE_BAG_L1': -38.136092853992395,\n",
       "  'NeuralNetFastAI_BAG_L1': -56.602845687934895,\n",
       "  'WeightedEnsemble_L2': -32.07214397807813,\n",
       "  'LightGBMXT_BAG_L2': -31.41629229553673,\n",
       "  'LightGBM_BAG_L2': -30.647165116803613,\n",
       "  'RandomForestMSE_BAG_L2': -31.78834957243272,\n",
       "  'CatBoost_BAG_L2': -30.268763946867022,\n",
       "  'ExtraTreesMSE_BAG_L2': -31.438476481748165,\n",
       "  'NeuralNetFastAI_BAG_L2': -30.89716532314009,\n",
       "  'WeightedEnsemble_L3': -29.9626369219807},\n",
       " 'model_best': 'WeightedEnsemble_L3',\n",
       " 'model_paths': {'KNeighborsUnif_BAG_L1': 'AutogluonModels/ag-20220713_205845/models/KNeighborsUnif_BAG_L1/',\n",
       "  'KNeighborsDist_BAG_L1': 'AutogluonModels/ag-20220713_205845/models/KNeighborsDist_BAG_L1/',\n",
       "  'LightGBMXT_BAG_L1': 'AutogluonModels/ag-20220713_205845/models/LightGBMXT_BAG_L1/',\n",
       "  'LightGBM_BAG_L1': 'AutogluonModels/ag-20220713_205845/models/LightGBM_BAG_L1/',\n",
       "  'RandomForestMSE_BAG_L1': 'AutogluonModels/ag-20220713_205845/models/RandomForestMSE_BAG_L1/',\n",
       "  'CatBoost_BAG_L1': 'AutogluonModels/ag-20220713_205845/models/CatBoost_BAG_L1/',\n",
       "  'ExtraTreesMSE_BAG_L1': 'AutogluonModels/ag-20220713_205845/models/ExtraTreesMSE_BAG_L1/',\n",
       "  'NeuralNetFastAI_BAG_L1': 'AutogluonModels/ag-20220713_205845/models/NeuralNetFastAI_BAG_L1/',\n",
       "  'WeightedEnsemble_L2': 'AutogluonModels/ag-20220713_205845/models/WeightedEnsemble_L2/',\n",
       "  'LightGBMXT_BAG_L2': 'AutogluonModels/ag-20220713_205845/models/LightGBMXT_BAG_L2/',\n",
       "  'LightGBM_BAG_L2': 'AutogluonModels/ag-20220713_205845/models/LightGBM_BAG_L2/',\n",
       "  'RandomForestMSE_BAG_L2': 'AutogluonModels/ag-20220713_205845/models/RandomForestMSE_BAG_L2/',\n",
       "  'CatBoost_BAG_L2': 'AutogluonModels/ag-20220713_205845/models/CatBoost_BAG_L2/',\n",
       "  'ExtraTreesMSE_BAG_L2': 'AutogluonModels/ag-20220713_205845/models/ExtraTreesMSE_BAG_L2/',\n",
       "  'NeuralNetFastAI_BAG_L2': 'AutogluonModels/ag-20220713_205845/models/NeuralNetFastAI_BAG_L2/',\n",
       "  'WeightedEnsemble_L3': 'AutogluonModels/ag-20220713_205845/models/WeightedEnsemble_L3/'},\n",
       " 'model_fit_times': {'KNeighborsUnif_BAG_L1': 0.0637807846069336,\n",
       "  'KNeighborsDist_BAG_L1': 0.035042524337768555,\n",
       "  'LightGBMXT_BAG_L1': 105.42151379585266,\n",
       "  'LightGBM_BAG_L1': 42.686394691467285,\n",
       "  'RandomForestMSE_BAG_L1': 13.453442573547363,\n",
       "  'CatBoost_BAG_L1': 350.97772455215454,\n",
       "  'ExtraTreesMSE_BAG_L1': 6.143197774887085,\n",
       "  'NeuralNetFastAI_BAG_L1': 73.15518164634705,\n",
       "  'WeightedEnsemble_L2': 0.5245270729064941,\n",
       "  'LightGBMXT_BAG_L2': 26.919820070266724,\n",
       "  'LightGBM_BAG_L2': 23.331236839294434,\n",
       "  'RandomForestMSE_BAG_L2': 32.85755753517151,\n",
       "  'CatBoost_BAG_L2': 137.94829845428467,\n",
       "  'ExtraTreesMSE_BAG_L2': 10.621371030807495,\n",
       "  'NeuralNetFastAI_BAG_L2': 51.901869773864746,\n",
       "  'WeightedEnsemble_L3': 0.6992158889770508},\n",
       " 'model_pred_times': {'KNeighborsUnif_BAG_L1': 0.10289120674133301,\n",
       "  'KNeighborsDist_BAG_L1': 0.10411834716796875,\n",
       "  'LightGBMXT_BAG_L1': 13.533851385116577,\n",
       "  'LightGBM_BAG_L1': 3.807002544403076,\n",
       "  'RandomForestMSE_BAG_L1': 0.5592026710510254,\n",
       "  'CatBoost_BAG_L1': 0.30097413063049316,\n",
       "  'ExtraTreesMSE_BAG_L1': 0.5468873977661133,\n",
       "  'NeuralNetFastAI_BAG_L1': 0.5480601787567139,\n",
       "  'WeightedEnsemble_L2': 0.0010216236114501953,\n",
       "  'LightGBMXT_BAG_L2': 0.7689580917358398,\n",
       "  'LightGBM_BAG_L2': 0.2596008777618408,\n",
       "  'RandomForestMSE_BAG_L2': 0.6209502220153809,\n",
       "  'CatBoost_BAG_L2': 0.144514799118042,\n",
       "  'ExtraTreesMSE_BAG_L2': 0.6042368412017822,\n",
       "  'NeuralNetFastAI_BAG_L2': 0.5599117279052734,\n",
       "  'WeightedEnsemble_L3': 0.0012056827545166016},\n",
       " 'num_bag_folds': 8,\n",
       " 'max_stack_level': 3,\n",
       " 'model_hyperparams': {'KNeighborsUnif_BAG_L1': {'use_orig_features': True,\n",
       "   'max_base_models': 25,\n",
       "   'max_base_models_per_type': 5,\n",
       "   'save_bag_folds': True,\n",
       "   'use_child_oof': True},\n",
       "  'KNeighborsDist_BAG_L1': {'use_orig_features': True,\n",
       "   'max_base_models': 25,\n",
       "   'max_base_models_per_type': 5,\n",
       "   'save_bag_folds': True,\n",
       "   'use_child_oof': True},\n",
       "  'LightGBMXT_BAG_L1': {'use_orig_features': True,\n",
       "   'max_base_models': 25,\n",
       "   'max_base_models_per_type': 5,\n",
       "   'save_bag_folds': True},\n",
       "  'LightGBM_BAG_L1': {'use_orig_features': True,\n",
       "   'max_base_models': 25,\n",
       "   'max_base_models_per_type': 5,\n",
       "   'save_bag_folds': True},\n",
       "  'RandomForestMSE_BAG_L1': {'use_orig_features': True,\n",
       "   'max_base_models': 25,\n",
       "   'max_base_models_per_type': 5,\n",
       "   'save_bag_folds': True,\n",
       "   'use_child_oof': True},\n",
       "  'CatBoost_BAG_L1': {'use_orig_features': True,\n",
       "   'max_base_models': 25,\n",
       "   'max_base_models_per_type': 5,\n",
       "   'save_bag_folds': True},\n",
       "  'ExtraTreesMSE_BAG_L1': {'use_orig_features': True,\n",
       "   'max_base_models': 25,\n",
       "   'max_base_models_per_type': 5,\n",
       "   'save_bag_folds': True,\n",
       "   'use_child_oof': True},\n",
       "  'NeuralNetFastAI_BAG_L1': {'use_orig_features': True,\n",
       "   'max_base_models': 25,\n",
       "   'max_base_models_per_type': 5,\n",
       "   'save_bag_folds': True},\n",
       "  'WeightedEnsemble_L2': {'use_orig_features': False,\n",
       "   'max_base_models': 25,\n",
       "   'max_base_models_per_type': 5,\n",
       "   'save_bag_folds': True},\n",
       "  'LightGBMXT_BAG_L2': {'use_orig_features': True,\n",
       "   'max_base_models': 25,\n",
       "   'max_base_models_per_type': 5,\n",
       "   'save_bag_folds': True},\n",
       "  'LightGBM_BAG_L2': {'use_orig_features': True,\n",
       "   'max_base_models': 25,\n",
       "   'max_base_models_per_type': 5,\n",
       "   'save_bag_folds': True},\n",
       "  'RandomForestMSE_BAG_L2': {'use_orig_features': True,\n",
       "   'max_base_models': 25,\n",
       "   'max_base_models_per_type': 5,\n",
       "   'save_bag_folds': True,\n",
       "   'use_child_oof': True},\n",
       "  'CatBoost_BAG_L2': {'use_orig_features': True,\n",
       "   'max_base_models': 25,\n",
       "   'max_base_models_per_type': 5,\n",
       "   'save_bag_folds': True},\n",
       "  'ExtraTreesMSE_BAG_L2': {'use_orig_features': True,\n",
       "   'max_base_models': 25,\n",
       "   'max_base_models_per_type': 5,\n",
       "   'save_bag_folds': True,\n",
       "   'use_child_oof': True},\n",
       "  'NeuralNetFastAI_BAG_L2': {'use_orig_features': True,\n",
       "   'max_base_models': 25,\n",
       "   'max_base_models_per_type': 5,\n",
       "   'save_bag_folds': True},\n",
       "  'WeightedEnsemble_L3': {'use_orig_features': False,\n",
       "   'max_base_models': 25,\n",
       "   'max_base_models_per_type': 5,\n",
       "   'save_bag_folds': True}},\n",
       " 'leaderboard':                      model   score_val  pred_time_val    fit_time  \\\n",
       " 0      WeightedEnsemble_L3  -29.962637      20.468221  805.816899   \n",
       " 1          CatBoost_BAG_L2  -30.268764      19.647503  729.884577   \n",
       " 2          LightGBM_BAG_L2  -30.647165      19.762589  615.267515   \n",
       " 3   NeuralNetFastAI_BAG_L2  -30.897165      20.062900  643.838148   \n",
       " 4        LightGBMXT_BAG_L2  -31.416292      20.271946  618.856098   \n",
       " 5     ExtraTreesMSE_BAG_L2  -31.438476      20.107225  602.557649   \n",
       " 6   RandomForestMSE_BAG_L2  -31.788350      20.123938  624.793836   \n",
       " 7      WeightedEnsemble_L2  -32.072144      18.853058  519.241843   \n",
       " 8          CatBoost_BAG_L1  -33.555188       0.300974  350.977725   \n",
       " 9          LightGBM_BAG_L1  -33.916920       3.807003   42.686395   \n",
       " 10       LightGBMXT_BAG_L1  -34.520780      13.533851  105.421514   \n",
       " 11    ExtraTreesMSE_BAG_L1  -38.136093       0.546887    6.143198   \n",
       " 12  RandomForestMSE_BAG_L1  -38.404176       0.559203   13.453443   \n",
       " 13  NeuralNetFastAI_BAG_L1  -56.602846       0.548060   73.155182   \n",
       " 14   KNeighborsDist_BAG_L1  -84.125061       0.104118    0.035043   \n",
       " 15   KNeighborsUnif_BAG_L1 -101.546199       0.102891    0.063781   \n",
       " \n",
       "     pred_time_val_marginal  fit_time_marginal  stack_level  can_infer  \\\n",
       " 0                 0.001206           0.699216            3       True   \n",
       " 1                 0.144515         137.948298            2       True   \n",
       " 2                 0.259601          23.331237            2       True   \n",
       " 3                 0.559912          51.901870            2       True   \n",
       " 4                 0.768958          26.919820            2       True   \n",
       " 5                 0.604237          10.621371            2       True   \n",
       " 6                 0.620950          32.857558            2       True   \n",
       " 7                 0.001022           0.524527            2       True   \n",
       " 8                 0.300974         350.977725            1       True   \n",
       " 9                 3.807003          42.686395            1       True   \n",
       " 10               13.533851         105.421514            1       True   \n",
       " 11                0.546887           6.143198            1       True   \n",
       " 12                0.559203          13.453443            1       True   \n",
       " 13                0.548060          73.155182            1       True   \n",
       " 14                0.104118           0.035043            1       True   \n",
       " 15                0.102891           0.063781            1       True   \n",
       " \n",
       "     fit_order  \n",
       " 0          16  \n",
       " 1          13  \n",
       " 2          11  \n",
       " 3          15  \n",
       " 4          10  \n",
       " 5          14  \n",
       " 6          12  \n",
       " 7           9  \n",
       " 8           6  \n",
       " 9           4  \n",
       " 10          3  \n",
       " 11          7  \n",
       " 12          5  \n",
       " 13          8  \n",
       " 14          2  \n",
       " 15          1  }"
      ]
     },
     "execution_count": 50,
     "metadata": {},
     "output_type": "execute_result"
    }
   ],
   "source": [
    "predictor_new_hpo.fit_summary()"
   ]
  },
  {
   "cell_type": "code",
   "execution_count": null,
   "metadata": {
    "execution": {
     "iopub.execute_input": "2022-07-13T18:17:16.001889Z",
     "iopub.status.busy": "2022-07-13T18:17:16.001391Z",
     "iopub.status.idle": "2022-07-13T18:17:50.269598Z",
     "shell.execute_reply": "2022-07-13T18:17:50.268350Z",
     "shell.execute_reply.started": "2022-07-13T18:17:16.001856Z"
    }
   },
   "outputs": [],
   "source": [
    "# predict on the test data set\n",
    "predictions_new_hpo = pd.Series(predictor_new_hpo.predict(test))"
   ]
  },
  {
   "cell_type": "code",
   "execution_count": null,
   "metadata": {
    "execution": {
     "iopub.execute_input": "2022-07-13T18:17:50.272813Z",
     "iopub.status.busy": "2022-07-13T18:17:50.271994Z",
     "iopub.status.idle": "2022-07-13T18:17:50.280291Z",
     "shell.execute_reply": "2022-07-13T18:17:50.278763Z",
     "shell.execute_reply.started": "2022-07-13T18:17:50.272762Z"
    }
   },
   "outputs": [],
   "source": [
    "# How many negative values do we have?\n",
    "print(\"We have {} negative values\".format(len(predictions_new_hpo[predictions_new_hpo < 0])))"
   ]
  },
  {
   "cell_type": "code",
   "execution_count": null,
   "metadata": {
    "execution": {
     "iopub.execute_input": "2022-07-13T18:17:50.282566Z",
     "iopub.status.busy": "2022-07-13T18:17:50.281924Z",
     "iopub.status.idle": "2022-07-13T18:17:50.308124Z",
     "shell.execute_reply": "2022-07-13T18:17:50.306869Z",
     "shell.execute_reply.started": "2022-07-13T18:17:50.282523Z"
    }
   },
   "outputs": [],
   "source": [
    "submission_new_hpo = submission.copy()\n",
    "submission_new_hpo[\"count\"] = predictions_new_hpo\n",
    "# Set them to zero\n",
    "submission_new_hpo[\"count\"] = submission_new_hpo[\"count\"].apply(lambda x : 0 if (x < 0 ) else x)\n",
    "submission_new_hpo.head()"
   ]
  },
  {
   "cell_type": "code",
   "execution_count": 48,
   "metadata": {
    "execution": {
     "iopub.execute_input": "2022-07-13T18:18:01.456251Z",
     "iopub.status.busy": "2022-07-13T18:18:01.454956Z",
     "iopub.status.idle": "2022-07-13T18:18:01.481260Z",
     "shell.execute_reply": "2022-07-13T18:18:01.480031Z",
     "shell.execute_reply.started": "2022-07-13T18:18:01.456186Z"
    }
   },
   "outputs": [],
   "source": [
    "# Same submitting predictions\n",
    "submission_new_hpo.to_csv(\"submission_new_hpo.csv\", index=False)"
   ]
  },
  {
   "cell_type": "code",
   "execution_count": 49,
   "metadata": {
    "execution": {
     "iopub.execute_input": "2022-07-13T18:18:03.069288Z",
     "iopub.status.busy": "2022-07-13T18:18:03.068348Z",
     "iopub.status.idle": "2022-07-13T18:18:08.244312Z",
     "shell.execute_reply": "2022-07-13T18:18:08.242983Z",
     "shell.execute_reply.started": "2022-07-13T18:18:03.069239Z"
    }
   },
   "outputs": [],
   "source": [
    "!kaggle competitions submit -c bike-sharing-demand -f submission_new_hpo.csv -m \"new features with hyperparameters\""
   ]
  },
  {
   "cell_type": "code",
   "execution_count": null,
   "metadata": {
    "execution": {
     "iopub.execute_input": "2022-07-13T18:18:11.766470Z",
     "iopub.status.busy": "2022-07-13T18:18:11.765977Z",
     "iopub.status.idle": "2022-07-13T18:18:13.413620Z",
     "shell.execute_reply": "2022-07-13T18:18:13.412109Z",
     "shell.execute_reply.started": "2022-07-13T18:18:11.766433Z"
    }
   },
   "outputs": [],
   "source": [
    "!kaggle competitions submissions -c bike-sharing-demand | tail -n +1 | head -n 6"
   ]
  },
  {
   "cell_type": "markdown",
   "metadata": {},
   "source": [
    "#### New Score of 0.45967"
   ]
  },
  {
   "cell_type": "markdown",
   "metadata": {},
   "source": [
    "## Step 7: Write a Report\n",
    "### Refer to the markdown file for the full report\n",
    "### Creating plots and table for report"
   ]
  },
  {
   "cell_type": "code",
   "execution_count": null,
   "metadata": {
    "execution": {
     "iopub.status.busy": "2022-07-13T13:06:47.248804Z",
     "iopub.status.idle": "2022-07-13T13:06:47.250255Z",
     "shell.execute_reply": "2022-07-13T13:06:47.249929Z",
     "shell.execute_reply.started": "2022-07-13T13:06:47.249894Z"
    }
   },
   "outputs": [],
   "source": [
    "# Taking the top model score from each training run and creating a line plot to show improvement\n",
    "# You can create these in the notebook and save them to PNG or use some other tool (e.g. google sheets, excel)\n",
    "fig = pd.DataFrame(\n",
    "    {\n",
    "        \"model\": [\"initial\", \"add_features\", \"hpo\"],\n",
    "        \"score\": [?, 0.30211978, 0.29962637]\n",
    "    }\n",
    ").plot(x=\"model\", y=\"score\", figsize=(8, 6)).get_figure()\n",
    "fig.savefig('model_train_score.png')"
   ]
  },
  {
   "cell_type": "code",
   "execution_count": 51,
   "metadata": {
    "execution": {
     "iopub.execute_input": "2022-07-13T18:18:50.766645Z",
     "iopub.status.busy": "2022-07-13T18:18:50.766139Z",
     "iopub.status.idle": "2022-07-13T18:18:51.037559Z",
     "shell.execute_reply": "2022-07-13T18:18:51.035891Z",
     "shell.execute_reply.started": "2022-07-13T18:18:50.766596Z"
    }
   },
   "outputs": [],
   "source": [
    "# Take the 3 kaggle scores and creating a line plot to show improvement\n",
    "fig = pd.DataFrame(\n",
    "    {\n",
    "        \"test_eval\": [\"initial\", \"add_features\", \"hpo\"],\n",
    "        \"score\": [1.80657, 0.45996, 0.45967]\n",
    "    }\n",
    ").plot(x=\"test_eval\", y=\"score\", figsize=(8, 6)).get_figure()\n",
    "fig.savefig('model_test_score.png')"
   ]
  },
  {
   "cell_type": "markdown",
   "metadata": {},
   "source": [
    "### Hyperparameter table"
   ]
  },
  {
   "cell_type": "code",
   "execution_count": 54,
   "metadata": {
    "execution": {
     "iopub.execute_input": "2022-07-13T18:20:05.410953Z",
     "iopub.status.busy": "2022-07-13T18:20:05.410364Z",
     "iopub.status.idle": "2022-07-13T18:20:05.432450Z",
     "shell.execute_reply": "2022-07-13T18:20:05.431084Z",
     "shell.execute_reply.started": "2022-07-13T18:20:05.410908Z"
    }
   },
   "outputs": [],
   "source": [
    "# The 3 hyperparameters we tuned with the kaggle score as the result\n",
    "pd.DataFrame({\n",
    "    \"model\": [\"initial\", \"add_features\", \"hpo\"],\n",
    "    \"hpo1\": ['label', 'time_limit', 'presets'],\n",
    "    \"hpo2\": ['label', 'time_limit', 'presets'],\n",
    "    \"hpo3\": ['eval_metric', 'problem_typ', 'presets'],\n",
    "    \"score\": [1.80657, 0.45996,0.45967]\n",
    "})\n"
   ]
  }
 ],
 "metadata": {
  "instance_type": "ml.t3.medium",
  "kernelspec": {
   "display_name": "Python 3 (MXNet 1.8 Python 3.7 CPU Optimized)",
   "language": "python",
   "name": "python3__SAGEMAKER_INTERNAL__arn:aws:sagemaker:us-east-1:081325390199:image/mxnet-1.8-cpu-py37-ubuntu16.04-v1"
  },
  "language_info": {
   "codemirror_mode": {
    "name": "ipython",
    "version": 3
   },
   "file_extension": ".py",
   "mimetype": "text/x-python",
   "name": "python",
   "nbconvert_exporter": "python",
   "pygments_lexer": "ipython3",
   "version": "3.7.10"
  }
 },
 "nbformat": 4,
 "nbformat_minor": 4
}
